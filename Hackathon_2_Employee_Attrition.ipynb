{
  "nbformat": 4,
  "nbformat_minor": 0,
  "metadata": {
    "colab": {
      "name": "Hackathon_2_Employee_Attrition.ipynb",
      "provenance": [],
      "collapsed_sections": [
        "yupx1_tBpN9K"
      ],
      "include_colab_link": true
    },
    "kernelspec": {
      "name": "python3",
      "display_name": "Python 3"
    },
    "language_info": {
      "name": "python"
    }
  },
  "cells": [
    {
      "cell_type": "markdown",
      "metadata": {
        "id": "view-in-github",
        "colab_type": "text"
      },
      "source": [
        "<a href=\"https://colab.research.google.com/github/Hariharan-Vengadasubramanian/ML-Hackathon/blob/main/Hackathon_2_Employee_Attrition.ipynb\" target=\"_parent\"><img src=\"https://colab.research.google.com/assets/colab-badge.svg\" alt=\"Open In Colab\"/></a>"
      ]
    },
    {
      "cell_type": "markdown",
      "metadata": {
        "id": "Bz47UseFbTdH"
      },
      "source": [
        "# Objective - Build a Model to predict Employee attrition. \n",
        "Prediction - Classification problem.\n",
        "Steps-\n",
        "1. Read Train and test data\n",
        "\n",
        "2. Data pre-processing - generate new features and clean-up data\n",
        "\n",
        "3. EDA - exploratory data analysis and see relation\n",
        "\n",
        "4. Feature selection using Information gain and Chi-quared test\n",
        "\n",
        "5. Model - \n",
        "as Number of Samples less than 100K, Logistic regression or Linear SVC will be good. "
      ]
    },
    {
      "cell_type": "code",
      "metadata": {
        "id": "IVo-Zw-BFSKB",
        "colab": {
          "base_uri": "https://localhost:8080/"
        },
        "outputId": "495a7cf3-5a3e-4525-e3db-fff3a5adf885"
      },
      "source": [
        "import numpy as np\n",
        "import pandas as pd\n",
        "import matplotlib.pyplot as plt\n",
        "import seaborn as sns\n",
        "import statsmodels.api as sm\n",
        "%matplotlib inline"
      ],
      "execution_count": null,
      "outputs": [
        {
          "output_type": "stream",
          "name": "stderr",
          "text": [
            "/usr/local/lib/python3.7/dist-packages/statsmodels/tools/_testing.py:19: FutureWarning: pandas.util.testing is deprecated. Use the functions in the public API at pandas.testing instead.\n",
            "  import pandas.util.testing as tm\n"
          ]
        }
      ]
    },
    {
      "cell_type": "code",
      "metadata": {
        "id": "gWNJEwfQXlik"
      },
      "source": [
        "from sklearn.linear_model import LogisticRegression\n",
        "from sklearn.linear_model import SGDClassifier\n",
        "\n",
        "from sklearn.discriminant_analysis import LinearDiscriminantAnalysis\n",
        "from sklearn.discriminant_analysis import QuadraticDiscriminantAnalysis\n",
        "\n",
        "from sklearn.svm import LinearSVC\n",
        "\n",
        "from sklearn.neighbors import RadiusNeighborsClassifier\n",
        "\n",
        "from sklearn.naive_bayes import GaussianNB\n",
        "from sklearn.tree import DecisionTreeClassifier\n",
        "\n",
        "from sklearn.metrics import accuracy_score\n",
        "from sklearn.metrics import precision_score\n",
        "from sklearn.metrics import recall_score\n",
        "from sklearn.model_selection import train_test_split"
      ],
      "execution_count": null,
      "outputs": []
    },
    {
      "cell_type": "markdown",
      "metadata": {
        "id": "FtRVdPNDl4Ra"
      },
      "source": [
        "# Read Train file"
      ]
    },
    {
      "cell_type": "code",
      "metadata": {
        "colab": {
          "resources": {
            "http://localhost:8080/nbextensions/google.colab/files.js": {
              "data": "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",
              "ok": true,
              "headers": [
                [
                  "content-type",
                  "application/javascript"
                ]
              ],
              "status": 200,
              "status_text": ""
            }
          },
          "base_uri": "https://localhost:8080/",
          "height": 74
        },
        "id": "EVUPcoBuFT64",
        "outputId": "fce1905e-6cfc-42fd-f085-7f44de093eaa"
      },
      "source": [
        "from google.colab import files\n",
        "uploaded = files.upload()"
      ],
      "execution_count": null,
      "outputs": [
        {
          "output_type": "display_data",
          "data": {
            "text/html": [
              "\n",
              "     <input type=\"file\" id=\"files-bef0f7de-484a-483b-b1d9-a2af77962213\" name=\"files[]\" multiple disabled\n",
              "        style=\"border:none\" />\n",
              "     <output id=\"result-bef0f7de-484a-483b-b1d9-a2af77962213\">\n",
              "      Upload widget is only available when the cell has been executed in the\n",
              "      current browser session. Please rerun this cell to enable.\n",
              "      </output>\n",
              "      <script src=\"/nbextensions/google.colab/files.js\"></script> "
            ],
            "text/plain": [
              "<IPython.core.display.HTML object>"
            ]
          },
          "metadata": {}
        },
        {
          "output_type": "stream",
          "name": "stdout",
          "text": [
            "Saving train_MpHjUjU.csv to train_MpHjUjU.csv\n"
          ]
        }
      ]
    },
    {
      "cell_type": "code",
      "metadata": {
        "id": "uAvYAz6hFXXA"
      },
      "source": [
        "train_data = pd.read_csv(\"train_MpHjUjU.csv\")"
      ],
      "execution_count": null,
      "outputs": []
    },
    {
      "cell_type": "code",
      "metadata": {
        "colab": {
          "base_uri": "https://localhost:8080/"
        },
        "id": "J79SchBDFhtR",
        "outputId": "bae371ca-05a1-4afe-a4dd-9e64bafc1fdf"
      },
      "source": [
        "train_data.info()"
      ],
      "execution_count": null,
      "outputs": [
        {
          "output_type": "stream",
          "name": "stdout",
          "text": [
            "<class 'pandas.core.frame.DataFrame'>\n",
            "RangeIndex: 19104 entries, 0 to 19103\n",
            "Data columns (total 13 columns):\n",
            " #   Column                Non-Null Count  Dtype \n",
            "---  ------                --------------  ----- \n",
            " 0   MMM-YY                19104 non-null  object\n",
            " 1   Emp_ID                19104 non-null  int64 \n",
            " 2   Age                   19104 non-null  int64 \n",
            " 3   Gender                19104 non-null  object\n",
            " 4   City                  19104 non-null  object\n",
            " 5   Education_Level       19104 non-null  object\n",
            " 6   Salary                19104 non-null  int64 \n",
            " 7   Dateofjoining         19104 non-null  object\n",
            " 8   LastWorkingDate       1616 non-null   object\n",
            " 9   Joining Designation   19104 non-null  int64 \n",
            " 10  Designation           19104 non-null  int64 \n",
            " 11  Total Business Value  19104 non-null  int64 \n",
            " 12  Quarterly Rating      19104 non-null  int64 \n",
            "dtypes: int64(7), object(6)\n",
            "memory usage: 1.9+ MB\n"
          ]
        }
      ]
    },
    {
      "cell_type": "markdown",
      "metadata": {
        "id": "fb8ijqjomSK0"
      },
      "source": [
        "# Read Test file "
      ]
    },
    {
      "cell_type": "code",
      "metadata": {
        "colab": {
          "resources": {
            "http://localhost:8080/nbextensions/google.colab/files.js": {
              "data": "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",
              "ok": true,
              "headers": [
                [
                  "content-type",
                  "application/javascript"
                ]
              ],
              "status": 200,
              "status_text": ""
            }
          },
          "base_uri": "https://localhost:8080/",
          "height": 74
        },
        "id": "g8aiTtkhmAew",
        "outputId": "63133d17-9b81-4662-829b-c3b7584adae7"
      },
      "source": [
        "from google.colab import files\n",
        "uploaded = files.upload()"
      ],
      "execution_count": null,
      "outputs": [
        {
          "output_type": "display_data",
          "data": {
            "text/html": [
              "\n",
              "     <input type=\"file\" id=\"files-fa913514-b3ae-46ff-91bf-20f6e8c5ae90\" name=\"files[]\" multiple disabled\n",
              "        style=\"border:none\" />\n",
              "     <output id=\"result-fa913514-b3ae-46ff-91bf-20f6e8c5ae90\">\n",
              "      Upload widget is only available when the cell has been executed in the\n",
              "      current browser session. Please rerun this cell to enable.\n",
              "      </output>\n",
              "      <script src=\"/nbextensions/google.colab/files.js\"></script> "
            ],
            "text/plain": [
              "<IPython.core.display.HTML object>"
            ]
          },
          "metadata": {}
        },
        {
          "output_type": "stream",
          "name": "stdout",
          "text": [
            "Saving test_hXY9mYw.csv to test_hXY9mYw.csv\n"
          ]
        }
      ]
    },
    {
      "cell_type": "code",
      "metadata": {
        "id": "glbekYKHmDeB"
      },
      "source": [
        "test_data = pd.read_csv(\"test_hXY9mYw.csv\")"
      ],
      "execution_count": null,
      "outputs": []
    },
    {
      "cell_type": "code",
      "metadata": {
        "colab": {
          "base_uri": "https://localhost:8080/"
        },
        "id": "VqFvdR0qmFQV",
        "outputId": "423244f3-ab49-4d0f-8667-1b49c6535ede"
      },
      "source": [
        "test_data.info()"
      ],
      "execution_count": null,
      "outputs": [
        {
          "output_type": "stream",
          "name": "stdout",
          "text": [
            "<class 'pandas.core.frame.DataFrame'>\n",
            "RangeIndex: 741 entries, 0 to 740\n",
            "Data columns (total 1 columns):\n",
            " #   Column  Non-Null Count  Dtype\n",
            "---  ------  --------------  -----\n",
            " 0   Emp_ID  741 non-null    int64\n",
            "dtypes: int64(1)\n",
            "memory usage: 5.9 KB\n"
          ]
        }
      ]
    },
    {
      "cell_type": "markdown",
      "metadata": {
        "id": "yupx1_tBpN9K"
      },
      "source": [
        "# Let's do preprocessing of data"
      ]
    },
    {
      "cell_type": "code",
      "metadata": {
        "id": "LmtPCBYYF3Ou"
      },
      "source": [
        "#### Convert MMM-YY and Dateofjoining from type:object to type:Datetime\n",
        "train_data['MMM-YY']=pd.to_datetime(train_data['MMM-YY'],format='%Y-%m-%d')\n",
        "train_data['Dateofjoining']=pd.to_datetime(train_data['Dateofjoining'],format='%Y-%m-%d')\n",
        "train_data['LastWorkingDate']=pd.to_datetime(train_data['LastWorkingDate'],format='%Y-%m-%d')"
      ],
      "execution_count": null,
      "outputs": []
    },
    {
      "cell_type": "code",
      "metadata": {
        "colab": {
          "base_uri": "https://localhost:8080/"
        },
        "id": "1jQ7B6kCH_AA",
        "outputId": "41c82373-bca7-489b-c98c-9821ab97b91d"
      },
      "source": [
        "train_data.info()"
      ],
      "execution_count": null,
      "outputs": [
        {
          "output_type": "stream",
          "name": "stdout",
          "text": [
            "<class 'pandas.core.frame.DataFrame'>\n",
            "RangeIndex: 19104 entries, 0 to 19103\n",
            "Data columns (total 13 columns):\n",
            " #   Column                Non-Null Count  Dtype         \n",
            "---  ------                --------------  -----         \n",
            " 0   MMM-YY                19104 non-null  datetime64[ns]\n",
            " 1   Emp_ID                19104 non-null  int64         \n",
            " 2   Age                   19104 non-null  int64         \n",
            " 3   Gender                19104 non-null  object        \n",
            " 4   City                  19104 non-null  object        \n",
            " 5   Education_Level       19104 non-null  object        \n",
            " 6   Salary                19104 non-null  int64         \n",
            " 7   Dateofjoining         19104 non-null  datetime64[ns]\n",
            " 8   LastWorkingDate       1616 non-null   datetime64[ns]\n",
            " 9   Joining Designation   19104 non-null  int64         \n",
            " 10  Designation           19104 non-null  int64         \n",
            " 11  Total Business Value  19104 non-null  int64         \n",
            " 12  Quarterly Rating      19104 non-null  int64         \n",
            "dtypes: datetime64[ns](3), int64(7), object(3)\n",
            "memory usage: 1.9+ MB\n"
          ]
        }
      ]
    },
    {
      "cell_type": "code",
      "metadata": {
        "id": "NF66Q4UiIXWh"
      },
      "source": [
        "##### Determine difference between current month and date of joining as Month_Worked. This will result in object type of integer\n",
        "train_data['Month_Worked']=train_data['MMM-YY'].dt.to_period('M').astype('int') - train_data['Dateofjoining'].dt.to_period('M').astype('int')\n"
      ],
      "execution_count": null,
      "outputs": []
    },
    {
      "cell_type": "code",
      "metadata": {
        "id": "YPjYnvyQMGw4"
      },
      "source": [
        "##### Convert Month_Worked to int64 type\n",
        "#train_data[\"Month_Worked\"] = pd.to_numeric(train_data[\"Month_Worked\"].dt.days,downcast='integer')\n",
        "### train_data[\"Month_Worked\"] = train_data[\"Month_Worked\"].dt.days.astype('int64') "
      ],
      "execution_count": null,
      "outputs": []
    },
    {
      "cell_type": "code",
      "metadata": {
        "colab": {
          "base_uri": "https://localhost:8080/"
        },
        "id": "QJrrMVr1M502",
        "outputId": "317b600e-f5d4-48e1-81aa-103767b364b5"
      },
      "source": [
        "train_data.info()"
      ],
      "execution_count": null,
      "outputs": [
        {
          "output_type": "stream",
          "name": "stdout",
          "text": [
            "<class 'pandas.core.frame.DataFrame'>\n",
            "RangeIndex: 19104 entries, 0 to 19103\n",
            "Data columns (total 14 columns):\n",
            " #   Column                Non-Null Count  Dtype         \n",
            "---  ------                --------------  -----         \n",
            " 0   MMM-YY                19104 non-null  datetime64[ns]\n",
            " 1   Emp_ID                19104 non-null  int64         \n",
            " 2   Age                   19104 non-null  int64         \n",
            " 3   Gender                19104 non-null  object        \n",
            " 4   City                  19104 non-null  object        \n",
            " 5   Education_Level       19104 non-null  object        \n",
            " 6   Salary                19104 non-null  int64         \n",
            " 7   Dateofjoining         19104 non-null  datetime64[ns]\n",
            " 8   LastWorkingDate       1616 non-null   datetime64[ns]\n",
            " 9   Joining Designation   19104 non-null  int64         \n",
            " 10  Designation           19104 non-null  int64         \n",
            " 11  Total Business Value  19104 non-null  int64         \n",
            " 12  Quarterly Rating      19104 non-null  int64         \n",
            " 13  Month_Worked          19104 non-null  int64         \n",
            "dtypes: datetime64[ns](3), int64(8), object(3)\n",
            "memory usage: 2.0+ MB\n"
          ]
        }
      ]
    },
    {
      "cell_type": "markdown",
      "metadata": {
        "id": "2grN1NR3tADt"
      },
      "source": [
        "Generate TargetVariable. LastWorkingDate is Target Variable. Set those records that got a LastWorkingDate as 1 and for other entries it is 0"
      ]
    },
    {
      "cell_type": "code",
      "metadata": {
        "id": "UgYmPoHeiAvZ"
      },
      "source": [
        "### Set Target Variable Date as 1 or 0 \n",
        "conditions = [\n",
        "              train_data['LastWorkingDate'] > pd.Timestamp(2015,1,1)\n",
        "]\n",
        "choices = [1]\n",
        "train_data['TargetVariable']=np.select(conditions,choices,default=0)"
      ],
      "execution_count": null,
      "outputs": []
    },
    {
      "cell_type": "markdown",
      "metadata": {
        "id": "6u9YlCqgv0R5"
      },
      "source": [
        "New Feature : Promotion and set to 1 if current designation and joining designation are different. Otherwise set it to 0"
      ]
    },
    {
      "cell_type": "code",
      "metadata": {
        "id": "6vMDvJbTu3Mp"
      },
      "source": [
        "### Set Promotion Date as 1 or 0 \n",
        "conditions2 = [\n",
        "              train_data['Joining Designation'] == train_data['Designation']\n",
        "]\n",
        "choices2 = [0]\n",
        "train_data['Promotion']=np.select(conditions2,choices2,default=1)"
      ],
      "execution_count": null,
      "outputs": []
    },
    {
      "cell_type": "code",
      "metadata": {
        "colab": {
          "base_uri": "https://localhost:8080/"
        },
        "id": "TGjieBDASIFo",
        "outputId": "6db979c4-c93c-412a-868d-49fbea55b68c"
      },
      "source": [
        "train_data.head(10)"
      ],
      "execution_count": null,
      "outputs": [
        {
          "output_type": "execute_result",
          "data": {
            "text/html": [
              "<div>\n",
              "<style scoped>\n",
              "    .dataframe tbody tr th:only-of-type {\n",
              "        vertical-align: middle;\n",
              "    }\n",
              "\n",
              "    .dataframe tbody tr th {\n",
              "        vertical-align: top;\n",
              "    }\n",
              "\n",
              "    .dataframe thead th {\n",
              "        text-align: right;\n",
              "    }\n",
              "</style>\n",
              "<table border=\"1\" class=\"dataframe\">\n",
              "  <thead>\n",
              "    <tr style=\"text-align: right;\">\n",
              "      <th></th>\n",
              "      <th>MMM-YY</th>\n",
              "      <th>Emp_ID</th>\n",
              "      <th>Age</th>\n",
              "      <th>Gender</th>\n",
              "      <th>City</th>\n",
              "      <th>Education_Level</th>\n",
              "      <th>Salary</th>\n",
              "      <th>Dateofjoining</th>\n",
              "      <th>LastWorkingDate</th>\n",
              "      <th>Joining Designation</th>\n",
              "      <th>Designation</th>\n",
              "      <th>Total Business Value</th>\n",
              "      <th>Quarterly Rating</th>\n",
              "      <th>Month_Worked</th>\n",
              "      <th>TargetVariable</th>\n",
              "      <th>Promotion</th>\n",
              "    </tr>\n",
              "  </thead>\n",
              "  <tbody>\n",
              "    <tr>\n",
              "      <th>0</th>\n",
              "      <td>2016-01-01</td>\n",
              "      <td>1</td>\n",
              "      <td>28</td>\n",
              "      <td>Male</td>\n",
              "      <td>C23</td>\n",
              "      <td>Master</td>\n",
              "      <td>57387</td>\n",
              "      <td>2015-12-24</td>\n",
              "      <td>NaT</td>\n",
              "      <td>1</td>\n",
              "      <td>1</td>\n",
              "      <td>2381060</td>\n",
              "      <td>2</td>\n",
              "      <td>1</td>\n",
              "      <td>0</td>\n",
              "      <td>0</td>\n",
              "    </tr>\n",
              "    <tr>\n",
              "      <th>1</th>\n",
              "      <td>2016-02-01</td>\n",
              "      <td>1</td>\n",
              "      <td>28</td>\n",
              "      <td>Male</td>\n",
              "      <td>C23</td>\n",
              "      <td>Master</td>\n",
              "      <td>57387</td>\n",
              "      <td>2015-12-24</td>\n",
              "      <td>NaT</td>\n",
              "      <td>1</td>\n",
              "      <td>1</td>\n",
              "      <td>-665480</td>\n",
              "      <td>2</td>\n",
              "      <td>2</td>\n",
              "      <td>0</td>\n",
              "      <td>0</td>\n",
              "    </tr>\n",
              "    <tr>\n",
              "      <th>2</th>\n",
              "      <td>2016-03-01</td>\n",
              "      <td>1</td>\n",
              "      <td>28</td>\n",
              "      <td>Male</td>\n",
              "      <td>C23</td>\n",
              "      <td>Master</td>\n",
              "      <td>57387</td>\n",
              "      <td>2015-12-24</td>\n",
              "      <td>2016-03-11</td>\n",
              "      <td>1</td>\n",
              "      <td>1</td>\n",
              "      <td>0</td>\n",
              "      <td>2</td>\n",
              "      <td>3</td>\n",
              "      <td>1</td>\n",
              "      <td>0</td>\n",
              "    </tr>\n",
              "    <tr>\n",
              "      <th>3</th>\n",
              "      <td>2017-11-01</td>\n",
              "      <td>2</td>\n",
              "      <td>31</td>\n",
              "      <td>Male</td>\n",
              "      <td>C7</td>\n",
              "      <td>Master</td>\n",
              "      <td>67016</td>\n",
              "      <td>2017-11-06</td>\n",
              "      <td>NaT</td>\n",
              "      <td>2</td>\n",
              "      <td>2</td>\n",
              "      <td>0</td>\n",
              "      <td>1</td>\n",
              "      <td>0</td>\n",
              "      <td>0</td>\n",
              "      <td>0</td>\n",
              "    </tr>\n",
              "    <tr>\n",
              "      <th>4</th>\n",
              "      <td>2017-12-01</td>\n",
              "      <td>2</td>\n",
              "      <td>31</td>\n",
              "      <td>Male</td>\n",
              "      <td>C7</td>\n",
              "      <td>Master</td>\n",
              "      <td>67016</td>\n",
              "      <td>2017-11-06</td>\n",
              "      <td>NaT</td>\n",
              "      <td>2</td>\n",
              "      <td>2</td>\n",
              "      <td>0</td>\n",
              "      <td>1</td>\n",
              "      <td>1</td>\n",
              "      <td>0</td>\n",
              "      <td>0</td>\n",
              "    </tr>\n",
              "    <tr>\n",
              "      <th>5</th>\n",
              "      <td>2016-12-01</td>\n",
              "      <td>4</td>\n",
              "      <td>43</td>\n",
              "      <td>Male</td>\n",
              "      <td>C13</td>\n",
              "      <td>Master</td>\n",
              "      <td>65603</td>\n",
              "      <td>2016-12-07</td>\n",
              "      <td>NaT</td>\n",
              "      <td>2</td>\n",
              "      <td>2</td>\n",
              "      <td>0</td>\n",
              "      <td>1</td>\n",
              "      <td>0</td>\n",
              "      <td>0</td>\n",
              "      <td>0</td>\n",
              "    </tr>\n",
              "    <tr>\n",
              "      <th>6</th>\n",
              "      <td>2017-01-01</td>\n",
              "      <td>4</td>\n",
              "      <td>43</td>\n",
              "      <td>Male</td>\n",
              "      <td>C13</td>\n",
              "      <td>Master</td>\n",
              "      <td>65603</td>\n",
              "      <td>2016-12-07</td>\n",
              "      <td>NaT</td>\n",
              "      <td>2</td>\n",
              "      <td>2</td>\n",
              "      <td>0</td>\n",
              "      <td>1</td>\n",
              "      <td>1</td>\n",
              "      <td>0</td>\n",
              "      <td>0</td>\n",
              "    </tr>\n",
              "    <tr>\n",
              "      <th>7</th>\n",
              "      <td>2017-02-01</td>\n",
              "      <td>4</td>\n",
              "      <td>43</td>\n",
              "      <td>Male</td>\n",
              "      <td>C13</td>\n",
              "      <td>Master</td>\n",
              "      <td>65603</td>\n",
              "      <td>2016-12-07</td>\n",
              "      <td>NaT</td>\n",
              "      <td>2</td>\n",
              "      <td>2</td>\n",
              "      <td>0</td>\n",
              "      <td>1</td>\n",
              "      <td>2</td>\n",
              "      <td>0</td>\n",
              "      <td>0</td>\n",
              "    </tr>\n",
              "    <tr>\n",
              "      <th>8</th>\n",
              "      <td>2017-03-01</td>\n",
              "      <td>4</td>\n",
              "      <td>43</td>\n",
              "      <td>Male</td>\n",
              "      <td>C13</td>\n",
              "      <td>Master</td>\n",
              "      <td>65603</td>\n",
              "      <td>2016-12-07</td>\n",
              "      <td>NaT</td>\n",
              "      <td>2</td>\n",
              "      <td>2</td>\n",
              "      <td>350000</td>\n",
              "      <td>1</td>\n",
              "      <td>3</td>\n",
              "      <td>0</td>\n",
              "      <td>0</td>\n",
              "    </tr>\n",
              "    <tr>\n",
              "      <th>9</th>\n",
              "      <td>2017-04-01</td>\n",
              "      <td>4</td>\n",
              "      <td>43</td>\n",
              "      <td>Male</td>\n",
              "      <td>C13</td>\n",
              "      <td>Master</td>\n",
              "      <td>65603</td>\n",
              "      <td>2016-12-07</td>\n",
              "      <td>2017-04-27</td>\n",
              "      <td>2</td>\n",
              "      <td>2</td>\n",
              "      <td>0</td>\n",
              "      <td>1</td>\n",
              "      <td>4</td>\n",
              "      <td>1</td>\n",
              "      <td>0</td>\n",
              "    </tr>\n",
              "  </tbody>\n",
              "</table>\n",
              "</div>"
            ],
            "text/plain": [
              "      MMM-YY  Emp_ID  Age  ... Month_Worked TargetVariable Promotion\n",
              "0 2016-01-01       1   28  ...            1              0         0\n",
              "1 2016-02-01       1   28  ...            2              0         0\n",
              "2 2016-03-01       1   28  ...            3              1         0\n",
              "3 2017-11-01       2   31  ...            0              0         0\n",
              "4 2017-12-01       2   31  ...            1              0         0\n",
              "5 2016-12-01       4   43  ...            0              0         0\n",
              "6 2017-01-01       4   43  ...            1              0         0\n",
              "7 2017-02-01       4   43  ...            2              0         0\n",
              "8 2017-03-01       4   43  ...            3              0         0\n",
              "9 2017-04-01       4   43  ...            4              1         0\n",
              "\n",
              "[10 rows x 16 columns]"
            ]
          },
          "metadata": {},
          "execution_count": 16
        }
      ]
    },
    {
      "cell_type": "markdown",
      "metadata": {
        "id": "_2xK85pvSE3M"
      },
      "source": [
        "Convert Quarterly Rating column to type  object and apply One-Hot encoding. This will get us count of each quarterly rating an employee got in his stint.  "
      ]
    },
    {
      "cell_type": "code",
      "metadata": {
        "colab": {
          "base_uri": "https://localhost:8080/"
        },
        "id": "UgPGzl2lMqpL",
        "outputId": "3d450646-df0f-4db2-9c95-3f7e69ce35c4"
      },
      "source": [
        "train_data['Quarterly Rating'].astype('object')"
      ],
      "execution_count": null,
      "outputs": [
        {
          "output_type": "execute_result",
          "data": {
            "text/plain": [
              "0        2\n",
              "1        2\n",
              "2        2\n",
              "3        1\n",
              "4        1\n",
              "        ..\n",
              "19099    3\n",
              "19100    3\n",
              "19101    2\n",
              "19102    2\n",
              "19103    2\n",
              "Name: Quarterly Rating, Length: 19104, dtype: object"
            ]
          },
          "metadata": {},
          "execution_count": 17
        }
      ]
    },
    {
      "cell_type": "code",
      "metadata": {
        "id": "7p7VlbZOM-uq"
      },
      "source": [
        "qtr_rating = pd.get_dummies(train_data['Quarterly Rating'])"
      ],
      "execution_count": null,
      "outputs": []
    },
    {
      "cell_type": "code",
      "metadata": {
        "id": "SOZuZA1dN75j"
      },
      "source": [
        "train1=pd.concat([train_data,qtr_rating],axis=1)"
      ],
      "execution_count": null,
      "outputs": []
    },
    {
      "cell_type": "code",
      "metadata": {
        "colab": {
          "base_uri": "https://localhost:8080/"
        },
        "id": "YlTJkMpTNSmV",
        "outputId": "3bf9bb45-8bc6-46ae-bf83-4e0b80143e63"
      },
      "source": [
        "train1.head(6)"
      ],
      "execution_count": null,
      "outputs": [
        {
          "output_type": "execute_result",
          "data": {
            "text/html": [
              "<div>\n",
              "<style scoped>\n",
              "    .dataframe tbody tr th:only-of-type {\n",
              "        vertical-align: middle;\n",
              "    }\n",
              "\n",
              "    .dataframe tbody tr th {\n",
              "        vertical-align: top;\n",
              "    }\n",
              "\n",
              "    .dataframe thead th {\n",
              "        text-align: right;\n",
              "    }\n",
              "</style>\n",
              "<table border=\"1\" class=\"dataframe\">\n",
              "  <thead>\n",
              "    <tr style=\"text-align: right;\">\n",
              "      <th></th>\n",
              "      <th>MMM-YY</th>\n",
              "      <th>Emp_ID</th>\n",
              "      <th>Age</th>\n",
              "      <th>Gender</th>\n",
              "      <th>City</th>\n",
              "      <th>Education_Level</th>\n",
              "      <th>Salary</th>\n",
              "      <th>Dateofjoining</th>\n",
              "      <th>LastWorkingDate</th>\n",
              "      <th>Joining Designation</th>\n",
              "      <th>Designation</th>\n",
              "      <th>Total Business Value</th>\n",
              "      <th>Quarterly Rating</th>\n",
              "      <th>Month_Worked</th>\n",
              "      <th>TargetVariable</th>\n",
              "      <th>Promotion</th>\n",
              "      <th>1</th>\n",
              "      <th>2</th>\n",
              "      <th>3</th>\n",
              "      <th>4</th>\n",
              "    </tr>\n",
              "  </thead>\n",
              "  <tbody>\n",
              "    <tr>\n",
              "      <th>0</th>\n",
              "      <td>2016-01-01</td>\n",
              "      <td>1</td>\n",
              "      <td>28</td>\n",
              "      <td>Male</td>\n",
              "      <td>C23</td>\n",
              "      <td>Master</td>\n",
              "      <td>57387</td>\n",
              "      <td>2015-12-24</td>\n",
              "      <td>NaT</td>\n",
              "      <td>1</td>\n",
              "      <td>1</td>\n",
              "      <td>2381060</td>\n",
              "      <td>2</td>\n",
              "      <td>1</td>\n",
              "      <td>0</td>\n",
              "      <td>0</td>\n",
              "      <td>0</td>\n",
              "      <td>1</td>\n",
              "      <td>0</td>\n",
              "      <td>0</td>\n",
              "    </tr>\n",
              "    <tr>\n",
              "      <th>1</th>\n",
              "      <td>2016-02-01</td>\n",
              "      <td>1</td>\n",
              "      <td>28</td>\n",
              "      <td>Male</td>\n",
              "      <td>C23</td>\n",
              "      <td>Master</td>\n",
              "      <td>57387</td>\n",
              "      <td>2015-12-24</td>\n",
              "      <td>NaT</td>\n",
              "      <td>1</td>\n",
              "      <td>1</td>\n",
              "      <td>-665480</td>\n",
              "      <td>2</td>\n",
              "      <td>2</td>\n",
              "      <td>0</td>\n",
              "      <td>0</td>\n",
              "      <td>0</td>\n",
              "      <td>1</td>\n",
              "      <td>0</td>\n",
              "      <td>0</td>\n",
              "    </tr>\n",
              "    <tr>\n",
              "      <th>2</th>\n",
              "      <td>2016-03-01</td>\n",
              "      <td>1</td>\n",
              "      <td>28</td>\n",
              "      <td>Male</td>\n",
              "      <td>C23</td>\n",
              "      <td>Master</td>\n",
              "      <td>57387</td>\n",
              "      <td>2015-12-24</td>\n",
              "      <td>2016-03-11</td>\n",
              "      <td>1</td>\n",
              "      <td>1</td>\n",
              "      <td>0</td>\n",
              "      <td>2</td>\n",
              "      <td>3</td>\n",
              "      <td>1</td>\n",
              "      <td>0</td>\n",
              "      <td>0</td>\n",
              "      <td>1</td>\n",
              "      <td>0</td>\n",
              "      <td>0</td>\n",
              "    </tr>\n",
              "    <tr>\n",
              "      <th>3</th>\n",
              "      <td>2017-11-01</td>\n",
              "      <td>2</td>\n",
              "      <td>31</td>\n",
              "      <td>Male</td>\n",
              "      <td>C7</td>\n",
              "      <td>Master</td>\n",
              "      <td>67016</td>\n",
              "      <td>2017-11-06</td>\n",
              "      <td>NaT</td>\n",
              "      <td>2</td>\n",
              "      <td>2</td>\n",
              "      <td>0</td>\n",
              "      <td>1</td>\n",
              "      <td>0</td>\n",
              "      <td>0</td>\n",
              "      <td>0</td>\n",
              "      <td>1</td>\n",
              "      <td>0</td>\n",
              "      <td>0</td>\n",
              "      <td>0</td>\n",
              "    </tr>\n",
              "    <tr>\n",
              "      <th>4</th>\n",
              "      <td>2017-12-01</td>\n",
              "      <td>2</td>\n",
              "      <td>31</td>\n",
              "      <td>Male</td>\n",
              "      <td>C7</td>\n",
              "      <td>Master</td>\n",
              "      <td>67016</td>\n",
              "      <td>2017-11-06</td>\n",
              "      <td>NaT</td>\n",
              "      <td>2</td>\n",
              "      <td>2</td>\n",
              "      <td>0</td>\n",
              "      <td>1</td>\n",
              "      <td>1</td>\n",
              "      <td>0</td>\n",
              "      <td>0</td>\n",
              "      <td>1</td>\n",
              "      <td>0</td>\n",
              "      <td>0</td>\n",
              "      <td>0</td>\n",
              "    </tr>\n",
              "    <tr>\n",
              "      <th>5</th>\n",
              "      <td>2016-12-01</td>\n",
              "      <td>4</td>\n",
              "      <td>43</td>\n",
              "      <td>Male</td>\n",
              "      <td>C13</td>\n",
              "      <td>Master</td>\n",
              "      <td>65603</td>\n",
              "      <td>2016-12-07</td>\n",
              "      <td>NaT</td>\n",
              "      <td>2</td>\n",
              "      <td>2</td>\n",
              "      <td>0</td>\n",
              "      <td>1</td>\n",
              "      <td>0</td>\n",
              "      <td>0</td>\n",
              "      <td>0</td>\n",
              "      <td>1</td>\n",
              "      <td>0</td>\n",
              "      <td>0</td>\n",
              "      <td>0</td>\n",
              "    </tr>\n",
              "  </tbody>\n",
              "</table>\n",
              "</div>"
            ],
            "text/plain": [
              "      MMM-YY  Emp_ID  Age Gender City  ... Promotion  1  2  3  4\n",
              "0 2016-01-01       1   28   Male  C23  ...         0  0  1  0  0\n",
              "1 2016-02-01       1   28   Male  C23  ...         0  0  1  0  0\n",
              "2 2016-03-01       1   28   Male  C23  ...         0  0  1  0  0\n",
              "3 2017-11-01       2   31   Male   C7  ...         0  1  0  0  0\n",
              "4 2017-12-01       2   31   Male   C7  ...         0  1  0  0  0\n",
              "5 2016-12-01       4   43   Male  C13  ...         0  1  0  0  0\n",
              "\n",
              "[6 rows x 20 columns]"
            ]
          },
          "metadata": {},
          "execution_count": 20
        }
      ]
    },
    {
      "cell_type": "code",
      "metadata": {
        "id": "EOAjGW8zOVeW"
      },
      "source": [
        "train1.rename(columns = {1:'QR1',2:'QR2',3:'QR3',4:'QR4'}, inplace=True)"
      ],
      "execution_count": null,
      "outputs": []
    },
    {
      "cell_type": "code",
      "metadata": {
        "id": "NRSKY7hSSj0H"
      },
      "source": [
        "### Now drop LastWorkingDate and QUarterly Rating as we already obtained meaningful info\n",
        "train1.drop(['LastWorkingDate','Quarterly Rating'],axis=1,inplace=True)"
      ],
      "execution_count": null,
      "outputs": []
    },
    {
      "cell_type": "code",
      "metadata": {
        "colab": {
          "base_uri": "https://localhost:8080/"
        },
        "id": "bvofUVA_SqCg",
        "outputId": "a921f6d5-4985-41d3-9804-92f71e5d5b5b"
      },
      "source": [
        "train1.head(10)"
      ],
      "execution_count": null,
      "outputs": [
        {
          "output_type": "execute_result",
          "data": {
            "text/html": [
              "<div>\n",
              "<style scoped>\n",
              "    .dataframe tbody tr th:only-of-type {\n",
              "        vertical-align: middle;\n",
              "    }\n",
              "\n",
              "    .dataframe tbody tr th {\n",
              "        vertical-align: top;\n",
              "    }\n",
              "\n",
              "    .dataframe thead th {\n",
              "        text-align: right;\n",
              "    }\n",
              "</style>\n",
              "<table border=\"1\" class=\"dataframe\">\n",
              "  <thead>\n",
              "    <tr style=\"text-align: right;\">\n",
              "      <th></th>\n",
              "      <th>MMM-YY</th>\n",
              "      <th>Emp_ID</th>\n",
              "      <th>Age</th>\n",
              "      <th>Gender</th>\n",
              "      <th>City</th>\n",
              "      <th>Education_Level</th>\n",
              "      <th>Salary</th>\n",
              "      <th>Dateofjoining</th>\n",
              "      <th>Joining Designation</th>\n",
              "      <th>Designation</th>\n",
              "      <th>Total Business Value</th>\n",
              "      <th>Month_Worked</th>\n",
              "      <th>TargetVariable</th>\n",
              "      <th>Promotion</th>\n",
              "      <th>QR1</th>\n",
              "      <th>QR2</th>\n",
              "      <th>QR3</th>\n",
              "      <th>QR4</th>\n",
              "    </tr>\n",
              "  </thead>\n",
              "  <tbody>\n",
              "    <tr>\n",
              "      <th>0</th>\n",
              "      <td>2016-01-01</td>\n",
              "      <td>1</td>\n",
              "      <td>28</td>\n",
              "      <td>Male</td>\n",
              "      <td>C23</td>\n",
              "      <td>Master</td>\n",
              "      <td>57387</td>\n",
              "      <td>2015-12-24</td>\n",
              "      <td>1</td>\n",
              "      <td>1</td>\n",
              "      <td>2381060</td>\n",
              "      <td>1</td>\n",
              "      <td>0</td>\n",
              "      <td>0</td>\n",
              "      <td>0</td>\n",
              "      <td>1</td>\n",
              "      <td>0</td>\n",
              "      <td>0</td>\n",
              "    </tr>\n",
              "    <tr>\n",
              "      <th>1</th>\n",
              "      <td>2016-02-01</td>\n",
              "      <td>1</td>\n",
              "      <td>28</td>\n",
              "      <td>Male</td>\n",
              "      <td>C23</td>\n",
              "      <td>Master</td>\n",
              "      <td>57387</td>\n",
              "      <td>2015-12-24</td>\n",
              "      <td>1</td>\n",
              "      <td>1</td>\n",
              "      <td>-665480</td>\n",
              "      <td>2</td>\n",
              "      <td>0</td>\n",
              "      <td>0</td>\n",
              "      <td>0</td>\n",
              "      <td>1</td>\n",
              "      <td>0</td>\n",
              "      <td>0</td>\n",
              "    </tr>\n",
              "    <tr>\n",
              "      <th>2</th>\n",
              "      <td>2016-03-01</td>\n",
              "      <td>1</td>\n",
              "      <td>28</td>\n",
              "      <td>Male</td>\n",
              "      <td>C23</td>\n",
              "      <td>Master</td>\n",
              "      <td>57387</td>\n",
              "      <td>2015-12-24</td>\n",
              "      <td>1</td>\n",
              "      <td>1</td>\n",
              "      <td>0</td>\n",
              "      <td>3</td>\n",
              "      <td>1</td>\n",
              "      <td>0</td>\n",
              "      <td>0</td>\n",
              "      <td>1</td>\n",
              "      <td>0</td>\n",
              "      <td>0</td>\n",
              "    </tr>\n",
              "    <tr>\n",
              "      <th>3</th>\n",
              "      <td>2017-11-01</td>\n",
              "      <td>2</td>\n",
              "      <td>31</td>\n",
              "      <td>Male</td>\n",
              "      <td>C7</td>\n",
              "      <td>Master</td>\n",
              "      <td>67016</td>\n",
              "      <td>2017-11-06</td>\n",
              "      <td>2</td>\n",
              "      <td>2</td>\n",
              "      <td>0</td>\n",
              "      <td>0</td>\n",
              "      <td>0</td>\n",
              "      <td>0</td>\n",
              "      <td>1</td>\n",
              "      <td>0</td>\n",
              "      <td>0</td>\n",
              "      <td>0</td>\n",
              "    </tr>\n",
              "    <tr>\n",
              "      <th>4</th>\n",
              "      <td>2017-12-01</td>\n",
              "      <td>2</td>\n",
              "      <td>31</td>\n",
              "      <td>Male</td>\n",
              "      <td>C7</td>\n",
              "      <td>Master</td>\n",
              "      <td>67016</td>\n",
              "      <td>2017-11-06</td>\n",
              "      <td>2</td>\n",
              "      <td>2</td>\n",
              "      <td>0</td>\n",
              "      <td>1</td>\n",
              "      <td>0</td>\n",
              "      <td>0</td>\n",
              "      <td>1</td>\n",
              "      <td>0</td>\n",
              "      <td>0</td>\n",
              "      <td>0</td>\n",
              "    </tr>\n",
              "    <tr>\n",
              "      <th>5</th>\n",
              "      <td>2016-12-01</td>\n",
              "      <td>4</td>\n",
              "      <td>43</td>\n",
              "      <td>Male</td>\n",
              "      <td>C13</td>\n",
              "      <td>Master</td>\n",
              "      <td>65603</td>\n",
              "      <td>2016-12-07</td>\n",
              "      <td>2</td>\n",
              "      <td>2</td>\n",
              "      <td>0</td>\n",
              "      <td>0</td>\n",
              "      <td>0</td>\n",
              "      <td>0</td>\n",
              "      <td>1</td>\n",
              "      <td>0</td>\n",
              "      <td>0</td>\n",
              "      <td>0</td>\n",
              "    </tr>\n",
              "    <tr>\n",
              "      <th>6</th>\n",
              "      <td>2017-01-01</td>\n",
              "      <td>4</td>\n",
              "      <td>43</td>\n",
              "      <td>Male</td>\n",
              "      <td>C13</td>\n",
              "      <td>Master</td>\n",
              "      <td>65603</td>\n",
              "      <td>2016-12-07</td>\n",
              "      <td>2</td>\n",
              "      <td>2</td>\n",
              "      <td>0</td>\n",
              "      <td>1</td>\n",
              "      <td>0</td>\n",
              "      <td>0</td>\n",
              "      <td>1</td>\n",
              "      <td>0</td>\n",
              "      <td>0</td>\n",
              "      <td>0</td>\n",
              "    </tr>\n",
              "    <tr>\n",
              "      <th>7</th>\n",
              "      <td>2017-02-01</td>\n",
              "      <td>4</td>\n",
              "      <td>43</td>\n",
              "      <td>Male</td>\n",
              "      <td>C13</td>\n",
              "      <td>Master</td>\n",
              "      <td>65603</td>\n",
              "      <td>2016-12-07</td>\n",
              "      <td>2</td>\n",
              "      <td>2</td>\n",
              "      <td>0</td>\n",
              "      <td>2</td>\n",
              "      <td>0</td>\n",
              "      <td>0</td>\n",
              "      <td>1</td>\n",
              "      <td>0</td>\n",
              "      <td>0</td>\n",
              "      <td>0</td>\n",
              "    </tr>\n",
              "    <tr>\n",
              "      <th>8</th>\n",
              "      <td>2017-03-01</td>\n",
              "      <td>4</td>\n",
              "      <td>43</td>\n",
              "      <td>Male</td>\n",
              "      <td>C13</td>\n",
              "      <td>Master</td>\n",
              "      <td>65603</td>\n",
              "      <td>2016-12-07</td>\n",
              "      <td>2</td>\n",
              "      <td>2</td>\n",
              "      <td>350000</td>\n",
              "      <td>3</td>\n",
              "      <td>0</td>\n",
              "      <td>0</td>\n",
              "      <td>1</td>\n",
              "      <td>0</td>\n",
              "      <td>0</td>\n",
              "      <td>0</td>\n",
              "    </tr>\n",
              "    <tr>\n",
              "      <th>9</th>\n",
              "      <td>2017-04-01</td>\n",
              "      <td>4</td>\n",
              "      <td>43</td>\n",
              "      <td>Male</td>\n",
              "      <td>C13</td>\n",
              "      <td>Master</td>\n",
              "      <td>65603</td>\n",
              "      <td>2016-12-07</td>\n",
              "      <td>2</td>\n",
              "      <td>2</td>\n",
              "      <td>0</td>\n",
              "      <td>4</td>\n",
              "      <td>1</td>\n",
              "      <td>0</td>\n",
              "      <td>1</td>\n",
              "      <td>0</td>\n",
              "      <td>0</td>\n",
              "      <td>0</td>\n",
              "    </tr>\n",
              "  </tbody>\n",
              "</table>\n",
              "</div>"
            ],
            "text/plain": [
              "      MMM-YY  Emp_ID  Age Gender City  ... Promotion  QR1 QR2  QR3  QR4\n",
              "0 2016-01-01       1   28   Male  C23  ...         0    0   1    0    0\n",
              "1 2016-02-01       1   28   Male  C23  ...         0    0   1    0    0\n",
              "2 2016-03-01       1   28   Male  C23  ...         0    0   1    0    0\n",
              "3 2017-11-01       2   31   Male   C7  ...         0    1   0    0    0\n",
              "4 2017-12-01       2   31   Male   C7  ...         0    1   0    0    0\n",
              "5 2016-12-01       4   43   Male  C13  ...         0    1   0    0    0\n",
              "6 2017-01-01       4   43   Male  C13  ...         0    1   0    0    0\n",
              "7 2017-02-01       4   43   Male  C13  ...         0    1   0    0    0\n",
              "8 2017-03-01       4   43   Male  C13  ...         0    1   0    0    0\n",
              "9 2017-04-01       4   43   Male  C13  ...         0    1   0    0    0\n",
              "\n",
              "[10 rows x 18 columns]"
            ]
          },
          "metadata": {},
          "execution_count": 23
        }
      ]
    },
    {
      "cell_type": "markdown",
      "metadata": {
        "id": "kcLfp67_TCmb"
      },
      "source": [
        "Next task is to Consolidate and bring this to one record per emp-id ; \n",
        "keep Categorical variables in a dataframe and keep numerical features in another dataframe;\n",
        "for categorical dataframe - do duplicate removal\n",
        "for numerical dataframe - do groupby sum.\n",
        "This will ensure all details are preserved and we get one record per employee"
      ]
    },
    {
      "cell_type": "markdown",
      "metadata": {
        "id": "nfg22yhyrY0y"
      },
      "source": [
        "We could see multiple duplicate entry for Age. Handle this Feature"
      ]
    },
    {
      "cell_type": "code",
      "metadata": {
        "id": "cBabnQPevnVS"
      },
      "source": [
        "train0_age = train1[['Emp_ID','Age']]\n",
        "train0_cat = train0_age.groupby(['Emp_ID'])['Age'].max()\n",
        "train0_cat = train0_cat.reset_index()"
      ],
      "execution_count": null,
      "outputs": []
    },
    {
      "cell_type": "code",
      "metadata": {
        "colab": {
          "base_uri": "https://localhost:8080/"
        },
        "id": "-MnBNZL6v_K-",
        "outputId": "0c00de16-b678-441d-88c8-d973058d385a"
      },
      "source": [
        "train0_cat.head(10)"
      ],
      "execution_count": null,
      "outputs": [
        {
          "output_type": "execute_result",
          "data": {
            "text/html": [
              "<div>\n",
              "<style scoped>\n",
              "    .dataframe tbody tr th:only-of-type {\n",
              "        vertical-align: middle;\n",
              "    }\n",
              "\n",
              "    .dataframe tbody tr th {\n",
              "        vertical-align: top;\n",
              "    }\n",
              "\n",
              "    .dataframe thead th {\n",
              "        text-align: right;\n",
              "    }\n",
              "</style>\n",
              "<table border=\"1\" class=\"dataframe\">\n",
              "  <thead>\n",
              "    <tr style=\"text-align: right;\">\n",
              "      <th></th>\n",
              "      <th>Emp_ID</th>\n",
              "      <th>Age</th>\n",
              "    </tr>\n",
              "  </thead>\n",
              "  <tbody>\n",
              "    <tr>\n",
              "      <th>0</th>\n",
              "      <td>1</td>\n",
              "      <td>28</td>\n",
              "    </tr>\n",
              "    <tr>\n",
              "      <th>1</th>\n",
              "      <td>2</td>\n",
              "      <td>31</td>\n",
              "    </tr>\n",
              "    <tr>\n",
              "      <th>2</th>\n",
              "      <td>4</td>\n",
              "      <td>43</td>\n",
              "    </tr>\n",
              "    <tr>\n",
              "      <th>3</th>\n",
              "      <td>5</td>\n",
              "      <td>29</td>\n",
              "    </tr>\n",
              "    <tr>\n",
              "      <th>4</th>\n",
              "      <td>6</td>\n",
              "      <td>31</td>\n",
              "    </tr>\n",
              "    <tr>\n",
              "      <th>5</th>\n",
              "      <td>8</td>\n",
              "      <td>34</td>\n",
              "    </tr>\n",
              "    <tr>\n",
              "      <th>6</th>\n",
              "      <td>11</td>\n",
              "      <td>28</td>\n",
              "    </tr>\n",
              "    <tr>\n",
              "      <th>7</th>\n",
              "      <td>12</td>\n",
              "      <td>35</td>\n",
              "    </tr>\n",
              "    <tr>\n",
              "      <th>8</th>\n",
              "      <td>13</td>\n",
              "      <td>31</td>\n",
              "    </tr>\n",
              "    <tr>\n",
              "      <th>9</th>\n",
              "      <td>14</td>\n",
              "      <td>39</td>\n",
              "    </tr>\n",
              "  </tbody>\n",
              "</table>\n",
              "</div>"
            ],
            "text/plain": [
              "   Emp_ID  Age\n",
              "0       1   28\n",
              "1       2   31\n",
              "2       4   43\n",
              "3       5   29\n",
              "4       6   31\n",
              "5       8   34\n",
              "6      11   28\n",
              "7      12   35\n",
              "8      13   31\n",
              "9      14   39"
            ]
          },
          "metadata": {},
          "execution_count": 25
        }
      ]
    },
    {
      "cell_type": "code",
      "metadata": {
        "colab": {
          "base_uri": "https://localhost:8080/"
        },
        "id": "tqMzNSpfSmX5",
        "outputId": "e4dbc36d-a697-40a4-9ad5-e64154e81115"
      },
      "source": [
        "train0_cat.duplicated().sum()"
      ],
      "execution_count": null,
      "outputs": [
        {
          "output_type": "execute_result",
          "data": {
            "text/plain": [
              "0"
            ]
          },
          "metadata": {},
          "execution_count": 26
        }
      ]
    },
    {
      "cell_type": "code",
      "metadata": {
        "id": "UIkIOs98TV5o"
      },
      "source": [
        "#### Copy Select features that are constant for an employee from one dataframe to another\n",
        "train1_cat = train1[['MMM-YY','Emp_ID','Gender','City','Education_Level','Salary','Dateofjoining','Joining Designation','Designation', 'Month_Worked']]"
      ],
      "execution_count": null,
      "outputs": []
    },
    {
      "cell_type": "code",
      "metadata": {
        "colab": {
          "base_uri": "https://localhost:8080/"
        },
        "id": "GNYbXGblbrgT",
        "outputId": "90f2ff2e-8f41-4516-8d58-cfdaa0d1dfd1"
      },
      "source": [
        "train1_cat.head(10)"
      ],
      "execution_count": null,
      "outputs": [
        {
          "output_type": "execute_result",
          "data": {
            "text/html": [
              "<div>\n",
              "<style scoped>\n",
              "    .dataframe tbody tr th:only-of-type {\n",
              "        vertical-align: middle;\n",
              "    }\n",
              "\n",
              "    .dataframe tbody tr th {\n",
              "        vertical-align: top;\n",
              "    }\n",
              "\n",
              "    .dataframe thead th {\n",
              "        text-align: right;\n",
              "    }\n",
              "</style>\n",
              "<table border=\"1\" class=\"dataframe\">\n",
              "  <thead>\n",
              "    <tr style=\"text-align: right;\">\n",
              "      <th></th>\n",
              "      <th>MMM-YY</th>\n",
              "      <th>Emp_ID</th>\n",
              "      <th>Gender</th>\n",
              "      <th>City</th>\n",
              "      <th>Education_Level</th>\n",
              "      <th>Salary</th>\n",
              "      <th>Dateofjoining</th>\n",
              "      <th>Joining Designation</th>\n",
              "      <th>Designation</th>\n",
              "      <th>Month_Worked</th>\n",
              "    </tr>\n",
              "  </thead>\n",
              "  <tbody>\n",
              "    <tr>\n",
              "      <th>0</th>\n",
              "      <td>2016-01-01</td>\n",
              "      <td>1</td>\n",
              "      <td>Male</td>\n",
              "      <td>C23</td>\n",
              "      <td>Master</td>\n",
              "      <td>57387</td>\n",
              "      <td>2015-12-24</td>\n",
              "      <td>1</td>\n",
              "      <td>1</td>\n",
              "      <td>1</td>\n",
              "    </tr>\n",
              "    <tr>\n",
              "      <th>1</th>\n",
              "      <td>2016-02-01</td>\n",
              "      <td>1</td>\n",
              "      <td>Male</td>\n",
              "      <td>C23</td>\n",
              "      <td>Master</td>\n",
              "      <td>57387</td>\n",
              "      <td>2015-12-24</td>\n",
              "      <td>1</td>\n",
              "      <td>1</td>\n",
              "      <td>2</td>\n",
              "    </tr>\n",
              "    <tr>\n",
              "      <th>2</th>\n",
              "      <td>2016-03-01</td>\n",
              "      <td>1</td>\n",
              "      <td>Male</td>\n",
              "      <td>C23</td>\n",
              "      <td>Master</td>\n",
              "      <td>57387</td>\n",
              "      <td>2015-12-24</td>\n",
              "      <td>1</td>\n",
              "      <td>1</td>\n",
              "      <td>3</td>\n",
              "    </tr>\n",
              "    <tr>\n",
              "      <th>3</th>\n",
              "      <td>2017-11-01</td>\n",
              "      <td>2</td>\n",
              "      <td>Male</td>\n",
              "      <td>C7</td>\n",
              "      <td>Master</td>\n",
              "      <td>67016</td>\n",
              "      <td>2017-11-06</td>\n",
              "      <td>2</td>\n",
              "      <td>2</td>\n",
              "      <td>0</td>\n",
              "    </tr>\n",
              "    <tr>\n",
              "      <th>4</th>\n",
              "      <td>2017-12-01</td>\n",
              "      <td>2</td>\n",
              "      <td>Male</td>\n",
              "      <td>C7</td>\n",
              "      <td>Master</td>\n",
              "      <td>67016</td>\n",
              "      <td>2017-11-06</td>\n",
              "      <td>2</td>\n",
              "      <td>2</td>\n",
              "      <td>1</td>\n",
              "    </tr>\n",
              "    <tr>\n",
              "      <th>5</th>\n",
              "      <td>2016-12-01</td>\n",
              "      <td>4</td>\n",
              "      <td>Male</td>\n",
              "      <td>C13</td>\n",
              "      <td>Master</td>\n",
              "      <td>65603</td>\n",
              "      <td>2016-12-07</td>\n",
              "      <td>2</td>\n",
              "      <td>2</td>\n",
              "      <td>0</td>\n",
              "    </tr>\n",
              "    <tr>\n",
              "      <th>6</th>\n",
              "      <td>2017-01-01</td>\n",
              "      <td>4</td>\n",
              "      <td>Male</td>\n",
              "      <td>C13</td>\n",
              "      <td>Master</td>\n",
              "      <td>65603</td>\n",
              "      <td>2016-12-07</td>\n",
              "      <td>2</td>\n",
              "      <td>2</td>\n",
              "      <td>1</td>\n",
              "    </tr>\n",
              "    <tr>\n",
              "      <th>7</th>\n",
              "      <td>2017-02-01</td>\n",
              "      <td>4</td>\n",
              "      <td>Male</td>\n",
              "      <td>C13</td>\n",
              "      <td>Master</td>\n",
              "      <td>65603</td>\n",
              "      <td>2016-12-07</td>\n",
              "      <td>2</td>\n",
              "      <td>2</td>\n",
              "      <td>2</td>\n",
              "    </tr>\n",
              "    <tr>\n",
              "      <th>8</th>\n",
              "      <td>2017-03-01</td>\n",
              "      <td>4</td>\n",
              "      <td>Male</td>\n",
              "      <td>C13</td>\n",
              "      <td>Master</td>\n",
              "      <td>65603</td>\n",
              "      <td>2016-12-07</td>\n",
              "      <td>2</td>\n",
              "      <td>2</td>\n",
              "      <td>3</td>\n",
              "    </tr>\n",
              "    <tr>\n",
              "      <th>9</th>\n",
              "      <td>2017-04-01</td>\n",
              "      <td>4</td>\n",
              "      <td>Male</td>\n",
              "      <td>C13</td>\n",
              "      <td>Master</td>\n",
              "      <td>65603</td>\n",
              "      <td>2016-12-07</td>\n",
              "      <td>2</td>\n",
              "      <td>2</td>\n",
              "      <td>4</td>\n",
              "    </tr>\n",
              "  </tbody>\n",
              "</table>\n",
              "</div>"
            ],
            "text/plain": [
              "      MMM-YY  Emp_ID Gender  ... Joining Designation Designation  Month_Worked\n",
              "0 2016-01-01       1   Male  ...                   1           1             1\n",
              "1 2016-02-01       1   Male  ...                   1           1             2\n",
              "2 2016-03-01       1   Male  ...                   1           1             3\n",
              "3 2017-11-01       2   Male  ...                   2           2             0\n",
              "4 2017-12-01       2   Male  ...                   2           2             1\n",
              "5 2016-12-01       4   Male  ...                   2           2             0\n",
              "6 2017-01-01       4   Male  ...                   2           2             1\n",
              "7 2017-02-01       4   Male  ...                   2           2             2\n",
              "8 2017-03-01       4   Male  ...                   2           2             3\n",
              "9 2017-04-01       4   Male  ...                   2           2             4\n",
              "\n",
              "[10 rows x 10 columns]"
            ]
          },
          "metadata": {},
          "execution_count": 28
        }
      ]
    },
    {
      "cell_type": "code",
      "metadata": {
        "id": "jmyhnqiKb1qe"
      },
      "source": [
        "### do a Max function and get latest working Month record for that Employee. \n",
        "train2_cat = train1_cat.groupby(['Emp_ID','Gender','City','Education_Level','Salary','Dateofjoining','Joining Designation','Designation'])['MMM-YY'].max()\n",
        "train2_cat = train2_cat.reset_index()\n",
        "\n"
      ],
      "execution_count": null,
      "outputs": []
    },
    {
      "cell_type": "code",
      "metadata": {
        "id": "R1VD91JQdxn1"
      },
      "source": [
        "## this fetches all Static data for an employee and one record per employee id and removes duplicate entry\n",
        "train2_cat = train2_cat.drop_duplicates(subset='Emp_ID',keep=\"last\")"
      ],
      "execution_count": null,
      "outputs": []
    },
    {
      "cell_type": "code",
      "metadata": {
        "colab": {
          "base_uri": "https://localhost:8080/"
        },
        "id": "M7IK9sTtTx32",
        "outputId": "a5077539-4602-4a6a-b7fa-1d6a38201293"
      },
      "source": [
        "train2_cat['Emp_ID'].duplicated().sum()"
      ],
      "execution_count": null,
      "outputs": [
        {
          "output_type": "execute_result",
          "data": {
            "text/plain": [
              "0"
            ]
          },
          "metadata": {},
          "execution_count": 31
        }
      ]
    },
    {
      "cell_type": "code",
      "metadata": {
        "id": "h_uF9iHVjGUN"
      },
      "source": [
        "##### Determine difference between current month and date of joining as Month_Worked. This will result in object type of integer\n",
        "train2_cat['Month_Worked']=train2_cat['MMM-YY'].dt.to_period('M').astype('int') - train2_cat['Dateofjoining'].dt.to_period('M').astype('int')\n",
        "\n"
      ],
      "execution_count": null,
      "outputs": []
    },
    {
      "cell_type": "code",
      "metadata": {
        "colab": {
          "base_uri": "https://localhost:8080/"
        },
        "id": "C93htextQbqw",
        "outputId": "aef13d7d-5805-412d-9d77-6ce5bb21104a"
      },
      "source": [
        "train2_cat['Emp_ID'].duplicated().sum()"
      ],
      "execution_count": null,
      "outputs": [
        {
          "output_type": "execute_result",
          "data": {
            "text/plain": [
              "0"
            ]
          },
          "metadata": {},
          "execution_count": 33
        }
      ]
    },
    {
      "cell_type": "code",
      "metadata": {
        "id": "MwyJPFJ0xfj4"
      },
      "source": [
        "### Now merge Age with above data\n",
        "train3_cat = pd.merge(train0_cat,train2_cat,on='Emp_ID')"
      ],
      "execution_count": null,
      "outputs": []
    },
    {
      "cell_type": "code",
      "metadata": {
        "colab": {
          "base_uri": "https://localhost:8080/"
        },
        "id": "tqn8tEKVPAPH",
        "outputId": "4c53052d-e9cf-4e48-b124-08052fedc8df"
      },
      "source": [
        "train3_cat['Emp_ID'].duplicated().sum()"
      ],
      "execution_count": null,
      "outputs": [
        {
          "output_type": "execute_result",
          "data": {
            "text/plain": [
              "0"
            ]
          },
          "metadata": {},
          "execution_count": 35
        }
      ]
    },
    {
      "cell_type": "code",
      "metadata": {
        "id": "Ed2_RudsMxHV"
      },
      "source": [
        "### As we got meaningful info, we can now drop MMM-YY,  Dateofjoining\n",
        "train3_cat.drop(['MMM-YY','Dateofjoining'],axis=1,inplace=True)"
      ],
      "execution_count": null,
      "outputs": []
    },
    {
      "cell_type": "markdown",
      "metadata": {
        "id": "k3iG3cCEsb-e"
      },
      "source": [
        "Let's derive meaningful info on employee work career in the organisation"
      ]
    },
    {
      "cell_type": "code",
      "metadata": {
        "id": "tGUefHvM0Rfv"
      },
      "source": [
        "train4_num = train1[['Emp_ID','Total Business Value','TargetVariable','Promotion','QR1', 'QR2', 'QR3', 'QR4']]"
      ],
      "execution_count": null,
      "outputs": []
    },
    {
      "cell_type": "code",
      "metadata": {
        "colab": {
          "base_uri": "https://localhost:8080/"
        },
        "id": "MoE_V9yE2CzW",
        "outputId": "3604c47f-12b5-48c8-ae49-42ceb89eec62"
      },
      "source": [
        "train4_num.head(10)"
      ],
      "execution_count": null,
      "outputs": [
        {
          "output_type": "execute_result",
          "data": {
            "text/html": [
              "<div>\n",
              "<style scoped>\n",
              "    .dataframe tbody tr th:only-of-type {\n",
              "        vertical-align: middle;\n",
              "    }\n",
              "\n",
              "    .dataframe tbody tr th {\n",
              "        vertical-align: top;\n",
              "    }\n",
              "\n",
              "    .dataframe thead th {\n",
              "        text-align: right;\n",
              "    }\n",
              "</style>\n",
              "<table border=\"1\" class=\"dataframe\">\n",
              "  <thead>\n",
              "    <tr style=\"text-align: right;\">\n",
              "      <th></th>\n",
              "      <th>Emp_ID</th>\n",
              "      <th>Total Business Value</th>\n",
              "      <th>TargetVariable</th>\n",
              "      <th>Promotion</th>\n",
              "      <th>QR1</th>\n",
              "      <th>QR2</th>\n",
              "      <th>QR3</th>\n",
              "      <th>QR4</th>\n",
              "    </tr>\n",
              "  </thead>\n",
              "  <tbody>\n",
              "    <tr>\n",
              "      <th>0</th>\n",
              "      <td>1</td>\n",
              "      <td>2381060</td>\n",
              "      <td>0</td>\n",
              "      <td>0</td>\n",
              "      <td>0</td>\n",
              "      <td>1</td>\n",
              "      <td>0</td>\n",
              "      <td>0</td>\n",
              "    </tr>\n",
              "    <tr>\n",
              "      <th>1</th>\n",
              "      <td>1</td>\n",
              "      <td>-665480</td>\n",
              "      <td>0</td>\n",
              "      <td>0</td>\n",
              "      <td>0</td>\n",
              "      <td>1</td>\n",
              "      <td>0</td>\n",
              "      <td>0</td>\n",
              "    </tr>\n",
              "    <tr>\n",
              "      <th>2</th>\n",
              "      <td>1</td>\n",
              "      <td>0</td>\n",
              "      <td>1</td>\n",
              "      <td>0</td>\n",
              "      <td>0</td>\n",
              "      <td>1</td>\n",
              "      <td>0</td>\n",
              "      <td>0</td>\n",
              "    </tr>\n",
              "    <tr>\n",
              "      <th>3</th>\n",
              "      <td>2</td>\n",
              "      <td>0</td>\n",
              "      <td>0</td>\n",
              "      <td>0</td>\n",
              "      <td>1</td>\n",
              "      <td>0</td>\n",
              "      <td>0</td>\n",
              "      <td>0</td>\n",
              "    </tr>\n",
              "    <tr>\n",
              "      <th>4</th>\n",
              "      <td>2</td>\n",
              "      <td>0</td>\n",
              "      <td>0</td>\n",
              "      <td>0</td>\n",
              "      <td>1</td>\n",
              "      <td>0</td>\n",
              "      <td>0</td>\n",
              "      <td>0</td>\n",
              "    </tr>\n",
              "    <tr>\n",
              "      <th>5</th>\n",
              "      <td>4</td>\n",
              "      <td>0</td>\n",
              "      <td>0</td>\n",
              "      <td>0</td>\n",
              "      <td>1</td>\n",
              "      <td>0</td>\n",
              "      <td>0</td>\n",
              "      <td>0</td>\n",
              "    </tr>\n",
              "    <tr>\n",
              "      <th>6</th>\n",
              "      <td>4</td>\n",
              "      <td>0</td>\n",
              "      <td>0</td>\n",
              "      <td>0</td>\n",
              "      <td>1</td>\n",
              "      <td>0</td>\n",
              "      <td>0</td>\n",
              "      <td>0</td>\n",
              "    </tr>\n",
              "    <tr>\n",
              "      <th>7</th>\n",
              "      <td>4</td>\n",
              "      <td>0</td>\n",
              "      <td>0</td>\n",
              "      <td>0</td>\n",
              "      <td>1</td>\n",
              "      <td>0</td>\n",
              "      <td>0</td>\n",
              "      <td>0</td>\n",
              "    </tr>\n",
              "    <tr>\n",
              "      <th>8</th>\n",
              "      <td>4</td>\n",
              "      <td>350000</td>\n",
              "      <td>0</td>\n",
              "      <td>0</td>\n",
              "      <td>1</td>\n",
              "      <td>0</td>\n",
              "      <td>0</td>\n",
              "      <td>0</td>\n",
              "    </tr>\n",
              "    <tr>\n",
              "      <th>9</th>\n",
              "      <td>4</td>\n",
              "      <td>0</td>\n",
              "      <td>1</td>\n",
              "      <td>0</td>\n",
              "      <td>1</td>\n",
              "      <td>0</td>\n",
              "      <td>0</td>\n",
              "      <td>0</td>\n",
              "    </tr>\n",
              "  </tbody>\n",
              "</table>\n",
              "</div>"
            ],
            "text/plain": [
              "   Emp_ID  Total Business Value  TargetVariable  Promotion  QR1  QR2  QR3  QR4\n",
              "0       1               2381060               0          0    0    1    0    0\n",
              "1       1               -665480               0          0    0    1    0    0\n",
              "2       1                     0               1          0    0    1    0    0\n",
              "3       2                     0               0          0    1    0    0    0\n",
              "4       2                     0               0          0    1    0    0    0\n",
              "5       4                     0               0          0    1    0    0    0\n",
              "6       4                     0               0          0    1    0    0    0\n",
              "7       4                     0               0          0    1    0    0    0\n",
              "8       4                350000               0          0    1    0    0    0\n",
              "9       4                     0               1          0    1    0    0    0"
            ]
          },
          "metadata": {},
          "execution_count": 38
        }
      ]
    },
    {
      "cell_type": "markdown",
      "metadata": {
        "id": "_PhmhVjx2X0-"
      },
      "source": [
        "Sum numeric items at Employee id level"
      ]
    },
    {
      "cell_type": "code",
      "metadata": {
        "id": "jkmRlGpJ07D-"
      },
      "source": [
        "train4_grouped = train4_num.groupby(['Emp_ID']).sum()"
      ],
      "execution_count": null,
      "outputs": []
    },
    {
      "cell_type": "code",
      "metadata": {
        "colab": {
          "base_uri": "https://localhost:8080/"
        },
        "id": "cU8opgk_16mo",
        "outputId": "35d5ab64-ff0f-45b9-e7df-cf37d62ec4ef"
      },
      "source": [
        "train4_grouped.head(10)"
      ],
      "execution_count": null,
      "outputs": [
        {
          "output_type": "execute_result",
          "data": {
            "text/html": [
              "<div>\n",
              "<style scoped>\n",
              "    .dataframe tbody tr th:only-of-type {\n",
              "        vertical-align: middle;\n",
              "    }\n",
              "\n",
              "    .dataframe tbody tr th {\n",
              "        vertical-align: top;\n",
              "    }\n",
              "\n",
              "    .dataframe thead th {\n",
              "        text-align: right;\n",
              "    }\n",
              "</style>\n",
              "<table border=\"1\" class=\"dataframe\">\n",
              "  <thead>\n",
              "    <tr style=\"text-align: right;\">\n",
              "      <th></th>\n",
              "      <th>Total Business Value</th>\n",
              "      <th>TargetVariable</th>\n",
              "      <th>Promotion</th>\n",
              "      <th>QR1</th>\n",
              "      <th>QR2</th>\n",
              "      <th>QR3</th>\n",
              "      <th>QR4</th>\n",
              "    </tr>\n",
              "    <tr>\n",
              "      <th>Emp_ID</th>\n",
              "      <th></th>\n",
              "      <th></th>\n",
              "      <th></th>\n",
              "      <th></th>\n",
              "      <th></th>\n",
              "      <th></th>\n",
              "      <th></th>\n",
              "    </tr>\n",
              "  </thead>\n",
              "  <tbody>\n",
              "    <tr>\n",
              "      <th>1</th>\n",
              "      <td>1715580</td>\n",
              "      <td>1</td>\n",
              "      <td>0</td>\n",
              "      <td>0</td>\n",
              "      <td>3</td>\n",
              "      <td>0</td>\n",
              "      <td>0</td>\n",
              "    </tr>\n",
              "    <tr>\n",
              "      <th>2</th>\n",
              "      <td>0</td>\n",
              "      <td>0</td>\n",
              "      <td>0</td>\n",
              "      <td>2</td>\n",
              "      <td>0</td>\n",
              "      <td>0</td>\n",
              "      <td>0</td>\n",
              "    </tr>\n",
              "    <tr>\n",
              "      <th>4</th>\n",
              "      <td>350000</td>\n",
              "      <td>1</td>\n",
              "      <td>0</td>\n",
              "      <td>5</td>\n",
              "      <td>0</td>\n",
              "      <td>0</td>\n",
              "      <td>0</td>\n",
              "    </tr>\n",
              "    <tr>\n",
              "      <th>5</th>\n",
              "      <td>120360</td>\n",
              "      <td>1</td>\n",
              "      <td>0</td>\n",
              "      <td>3</td>\n",
              "      <td>0</td>\n",
              "      <td>0</td>\n",
              "      <td>0</td>\n",
              "    </tr>\n",
              "    <tr>\n",
              "      <th>6</th>\n",
              "      <td>1265000</td>\n",
              "      <td>0</td>\n",
              "      <td>0</td>\n",
              "      <td>2</td>\n",
              "      <td>3</td>\n",
              "      <td>0</td>\n",
              "      <td>0</td>\n",
              "    </tr>\n",
              "    <tr>\n",
              "      <th>8</th>\n",
              "      <td>0</td>\n",
              "      <td>1</td>\n",
              "      <td>0</td>\n",
              "      <td>3</td>\n",
              "      <td>0</td>\n",
              "      <td>0</td>\n",
              "      <td>0</td>\n",
              "    </tr>\n",
              "    <tr>\n",
              "      <th>11</th>\n",
              "      <td>0</td>\n",
              "      <td>0</td>\n",
              "      <td>0</td>\n",
              "      <td>1</td>\n",
              "      <td>0</td>\n",
              "      <td>0</td>\n",
              "      <td>0</td>\n",
              "    </tr>\n",
              "    <tr>\n",
              "      <th>12</th>\n",
              "      <td>2607180</td>\n",
              "      <td>1</td>\n",
              "      <td>0</td>\n",
              "      <td>3</td>\n",
              "      <td>0</td>\n",
              "      <td>0</td>\n",
              "      <td>3</td>\n",
              "    </tr>\n",
              "    <tr>\n",
              "      <th>13</th>\n",
              "      <td>10213040</td>\n",
              "      <td>1</td>\n",
              "      <td>23</td>\n",
              "      <td>17</td>\n",
              "      <td>6</td>\n",
              "      <td>0</td>\n",
              "      <td>0</td>\n",
              "    </tr>\n",
              "    <tr>\n",
              "      <th>14</th>\n",
              "      <td>0</td>\n",
              "      <td>0</td>\n",
              "      <td>0</td>\n",
              "      <td>3</td>\n",
              "      <td>0</td>\n",
              "      <td>0</td>\n",
              "      <td>0</td>\n",
              "    </tr>\n",
              "  </tbody>\n",
              "</table>\n",
              "</div>"
            ],
            "text/plain": [
              "        Total Business Value  TargetVariable  Promotion  QR1  QR2  QR3  QR4\n",
              "Emp_ID                                                                     \n",
              "1                    1715580               1          0    0    3    0    0\n",
              "2                          0               0          0    2    0    0    0\n",
              "4                     350000               1          0    5    0    0    0\n",
              "5                     120360               1          0    3    0    0    0\n",
              "6                    1265000               0          0    2    3    0    0\n",
              "8                          0               1          0    3    0    0    0\n",
              "11                         0               0          0    1    0    0    0\n",
              "12                   2607180               1          0    3    0    0    3\n",
              "13                  10213040               1         23   17    6    0    0\n",
              "14                         0               0          0    3    0    0    0"
            ]
          },
          "metadata": {},
          "execution_count": 40
        }
      ]
    },
    {
      "cell_type": "code",
      "metadata": {
        "id": "CHUL01xvHMOu"
      },
      "source": [
        "### Combine categorical variables and numeric variables\n",
        "train_final = pd.merge(train3_cat,train4_grouped,on='Emp_ID')"
      ],
      "execution_count": null,
      "outputs": []
    },
    {
      "cell_type": "code",
      "metadata": {
        "colab": {
          "base_uri": "https://localhost:8080/"
        },
        "id": "gzJEKkF1IVWX",
        "outputId": "6610a212-eef4-4f93-9be0-dafeef440279"
      },
      "source": [
        "train_final.head(10)"
      ],
      "execution_count": null,
      "outputs": [
        {
          "output_type": "execute_result",
          "data": {
            "text/html": [
              "<div>\n",
              "<style scoped>\n",
              "    .dataframe tbody tr th:only-of-type {\n",
              "        vertical-align: middle;\n",
              "    }\n",
              "\n",
              "    .dataframe tbody tr th {\n",
              "        vertical-align: top;\n",
              "    }\n",
              "\n",
              "    .dataframe thead th {\n",
              "        text-align: right;\n",
              "    }\n",
              "</style>\n",
              "<table border=\"1\" class=\"dataframe\">\n",
              "  <thead>\n",
              "    <tr style=\"text-align: right;\">\n",
              "      <th></th>\n",
              "      <th>Emp_ID</th>\n",
              "      <th>Age</th>\n",
              "      <th>Gender</th>\n",
              "      <th>City</th>\n",
              "      <th>Education_Level</th>\n",
              "      <th>Salary</th>\n",
              "      <th>Joining Designation</th>\n",
              "      <th>Designation</th>\n",
              "      <th>Month_Worked</th>\n",
              "      <th>Total Business Value</th>\n",
              "      <th>TargetVariable</th>\n",
              "      <th>Promotion</th>\n",
              "      <th>QR1</th>\n",
              "      <th>QR2</th>\n",
              "      <th>QR3</th>\n",
              "      <th>QR4</th>\n",
              "    </tr>\n",
              "  </thead>\n",
              "  <tbody>\n",
              "    <tr>\n",
              "      <th>0</th>\n",
              "      <td>1</td>\n",
              "      <td>28</td>\n",
              "      <td>Male</td>\n",
              "      <td>C23</td>\n",
              "      <td>Master</td>\n",
              "      <td>57387</td>\n",
              "      <td>1</td>\n",
              "      <td>1</td>\n",
              "      <td>3</td>\n",
              "      <td>1715580</td>\n",
              "      <td>1</td>\n",
              "      <td>0</td>\n",
              "      <td>0</td>\n",
              "      <td>3</td>\n",
              "      <td>0</td>\n",
              "      <td>0</td>\n",
              "    </tr>\n",
              "    <tr>\n",
              "      <th>1</th>\n",
              "      <td>2</td>\n",
              "      <td>31</td>\n",
              "      <td>Male</td>\n",
              "      <td>C7</td>\n",
              "      <td>Master</td>\n",
              "      <td>67016</td>\n",
              "      <td>2</td>\n",
              "      <td>2</td>\n",
              "      <td>1</td>\n",
              "      <td>0</td>\n",
              "      <td>0</td>\n",
              "      <td>0</td>\n",
              "      <td>2</td>\n",
              "      <td>0</td>\n",
              "      <td>0</td>\n",
              "      <td>0</td>\n",
              "    </tr>\n",
              "    <tr>\n",
              "      <th>2</th>\n",
              "      <td>4</td>\n",
              "      <td>43</td>\n",
              "      <td>Male</td>\n",
              "      <td>C13</td>\n",
              "      <td>Master</td>\n",
              "      <td>65603</td>\n",
              "      <td>2</td>\n",
              "      <td>2</td>\n",
              "      <td>4</td>\n",
              "      <td>350000</td>\n",
              "      <td>1</td>\n",
              "      <td>0</td>\n",
              "      <td>5</td>\n",
              "      <td>0</td>\n",
              "      <td>0</td>\n",
              "      <td>0</td>\n",
              "    </tr>\n",
              "    <tr>\n",
              "      <th>3</th>\n",
              "      <td>5</td>\n",
              "      <td>29</td>\n",
              "      <td>Male</td>\n",
              "      <td>C9</td>\n",
              "      <td>College</td>\n",
              "      <td>46368</td>\n",
              "      <td>1</td>\n",
              "      <td>1</td>\n",
              "      <td>2</td>\n",
              "      <td>120360</td>\n",
              "      <td>1</td>\n",
              "      <td>0</td>\n",
              "      <td>3</td>\n",
              "      <td>0</td>\n",
              "      <td>0</td>\n",
              "      <td>0</td>\n",
              "    </tr>\n",
              "    <tr>\n",
              "      <th>4</th>\n",
              "      <td>6</td>\n",
              "      <td>31</td>\n",
              "      <td>Female</td>\n",
              "      <td>C11</td>\n",
              "      <td>Bachelor</td>\n",
              "      <td>78728</td>\n",
              "      <td>3</td>\n",
              "      <td>3</td>\n",
              "      <td>5</td>\n",
              "      <td>1265000</td>\n",
              "      <td>0</td>\n",
              "      <td>0</td>\n",
              "      <td>2</td>\n",
              "      <td>3</td>\n",
              "      <td>0</td>\n",
              "      <td>0</td>\n",
              "    </tr>\n",
              "    <tr>\n",
              "      <th>5</th>\n",
              "      <td>8</td>\n",
              "      <td>34</td>\n",
              "      <td>Male</td>\n",
              "      <td>C2</td>\n",
              "      <td>College</td>\n",
              "      <td>70656</td>\n",
              "      <td>3</td>\n",
              "      <td>3</td>\n",
              "      <td>2</td>\n",
              "      <td>0</td>\n",
              "      <td>1</td>\n",
              "      <td>0</td>\n",
              "      <td>3</td>\n",
              "      <td>0</td>\n",
              "      <td>0</td>\n",
              "      <td>0</td>\n",
              "    </tr>\n",
              "    <tr>\n",
              "      <th>6</th>\n",
              "      <td>11</td>\n",
              "      <td>28</td>\n",
              "      <td>Female</td>\n",
              "      <td>C19</td>\n",
              "      <td>Master</td>\n",
              "      <td>42172</td>\n",
              "      <td>1</td>\n",
              "      <td>1</td>\n",
              "      <td>0</td>\n",
              "      <td>0</td>\n",
              "      <td>0</td>\n",
              "      <td>0</td>\n",
              "      <td>1</td>\n",
              "      <td>0</td>\n",
              "      <td>0</td>\n",
              "      <td>0</td>\n",
              "    </tr>\n",
              "    <tr>\n",
              "      <th>7</th>\n",
              "      <td>12</td>\n",
              "      <td>35</td>\n",
              "      <td>Male</td>\n",
              "      <td>C23</td>\n",
              "      <td>Master</td>\n",
              "      <td>28116</td>\n",
              "      <td>1</td>\n",
              "      <td>1</td>\n",
              "      <td>6</td>\n",
              "      <td>2607180</td>\n",
              "      <td>1</td>\n",
              "      <td>0</td>\n",
              "      <td>3</td>\n",
              "      <td>0</td>\n",
              "      <td>0</td>\n",
              "      <td>3</td>\n",
              "    </tr>\n",
              "    <tr>\n",
              "      <th>8</th>\n",
              "      <td>13</td>\n",
              "      <td>31</td>\n",
              "      <td>Male</td>\n",
              "      <td>C19</td>\n",
              "      <td>Master</td>\n",
              "      <td>119227</td>\n",
              "      <td>1</td>\n",
              "      <td>4</td>\n",
              "      <td>66</td>\n",
              "      <td>10213040</td>\n",
              "      <td>1</td>\n",
              "      <td>23</td>\n",
              "      <td>17</td>\n",
              "      <td>6</td>\n",
              "      <td>0</td>\n",
              "      <td>0</td>\n",
              "    </tr>\n",
              "    <tr>\n",
              "      <th>9</th>\n",
              "      <td>14</td>\n",
              "      <td>39</td>\n",
              "      <td>Female</td>\n",
              "      <td>C26</td>\n",
              "      <td>College</td>\n",
              "      <td>19734</td>\n",
              "      <td>3</td>\n",
              "      <td>3</td>\n",
              "      <td>2</td>\n",
              "      <td>0</td>\n",
              "      <td>0</td>\n",
              "      <td>0</td>\n",
              "      <td>3</td>\n",
              "      <td>0</td>\n",
              "      <td>0</td>\n",
              "      <td>0</td>\n",
              "    </tr>\n",
              "  </tbody>\n",
              "</table>\n",
              "</div>"
            ],
            "text/plain": [
              "   Emp_ID  Age  Gender City Education_Level  ...  Promotion  QR1  QR2  QR3  QR4\n",
              "0       1   28    Male  C23          Master  ...          0    0    3    0    0\n",
              "1       2   31    Male   C7          Master  ...          0    2    0    0    0\n",
              "2       4   43    Male  C13          Master  ...          0    5    0    0    0\n",
              "3       5   29    Male   C9         College  ...          0    3    0    0    0\n",
              "4       6   31  Female  C11        Bachelor  ...          0    2    3    0    0\n",
              "5       8   34    Male   C2         College  ...          0    3    0    0    0\n",
              "6      11   28  Female  C19          Master  ...          0    1    0    0    0\n",
              "7      12   35    Male  C23          Master  ...          0    3    0    0    3\n",
              "8      13   31    Male  C19          Master  ...         23   17    6    0    0\n",
              "9      14   39  Female  C26         College  ...          0    3    0    0    0\n",
              "\n",
              "[10 rows x 16 columns]"
            ]
          },
          "metadata": {},
          "execution_count": 42
        }
      ]
    },
    {
      "cell_type": "code",
      "metadata": {
        "id": "dtbNbdZ73Jaf"
      },
      "source": [
        "### Set Promotion  as 1 or 0 \n",
        "conditions3 = [\n",
        "              train_final['Promotion'] >= 1 \n",
        "          ]\n",
        "choices3 = [1]\n",
        "train_final['Promotion']=np.select(conditions3,choices3,default=0)"
      ],
      "execution_count": null,
      "outputs": []
    },
    {
      "cell_type": "markdown",
      "metadata": {
        "id": "dJ5OKbbxs2Lu"
      },
      "source": [
        "Final Preprocessed Data with one record per an emp-id"
      ]
    },
    {
      "cell_type": "code",
      "metadata": {
        "colab": {
          "base_uri": "https://localhost:8080/"
        },
        "id": "VGdxboRm3cuy",
        "outputId": "5b8b5e4d-271f-40dc-e74e-cd6d216c4be4"
      },
      "source": [
        "\n",
        "train_final.head(10)"
      ],
      "execution_count": null,
      "outputs": [
        {
          "output_type": "execute_result",
          "data": {
            "text/html": [
              "<div>\n",
              "<style scoped>\n",
              "    .dataframe tbody tr th:only-of-type {\n",
              "        vertical-align: middle;\n",
              "    }\n",
              "\n",
              "    .dataframe tbody tr th {\n",
              "        vertical-align: top;\n",
              "    }\n",
              "\n",
              "    .dataframe thead th {\n",
              "        text-align: right;\n",
              "    }\n",
              "</style>\n",
              "<table border=\"1\" class=\"dataframe\">\n",
              "  <thead>\n",
              "    <tr style=\"text-align: right;\">\n",
              "      <th></th>\n",
              "      <th>Emp_ID</th>\n",
              "      <th>Age</th>\n",
              "      <th>Gender</th>\n",
              "      <th>City</th>\n",
              "      <th>Education_Level</th>\n",
              "      <th>Salary</th>\n",
              "      <th>Joining Designation</th>\n",
              "      <th>Designation</th>\n",
              "      <th>Month_Worked</th>\n",
              "      <th>Total Business Value</th>\n",
              "      <th>TargetVariable</th>\n",
              "      <th>Promotion</th>\n",
              "      <th>QR1</th>\n",
              "      <th>QR2</th>\n",
              "      <th>QR3</th>\n",
              "      <th>QR4</th>\n",
              "    </tr>\n",
              "  </thead>\n",
              "  <tbody>\n",
              "    <tr>\n",
              "      <th>0</th>\n",
              "      <td>1</td>\n",
              "      <td>28</td>\n",
              "      <td>Male</td>\n",
              "      <td>C23</td>\n",
              "      <td>Master</td>\n",
              "      <td>57387</td>\n",
              "      <td>1</td>\n",
              "      <td>1</td>\n",
              "      <td>3</td>\n",
              "      <td>1715580</td>\n",
              "      <td>1</td>\n",
              "      <td>0</td>\n",
              "      <td>0</td>\n",
              "      <td>3</td>\n",
              "      <td>0</td>\n",
              "      <td>0</td>\n",
              "    </tr>\n",
              "    <tr>\n",
              "      <th>1</th>\n",
              "      <td>2</td>\n",
              "      <td>31</td>\n",
              "      <td>Male</td>\n",
              "      <td>C7</td>\n",
              "      <td>Master</td>\n",
              "      <td>67016</td>\n",
              "      <td>2</td>\n",
              "      <td>2</td>\n",
              "      <td>1</td>\n",
              "      <td>0</td>\n",
              "      <td>0</td>\n",
              "      <td>0</td>\n",
              "      <td>2</td>\n",
              "      <td>0</td>\n",
              "      <td>0</td>\n",
              "      <td>0</td>\n",
              "    </tr>\n",
              "    <tr>\n",
              "      <th>2</th>\n",
              "      <td>4</td>\n",
              "      <td>43</td>\n",
              "      <td>Male</td>\n",
              "      <td>C13</td>\n",
              "      <td>Master</td>\n",
              "      <td>65603</td>\n",
              "      <td>2</td>\n",
              "      <td>2</td>\n",
              "      <td>4</td>\n",
              "      <td>350000</td>\n",
              "      <td>1</td>\n",
              "      <td>0</td>\n",
              "      <td>5</td>\n",
              "      <td>0</td>\n",
              "      <td>0</td>\n",
              "      <td>0</td>\n",
              "    </tr>\n",
              "    <tr>\n",
              "      <th>3</th>\n",
              "      <td>5</td>\n",
              "      <td>29</td>\n",
              "      <td>Male</td>\n",
              "      <td>C9</td>\n",
              "      <td>College</td>\n",
              "      <td>46368</td>\n",
              "      <td>1</td>\n",
              "      <td>1</td>\n",
              "      <td>2</td>\n",
              "      <td>120360</td>\n",
              "      <td>1</td>\n",
              "      <td>0</td>\n",
              "      <td>3</td>\n",
              "      <td>0</td>\n",
              "      <td>0</td>\n",
              "      <td>0</td>\n",
              "    </tr>\n",
              "    <tr>\n",
              "      <th>4</th>\n",
              "      <td>6</td>\n",
              "      <td>31</td>\n",
              "      <td>Female</td>\n",
              "      <td>C11</td>\n",
              "      <td>Bachelor</td>\n",
              "      <td>78728</td>\n",
              "      <td>3</td>\n",
              "      <td>3</td>\n",
              "      <td>5</td>\n",
              "      <td>1265000</td>\n",
              "      <td>0</td>\n",
              "      <td>0</td>\n",
              "      <td>2</td>\n",
              "      <td>3</td>\n",
              "      <td>0</td>\n",
              "      <td>0</td>\n",
              "    </tr>\n",
              "    <tr>\n",
              "      <th>5</th>\n",
              "      <td>8</td>\n",
              "      <td>34</td>\n",
              "      <td>Male</td>\n",
              "      <td>C2</td>\n",
              "      <td>College</td>\n",
              "      <td>70656</td>\n",
              "      <td>3</td>\n",
              "      <td>3</td>\n",
              "      <td>2</td>\n",
              "      <td>0</td>\n",
              "      <td>1</td>\n",
              "      <td>0</td>\n",
              "      <td>3</td>\n",
              "      <td>0</td>\n",
              "      <td>0</td>\n",
              "      <td>0</td>\n",
              "    </tr>\n",
              "    <tr>\n",
              "      <th>6</th>\n",
              "      <td>11</td>\n",
              "      <td>28</td>\n",
              "      <td>Female</td>\n",
              "      <td>C19</td>\n",
              "      <td>Master</td>\n",
              "      <td>42172</td>\n",
              "      <td>1</td>\n",
              "      <td>1</td>\n",
              "      <td>0</td>\n",
              "      <td>0</td>\n",
              "      <td>0</td>\n",
              "      <td>0</td>\n",
              "      <td>1</td>\n",
              "      <td>0</td>\n",
              "      <td>0</td>\n",
              "      <td>0</td>\n",
              "    </tr>\n",
              "    <tr>\n",
              "      <th>7</th>\n",
              "      <td>12</td>\n",
              "      <td>35</td>\n",
              "      <td>Male</td>\n",
              "      <td>C23</td>\n",
              "      <td>Master</td>\n",
              "      <td>28116</td>\n",
              "      <td>1</td>\n",
              "      <td>1</td>\n",
              "      <td>6</td>\n",
              "      <td>2607180</td>\n",
              "      <td>1</td>\n",
              "      <td>0</td>\n",
              "      <td>3</td>\n",
              "      <td>0</td>\n",
              "      <td>0</td>\n",
              "      <td>3</td>\n",
              "    </tr>\n",
              "    <tr>\n",
              "      <th>8</th>\n",
              "      <td>13</td>\n",
              "      <td>31</td>\n",
              "      <td>Male</td>\n",
              "      <td>C19</td>\n",
              "      <td>Master</td>\n",
              "      <td>119227</td>\n",
              "      <td>1</td>\n",
              "      <td>4</td>\n",
              "      <td>66</td>\n",
              "      <td>10213040</td>\n",
              "      <td>1</td>\n",
              "      <td>1</td>\n",
              "      <td>17</td>\n",
              "      <td>6</td>\n",
              "      <td>0</td>\n",
              "      <td>0</td>\n",
              "    </tr>\n",
              "    <tr>\n",
              "      <th>9</th>\n",
              "      <td>14</td>\n",
              "      <td>39</td>\n",
              "      <td>Female</td>\n",
              "      <td>C26</td>\n",
              "      <td>College</td>\n",
              "      <td>19734</td>\n",
              "      <td>3</td>\n",
              "      <td>3</td>\n",
              "      <td>2</td>\n",
              "      <td>0</td>\n",
              "      <td>0</td>\n",
              "      <td>0</td>\n",
              "      <td>3</td>\n",
              "      <td>0</td>\n",
              "      <td>0</td>\n",
              "      <td>0</td>\n",
              "    </tr>\n",
              "  </tbody>\n",
              "</table>\n",
              "</div>"
            ],
            "text/plain": [
              "   Emp_ID  Age  Gender City Education_Level  ...  Promotion  QR1  QR2  QR3  QR4\n",
              "0       1   28    Male  C23          Master  ...          0    0    3    0    0\n",
              "1       2   31    Male   C7          Master  ...          0    2    0    0    0\n",
              "2       4   43    Male  C13          Master  ...          0    5    0    0    0\n",
              "3       5   29    Male   C9         College  ...          0    3    0    0    0\n",
              "4       6   31  Female  C11        Bachelor  ...          0    2    3    0    0\n",
              "5       8   34    Male   C2         College  ...          0    3    0    0    0\n",
              "6      11   28  Female  C19          Master  ...          0    1    0    0    0\n",
              "7      12   35    Male  C23          Master  ...          0    3    0    0    3\n",
              "8      13   31    Male  C19          Master  ...          1   17    6    0    0\n",
              "9      14   39  Female  C26         College  ...          0    3    0    0    0\n",
              "\n",
              "[10 rows x 16 columns]"
            ]
          },
          "metadata": {},
          "execution_count": 44
        }
      ]
    },
    {
      "cell_type": "markdown",
      "metadata": {
        "id": "XliDlpaAPbQL"
      },
      "source": [
        "#EDA"
      ]
    },
    {
      "cell_type": "code",
      "metadata": {
        "colab": {
          "base_uri": "https://localhost:8080/",
          "height": 492
        },
        "id": "RfMpZ-xRRLEs",
        "outputId": "d1687568-5bd4-46bf-bcc4-3725c3ca5aa4"
      },
      "source": [
        "train_final.corr()"
      ],
      "execution_count": null,
      "outputs": [
        {
          "output_type": "execute_result",
          "data": {
            "text/html": [
              "<div>\n",
              "<style scoped>\n",
              "    .dataframe tbody tr th:only-of-type {\n",
              "        vertical-align: middle;\n",
              "    }\n",
              "\n",
              "    .dataframe tbody tr th {\n",
              "        vertical-align: top;\n",
              "    }\n",
              "\n",
              "    .dataframe thead th {\n",
              "        text-align: right;\n",
              "    }\n",
              "</style>\n",
              "<table border=\"1\" class=\"dataframe\">\n",
              "  <thead>\n",
              "    <tr style=\"text-align: right;\">\n",
              "      <th></th>\n",
              "      <th>Emp_ID</th>\n",
              "      <th>Age</th>\n",
              "      <th>Salary</th>\n",
              "      <th>Joining Designation</th>\n",
              "      <th>Designation</th>\n",
              "      <th>Month_Worked</th>\n",
              "      <th>Total Business Value</th>\n",
              "      <th>TargetVariable</th>\n",
              "      <th>Promotion</th>\n",
              "      <th>QR1</th>\n",
              "      <th>QR2</th>\n",
              "      <th>QR3</th>\n",
              "      <th>QR4</th>\n",
              "    </tr>\n",
              "  </thead>\n",
              "  <tbody>\n",
              "    <tr>\n",
              "      <th>Emp_ID</th>\n",
              "      <td>1.000000</td>\n",
              "      <td>-0.004458</td>\n",
              "      <td>-0.017948</td>\n",
              "      <td>-0.023126</td>\n",
              "      <td>-0.014345</td>\n",
              "      <td>0.048089</td>\n",
              "      <td>0.015133</td>\n",
              "      <td>0.029269</td>\n",
              "      <td>0.003172</td>\n",
              "      <td>-0.009606</td>\n",
              "      <td>0.019175</td>\n",
              "      <td>0.039682</td>\n",
              "      <td>-0.003047</td>\n",
              "    </tr>\n",
              "    <tr>\n",
              "      <th>Age</th>\n",
              "      <td>-0.004458</td>\n",
              "      <td>1.000000</td>\n",
              "      <td>0.210764</td>\n",
              "      <td>0.081523</td>\n",
              "      <td>0.252479</td>\n",
              "      <td>0.316229</td>\n",
              "      <td>0.263018</td>\n",
              "      <td>-0.078883</td>\n",
              "      <td>0.263718</td>\n",
              "      <td>-0.044661</td>\n",
              "      <td>0.252157</td>\n",
              "      <td>0.224254</td>\n",
              "      <td>0.165797</td>\n",
              "    </tr>\n",
              "    <tr>\n",
              "      <th>Salary</th>\n",
              "      <td>-0.017948</td>\n",
              "      <td>0.210764</td>\n",
              "      <td>1.000000</td>\n",
              "      <td>0.480549</td>\n",
              "      <td>0.741213</td>\n",
              "      <td>0.331720</td>\n",
              "      <td>0.379648</td>\n",
              "      <td>-0.202043</td>\n",
              "      <td>0.353303</td>\n",
              "      <td>0.066901</td>\n",
              "      <td>0.207918</td>\n",
              "      <td>0.152392</td>\n",
              "      <td>0.152256</td>\n",
              "    </tr>\n",
              "    <tr>\n",
              "      <th>Joining Designation</th>\n",
              "      <td>-0.023126</td>\n",
              "      <td>0.081523</td>\n",
              "      <td>0.480549</td>\n",
              "      <td>1.000000</td>\n",
              "      <td>0.712419</td>\n",
              "      <td>-0.217852</td>\n",
              "      <td>-0.121368</td>\n",
              "      <td>-0.127773</td>\n",
              "      <td>-0.268500</td>\n",
              "      <td>0.180536</td>\n",
              "      <td>-0.157040</td>\n",
              "      <td>-0.201951</td>\n",
              "      <td>-0.149059</td>\n",
              "    </tr>\n",
              "    <tr>\n",
              "      <th>Designation</th>\n",
              "      <td>-0.014345</td>\n",
              "      <td>0.252479</td>\n",
              "      <td>0.741213</td>\n",
              "      <td>0.712419</td>\n",
              "      <td>1.000000</td>\n",
              "      <td>0.335902</td>\n",
              "      <td>0.383076</td>\n",
              "      <td>-0.226190</td>\n",
              "      <td>0.406542</td>\n",
              "      <td>0.135674</td>\n",
              "      <td>0.186112</td>\n",
              "      <td>0.103229</td>\n",
              "      <td>0.116931</td>\n",
              "    </tr>\n",
              "    <tr>\n",
              "      <th>Month_Worked</th>\n",
              "      <td>0.048089</td>\n",
              "      <td>0.316229</td>\n",
              "      <td>0.331720</td>\n",
              "      <td>-0.217852</td>\n",
              "      <td>0.335902</td>\n",
              "      <td>1.000000</td>\n",
              "      <td>0.674547</td>\n",
              "      <td>-0.181292</td>\n",
              "      <td>0.751521</td>\n",
              "      <td>-0.003978</td>\n",
              "      <td>0.604643</td>\n",
              "      <td>0.600209</td>\n",
              "      <td>0.338699</td>\n",
              "    </tr>\n",
              "    <tr>\n",
              "      <th>Total Business Value</th>\n",
              "      <td>0.015133</td>\n",
              "      <td>0.263018</td>\n",
              "      <td>0.379648</td>\n",
              "      <td>-0.121368</td>\n",
              "      <td>0.383076</td>\n",
              "      <td>0.674547</td>\n",
              "      <td>1.000000</td>\n",
              "      <td>-0.379552</td>\n",
              "      <td>0.604846</td>\n",
              "      <td>-0.203510</td>\n",
              "      <td>0.494958</td>\n",
              "      <td>0.624692</td>\n",
              "      <td>0.705826</td>\n",
              "    </tr>\n",
              "    <tr>\n",
              "      <th>TargetVariable</th>\n",
              "      <td>0.029269</td>\n",
              "      <td>-0.078883</td>\n",
              "      <td>-0.202043</td>\n",
              "      <td>-0.127773</td>\n",
              "      <td>-0.226190</td>\n",
              "      <td>-0.181292</td>\n",
              "      <td>-0.379552</td>\n",
              "      <td>1.000000</td>\n",
              "      <td>-0.133451</td>\n",
              "      <td>0.250949</td>\n",
              "      <td>-0.253389</td>\n",
              "      <td>-0.350210</td>\n",
              "      <td>-0.303652</td>\n",
              "    </tr>\n",
              "    <tr>\n",
              "      <th>Promotion</th>\n",
              "      <td>0.003172</td>\n",
              "      <td>0.263718</td>\n",
              "      <td>0.353303</td>\n",
              "      <td>-0.268500</td>\n",
              "      <td>0.406542</td>\n",
              "      <td>0.751521</td>\n",
              "      <td>0.604846</td>\n",
              "      <td>-0.133451</td>\n",
              "      <td>1.000000</td>\n",
              "      <td>-0.056580</td>\n",
              "      <td>0.449472</td>\n",
              "      <td>0.429568</td>\n",
              "      <td>0.367019</td>\n",
              "    </tr>\n",
              "    <tr>\n",
              "      <th>QR1</th>\n",
              "      <td>-0.009606</td>\n",
              "      <td>-0.044661</td>\n",
              "      <td>0.066901</td>\n",
              "      <td>0.180536</td>\n",
              "      <td>0.135674</td>\n",
              "      <td>-0.003978</td>\n",
              "      <td>-0.203510</td>\n",
              "      <td>0.250949</td>\n",
              "      <td>-0.056580</td>\n",
              "      <td>1.000000</td>\n",
              "      <td>-0.175704</td>\n",
              "      <td>-0.284292</td>\n",
              "      <td>-0.241885</td>\n",
              "    </tr>\n",
              "    <tr>\n",
              "      <th>QR2</th>\n",
              "      <td>0.019175</td>\n",
              "      <td>0.252157</td>\n",
              "      <td>0.207918</td>\n",
              "      <td>-0.157040</td>\n",
              "      <td>0.186112</td>\n",
              "      <td>0.604643</td>\n",
              "      <td>0.494958</td>\n",
              "      <td>-0.253389</td>\n",
              "      <td>0.449472</td>\n",
              "      <td>-0.175704</td>\n",
              "      <td>1.000000</td>\n",
              "      <td>0.349772</td>\n",
              "      <td>0.139427</td>\n",
              "    </tr>\n",
              "    <tr>\n",
              "      <th>QR3</th>\n",
              "      <td>0.039682</td>\n",
              "      <td>0.224254</td>\n",
              "      <td>0.152392</td>\n",
              "      <td>-0.201951</td>\n",
              "      <td>0.103229</td>\n",
              "      <td>0.600209</td>\n",
              "      <td>0.624692</td>\n",
              "      <td>-0.350210</td>\n",
              "      <td>0.429568</td>\n",
              "      <td>-0.284292</td>\n",
              "      <td>0.349772</td>\n",
              "      <td>1.000000</td>\n",
              "      <td>0.350648</td>\n",
              "    </tr>\n",
              "    <tr>\n",
              "      <th>QR4</th>\n",
              "      <td>-0.003047</td>\n",
              "      <td>0.165797</td>\n",
              "      <td>0.152256</td>\n",
              "      <td>-0.149059</td>\n",
              "      <td>0.116931</td>\n",
              "      <td>0.338699</td>\n",
              "      <td>0.705826</td>\n",
              "      <td>-0.303652</td>\n",
              "      <td>0.367019</td>\n",
              "      <td>-0.241885</td>\n",
              "      <td>0.139427</td>\n",
              "      <td>0.350648</td>\n",
              "      <td>1.000000</td>\n",
              "    </tr>\n",
              "  </tbody>\n",
              "</table>\n",
              "</div>"
            ],
            "text/plain": [
              "                        Emp_ID       Age  ...       QR3       QR4\n",
              "Emp_ID                1.000000 -0.004458  ...  0.039682 -0.003047\n",
              "Age                  -0.004458  1.000000  ...  0.224254  0.165797\n",
              "Salary               -0.017948  0.210764  ...  0.152392  0.152256\n",
              "Joining Designation  -0.023126  0.081523  ... -0.201951 -0.149059\n",
              "Designation          -0.014345  0.252479  ...  0.103229  0.116931\n",
              "Month_Worked          0.048089  0.316229  ...  0.600209  0.338699\n",
              "Total Business Value  0.015133  0.263018  ...  0.624692  0.705826\n",
              "TargetVariable        0.029269 -0.078883  ... -0.350210 -0.303652\n",
              "Promotion             0.003172  0.263718  ...  0.429568  0.367019\n",
              "QR1                  -0.009606 -0.044661  ... -0.284292 -0.241885\n",
              "QR2                   0.019175  0.252157  ...  0.349772  0.139427\n",
              "QR3                   0.039682  0.224254  ...  1.000000  0.350648\n",
              "QR4                  -0.003047  0.165797  ...  0.350648  1.000000\n",
              "\n",
              "[13 rows x 13 columns]"
            ]
          },
          "metadata": {},
          "execution_count": 45
        }
      ]
    },
    {
      "cell_type": "code",
      "metadata": {
        "colab": {
          "base_uri": "https://localhost:8080/",
          "height": 378
        },
        "id": "Xa2jHZQCRpYU",
        "outputId": "87ff5b69-903e-4913-dcff-96d0f1ad65c5"
      },
      "source": [
        "sns.heatmap(train_data.corr(),annot=True)"
      ],
      "execution_count": null,
      "outputs": [
        {
          "output_type": "execute_result",
          "data": {
            "text/plain": [
              "<matplotlib.axes._subplots.AxesSubplot at 0x7f7b088a2290>"
            ]
          },
          "metadata": {},
          "execution_count": 46
        },
        {
          "output_type": "display_data",
          "data": {
            "image/png": "[encoded data removed]",
            "text/plain": [
              "<Figure size 432x288 with 2 Axes>"
            ]
          },
          "metadata": {
            "needs_background": "light"
          }
        }
      ]
    },
    {
      "cell_type": "code",
      "metadata": {
        "colab": {
          "base_uri": "https://localhost:8080/"
        },
        "id": "ErctsdcoR90Z",
        "outputId": "14725896-7a10-4c2e-b6b5-983c80301cec"
      },
      "source": [
        "train_final.info()"
      ],
      "execution_count": null,
      "outputs": [
        {
          "output_type": "stream",
          "name": "stdout",
          "text": [
            "<class 'pandas.core.frame.DataFrame'>\n",
            "Int64Index: 2381 entries, 0 to 2380\n",
            "Data columns (total 16 columns):\n",
            " #   Column                Non-Null Count  Dtype \n",
            "---  ------                --------------  ----- \n",
            " 0   Emp_ID                2381 non-null   int64 \n",
            " 1   Age                   2381 non-null   int64 \n",
            " 2   Gender                2381 non-null   object\n",
            " 3   City                  2381 non-null   object\n",
            " 4   Education_Level       2381 non-null   object\n",
            " 5   Salary                2381 non-null   int64 \n",
            " 6   Joining Designation   2381 non-null   int64 \n",
            " 7   Designation           2381 non-null   int64 \n",
            " 8   Month_Worked          2381 non-null   int64 \n",
            " 9   Total Business Value  2381 non-null   int64 \n",
            " 10  TargetVariable        2381 non-null   int64 \n",
            " 11  Promotion             2381 non-null   int64 \n",
            " 12  QR1                   2381 non-null   uint8 \n",
            " 13  QR2                   2381 non-null   uint8 \n",
            " 14  QR3                   2381 non-null   uint8 \n",
            " 15  QR4                   2381 non-null   uint8 \n",
            "dtypes: int64(9), object(3), uint8(4)\n",
            "memory usage: 251.1+ KB\n"
          ]
        }
      ]
    },
    {
      "cell_type": "code",
      "metadata": {
        "colab": {
          "base_uri": "https://localhost:8080/",
          "height": 351
        },
        "id": "MEKNFwpW536K",
        "outputId": "7d0e9fc5-790c-4772-b34c-9dfc9b76c0ca"
      },
      "source": [
        "sns.countplot('TargetVariable',data=train_final)\n",
        "## We can Notice our data has more number of resigned employees. This gives good study to predict / retain employees "
      ],
      "execution_count": null,
      "outputs": [
        {
          "output_type": "stream",
          "name": "stderr",
          "text": [
            "/usr/local/lib/python3.7/dist-packages/seaborn/_decorators.py:43: FutureWarning: Pass the following variable as a keyword arg: x. From version 0.12, the only valid positional argument will be `data`, and passing other arguments without an explicit keyword will result in an error or misinterpretation.\n",
            "  FutureWarning\n"
          ]
        },
        {
          "output_type": "execute_result",
          "data": {
            "text/plain": [
              "<matplotlib.axes._subplots.AxesSubplot at 0x7f7affa163d0>"
            ]
          },
          "metadata": {},
          "execution_count": 48
        },
        {
          "output_type": "display_data",
          "data": {
            "image/png": "[encoded data removed]",
            "text/plain": [
              "<Figure size 432x288 with 1 Axes>"
            ]
          },
          "metadata": {
            "needs_background": "light"
          }
        }
      ]
    },
    {
      "cell_type": "code",
      "metadata": {
        "colab": {
          "base_uri": "https://localhost:8080/",
          "height": 383
        },
        "id": "JFpHEBQg6F3U",
        "outputId": "69ae262e-c5d6-4682-bd67-f3dfa8e3459a"
      },
      "source": [
        "#Bar Chart for Gender\n",
        "resign_by_gender=pd.DataFrame(train_final.groupby(['Gender','TargetVariable'])['TargetVariable'].count())\n",
        "print(resign_by_gender)\n",
        "sns.countplot(x='Gender',hue='TargetVariable',data=train_final);\n",
        "### More Male employees resigned. %wise resignation is same acorss  gender level "
      ],
      "execution_count": null,
      "outputs": [
        {
          "output_type": "stream",
          "name": "stdout",
          "text": [
            "                       TargetVariable\n",
            "Gender TargetVariable                \n",
            "Female 0                          309\n",
            "       1                          668\n",
            "Male   0                          456\n",
            "       1                          948\n"
          ]
        },
        {
          "output_type": "display_data",
          "data": {
            "image/png": "[encoded data removed]",
            "text/plain": [
              "<Figure size 432x288 with 1 Axes>"
            ]
          },
          "metadata": {
            "needs_background": "light"
          }
        }
      ]
    },
    {
      "cell_type": "code",
      "metadata": {
        "colab": {
          "base_uri": "https://localhost:8080/",
          "height": 383
        },
        "id": "UN8WQzctt4eg",
        "outputId": "605717be-963c-4374-8f5c-76f2d4d04d4e"
      },
      "source": [
        "#Bar Chart for promotion\n",
        "resign_by_promotion=pd.DataFrame(train_final.groupby(['Promotion','TargetVariable'])['TargetVariable'].count())\n",
        "print(resign_by_promotion)\n",
        "sns.countplot(x='Promotion',hue='TargetVariable',data=train_final);\n",
        "#### this gives clear picture that employee didn't get promotion resigned. Resignation is very less at promoted employees."
      ],
      "execution_count": null,
      "outputs": [
        {
          "output_type": "stream",
          "name": "stdout",
          "text": [
            "                          TargetVariable\n",
            "Promotion TargetVariable                \n",
            "0         0                          578\n",
            "          1                         1395\n",
            "1         0                          187\n",
            "          1                          221\n"
          ]
        },
        {
          "output_type": "display_data",
          "data": {
            "image/png": "[encoded data removed]",
            "text/plain": [
              "<Figure size 432x288 with 1 Axes>"
            ]
          },
          "metadata": {
            "needs_background": "light"
          }
        }
      ]
    },
    {
      "cell_type": "code",
      "metadata": {
        "colab": {
          "base_uri": "https://localhost:8080/",
          "height": 419
        },
        "id": "DGrPWJpXvfLV",
        "outputId": "ef5368b7-f231-4ff6-8297-ce68391060ce"
      },
      "source": [
        "#Bar Chart for Education level\n",
        "resign_by_Education_Level=pd.DataFrame(train_final.groupby(['Education_Level','TargetVariable'])['TargetVariable'].count())\n",
        "print(resign_by_Education_Level)\n",
        "sns.countplot(x='Education_Level',hue='TargetVariable',data=train_final);\n",
        "#### Attrition is constant across education level"
      ],
      "execution_count": null,
      "outputs": [
        {
          "output_type": "stream",
          "name": "stdout",
          "text": [
            "                                TargetVariable\n",
            "Education_Level TargetVariable                \n",
            "Bachelor        0                          268\n",
            "                1                          527\n",
            "College         0                          242\n",
            "                1                          542\n",
            "Master          0                          255\n",
            "                1                          547\n"
          ]
        },
        {
          "output_type": "display_data",
          "data": {
            "image/png": "[encoded data removed]",
            "text/plain": [
              "<Figure size 432x288 with 1 Axes>"
            ]
          },
          "metadata": {
            "needs_background": "light"
          }
        }
      ]
    },
    {
      "cell_type": "code",
      "metadata": {
        "colab": {
          "base_uri": "https://localhost:8080/",
          "height": 279
        },
        "id": "GYaReJHpwldc",
        "outputId": "8089c052-afe2-4025-93ce-8bc083445b45"
      },
      "source": [
        "#Bar Chart for City\n",
        "resign_at_City_of_Work=pd.DataFrame(train_final.groupby(['City','TargetVariable'])['TargetVariable'].count())\n",
        "#print(resign_at_City_of_Work)\n",
        "sns.countplot(x='City',hue='TargetVariable',data=train_final);\n",
        "#### Attrition is constant across City"
      ],
      "execution_count": null,
      "outputs": [
        {
          "output_type": "display_data",
          "data": {
            "image/png": "[encoded data removed]",
            "text/plain": [
              "<Figure size 432x288 with 1 Axes>"
            ]
          },
          "metadata": {
            "needs_background": "light"
          }
        }
      ]
    },
    {
      "cell_type": "code",
      "metadata": {
        "colab": {
          "base_uri": "https://localhost:8080/",
          "height": 276
        },
        "id": "lk6UXHZO6n8p",
        "outputId": "71b0cc45-379c-413a-b98c-1417a52b1de1"
      },
      "source": [
        "### Box Plot for depth \n",
        "sns.boxplot(data=train_final['Total Business Value'])\n",
        "plt.show()"
      ],
      "execution_count": null,
      "outputs": [
        {
          "output_type": "display_data",
          "data": {
            "image/png": "[encoded data removed]",
            "text/plain": [
              "<Figure size 432x288 with 1 Axes>"
            ]
          },
          "metadata": {
            "needs_background": "light"
          }
        }
      ]
    },
    {
      "cell_type": "code",
      "metadata": {
        "colab": {
          "base_uri": "https://localhost:8080/"
        },
        "id": "cRXdCHpF6-iR",
        "outputId": "8f4c049b-7019-428b-d72d-83fc711e4938"
      },
      "source": [
        "train_final.isnull().sum().sum()"
      ],
      "execution_count": null,
      "outputs": [
        {
          "output_type": "execute_result",
          "data": {
            "text/plain": [
              "0"
            ]
          },
          "metadata": {},
          "execution_count": 54
        }
      ]
    },
    {
      "cell_type": "code",
      "metadata": {
        "id": "kvoucPwmYUJk"
      },
      "source": [
        "train_final.replace([np.inf, -np.inf], np.nan, inplace=True)"
      ],
      "execution_count": null,
      "outputs": []
    },
    {
      "cell_type": "code",
      "metadata": {
        "id": "L964ANq87hfH"
      },
      "source": [
        "train_final['Total Business Value']=train_final['Total Business Value'].fillna(0)"
      ],
      "execution_count": null,
      "outputs": []
    },
    {
      "cell_type": "code",
      "metadata": {
        "colab": {
          "base_uri": "https://localhost:8080/",
          "height": 294
        },
        "id": "p0AI4b_mv_w9",
        "outputId": "ea369146-c613-430b-9234-c66b002d4679"
      },
      "source": [
        "# Understand Salary vs Business Value\n",
        "# Scatter Plot - carat vs price\n",
        "x=train_final.Salary\n",
        "y=train_final['Total Business Value']\n",
        "plt.scatter(x,y,alpha=0.5)\n",
        "### Salary and Business value are related"
      ],
      "execution_count": null,
      "outputs": [
        {
          "output_type": "execute_result",
          "data": {
            "text/plain": [
              "<matplotlib.collections.PathCollection at 0x7f7afe0e4090>"
            ]
          },
          "metadata": {},
          "execution_count": 62
        },
        {
          "output_type": "display_data",
          "data": {
            "image/png": "[encoded data removed]",
            "text/plain": [
              "<Figure size 432x288 with 1 Axes>"
            ]
          },
          "metadata": {
            "needs_background": "light"
          }
        }
      ]
    },
    {
      "cell_type": "code",
      "metadata": {
        "colab": {
          "base_uri": "https://localhost:8080/",
          "height": 369
        },
        "id": "rJF2-GdhZZ7o",
        "outputId": "42e36e26-2c08-4f3c-c7f9-7aebefb59cc0"
      },
      "source": [
        "#### Do log transformation for Salary\n",
        "train_final[\"Salary\"] = np.log(train_final[\"Salary\"])\n",
        "sns.displot(data=train_final,x='Salary',kde=True, discrete=True)\n",
        "plt.show()"
      ],
      "execution_count": null,
      "outputs": [
        {
          "output_type": "display_data",
          "data": {
            "image/png": "[encoded data removed]",
            "text/plain": [
              "<Figure size 360x360 with 1 Axes>"
            ]
          },
          "metadata": {
            "needs_background": "light"
          }
        }
      ]
    },
    {
      "cell_type": "code",
      "metadata": {
        "colab": {
          "base_uri": "https://localhost:8080/",
          "height": 438
        },
        "id": "yxRXmZHT3slt",
        "outputId": "285a7c54-dd9a-4176-ddb9-4f99a74e7b82"
      },
      "source": [
        "#### Do log transformation for Total Business Value\n",
        "train_final[\"Total Business Value\"] = np.log(train_final[\"Total Business Value\"])\n",
        "sns.displot(data=train_final,x='Total Business Value',kde=True, discrete=True)\n",
        "plt.show()"
      ],
      "execution_count": null,
      "outputs": [
        {
          "output_type": "stream",
          "name": "stderr",
          "text": [
            "/usr/local/lib/python3.7/dist-packages/pandas/core/series.py:726: RuntimeWarning: divide by zero encountered in log\n",
            "  result = getattr(ufunc, method)(*inputs, **kwargs)\n",
            "/usr/local/lib/python3.7/dist-packages/pandas/core/series.py:726: RuntimeWarning: invalid value encountered in log\n",
            "  result = getattr(ufunc, method)(*inputs, **kwargs)\n"
          ]
        },
        {
          "output_type": "display_data",
          "data": {
            "image/png": "[encoded data removed]",
            "text/plain": [
              "<Figure size 360x360 with 1 Axes>"
            ]
          },
          "metadata": {
            "needs_background": "light"
          }
        }
      ]
    },
    {
      "cell_type": "code",
      "metadata": {
        "id": "qGX1wb1oZkRL"
      },
      "source": [
        "train_final.replace([np.inf, -np.inf], np.nan, inplace=True)"
      ],
      "execution_count": null,
      "outputs": []
    },
    {
      "cell_type": "code",
      "metadata": {
        "colab": {
          "base_uri": "https://localhost:8080/"
        },
        "id": "PSBQUlKw6A6f",
        "outputId": "0643476d-8f67-42bf-80ec-c759c516d032"
      },
      "source": [
        "train_final.isnull().sum().sum()"
      ],
      "execution_count": null,
      "outputs": [
        {
          "output_type": "execute_result",
          "data": {
            "text/plain": [
              "719"
            ]
          },
          "metadata": {},
          "execution_count": 68
        }
      ]
    },
    {
      "cell_type": "code",
      "metadata": {
        "id": "LH3JSWKQ6GEF"
      },
      "source": [
        "train_final['Total Business Value']=train_final['Total Business Value'].fillna(0)"
      ],
      "execution_count": null,
      "outputs": []
    },
    {
      "cell_type": "code",
      "metadata": {
        "colab": {
          "base_uri": "https://localhost:8080/"
        },
        "id": "nnTqy6xYZrBl",
        "outputId": "0cefcdbe-34d4-4c26-b888-a244ce5f237d"
      },
      "source": [
        "train_final.isnull().sum().sum()"
      ],
      "execution_count": null,
      "outputs": [
        {
          "output_type": "execute_result",
          "data": {
            "text/plain": [
              "0"
            ]
          },
          "metadata": {},
          "execution_count": 70
        }
      ]
    },
    {
      "cell_type": "markdown",
      "metadata": {
        "id": "vLcl1xvvx-OX"
      },
      "source": [
        "# Feature Selection Technique"
      ]
    },
    {
      "cell_type": "markdown",
      "metadata": {
        "id": "wyrjYmSByiLr"
      },
      "source": [
        "Pearson Correlation Coefficient test (For Continuous Variables) Each predictor variable compared with target variable price and correlation value above 0.5 will be selected as significant features."
      ]
    },
    {
      "cell_type": "code",
      "metadata": {
        "colab": {
          "base_uri": "https://localhost:8080/"
        },
        "id": "hCBVrUy_ykGn",
        "outputId": "30564f9f-059e-4bc4-e217-faf8d9439ba8"
      },
      "source": [
        "train_final.columns"
      ],
      "execution_count": null,
      "outputs": [
        {
          "output_type": "execute_result",
          "data": {
            "text/plain": [
              "Index(['Emp_ID', 'Age', 'Gender', 'City', 'Education_Level', 'Salary',\n",
              "       'Joining Designation', 'Designation', 'Month_Worked',\n",
              "       'Total Business Value', 'TargetVariable', 'Promotion', 'QR1', 'QR2',\n",
              "       'QR3', 'QR4'],\n",
              "      dtype='object')"
            ]
          },
          "metadata": {},
          "execution_count": 71
        }
      ]
    },
    {
      "cell_type": "code",
      "metadata": {
        "colab": {
          "base_uri": "https://localhost:8080/"
        },
        "id": "QzFc0j0F5dBx",
        "outputId": "bf081a60-c4e2-4915-96f8-e05cba974aa7"
      },
      "source": [
        "train_final.isnull().sum().sum()"
      ],
      "execution_count": null,
      "outputs": [
        {
          "output_type": "execute_result",
          "data": {
            "text/plain": [
              "0"
            ]
          },
          "metadata": {},
          "execution_count": 72
        }
      ]
    },
    {
      "cell_type": "code",
      "metadata": {
        "colab": {
          "base_uri": "https://localhost:8080/"
        },
        "id": "kWkA8ZSN5ga8",
        "outputId": "8a5827a0-23fa-4bbd-9fad-4c7f2e14bcd7"
      },
      "source": [
        "train_final.info()"
      ],
      "execution_count": null,
      "outputs": [
        {
          "output_type": "stream",
          "name": "stdout",
          "text": [
            "<class 'pandas.core.frame.DataFrame'>\n",
            "Int64Index: 2381 entries, 0 to 2380\n",
            "Data columns (total 16 columns):\n",
            " #   Column                Non-Null Count  Dtype  \n",
            "---  ------                --------------  -----  \n",
            " 0   Emp_ID                2381 non-null   int64  \n",
            " 1   Age                   2381 non-null   int64  \n",
            " 2   Gender                2381 non-null   object \n",
            " 3   City                  2381 non-null   object \n",
            " 4   Education_Level       2381 non-null   object \n",
            " 5   Salary                2381 non-null   float64\n",
            " 6   Joining Designation   2381 non-null   int64  \n",
            " 7   Designation           2381 non-null   int64  \n",
            " 8   Month_Worked          2381 non-null   int64  \n",
            " 9   Total Business Value  2381 non-null   float64\n",
            " 10  TargetVariable        2381 non-null   int64  \n",
            " 11  Promotion             2381 non-null   int64  \n",
            " 12  QR1                   2381 non-null   uint8  \n",
            " 13  QR2                   2381 non-null   uint8  \n",
            " 14  QR3                   2381 non-null   uint8  \n",
            " 15  QR4                   2381 non-null   uint8  \n",
            "dtypes: float64(2), int64(7), object(3), uint8(4)\n",
            "memory usage: 331.1+ KB\n"
          ]
        }
      ]
    },
    {
      "cell_type": "code",
      "metadata": {
        "colab": {
          "base_uri": "https://localhost:8080/",
          "height": 426
        },
        "id": "uMyTFczQy0sS",
        "outputId": "19b26957-b4fa-4a9b-aece-44304b3fc3fa"
      },
      "source": [
        "Continuousdata=['TargetVariable','Age','Salary','Joining Designation','Designation','Month_Worked','Total Business Value', 'Promotion','QR1','QR2','QR3','QR4']\n",
        "# Create Correlation matrix\n",
        "Correlationdata = train_final[Continuousdata].corr()\n",
        "Correlationdata"
      ],
      "execution_count": null,
      "outputs": [
        {
          "output_type": "execute_result",
          "data": {
            "text/html": [
              "<div>\n",
              "<style scoped>\n",
              "    .dataframe tbody tr th:only-of-type {\n",
              "        vertical-align: middle;\n",
              "    }\n",
              "\n",
              "    .dataframe tbody tr th {\n",
              "        vertical-align: top;\n",
              "    }\n",
              "\n",
              "    .dataframe thead th {\n",
              "        text-align: right;\n",
              "    }\n",
              "</style>\n",
              "<table border=\"1\" class=\"dataframe\">\n",
              "  <thead>\n",
              "    <tr style=\"text-align: right;\">\n",
              "      <th></th>\n",
              "      <th>TargetVariable</th>\n",
              "      <th>Age</th>\n",
              "      <th>Salary</th>\n",
              "      <th>Joining Designation</th>\n",
              "      <th>Designation</th>\n",
              "      <th>Month_Worked</th>\n",
              "      <th>Total Business Value</th>\n",
              "      <th>Promotion</th>\n",
              "      <th>QR1</th>\n",
              "      <th>QR2</th>\n",
              "      <th>QR3</th>\n",
              "      <th>QR4</th>\n",
              "    </tr>\n",
              "  </thead>\n",
              "  <tbody>\n",
              "    <tr>\n",
              "      <th>TargetVariable</th>\n",
              "      <td>1.000000</td>\n",
              "      <td>-0.078883</td>\n",
              "      <td>-0.199734</td>\n",
              "      <td>-0.127773</td>\n",
              "      <td>-0.226190</td>\n",
              "      <td>-0.181292</td>\n",
              "      <td>-0.191333</td>\n",
              "      <td>-0.133451</td>\n",
              "      <td>0.250949</td>\n",
              "      <td>-0.253389</td>\n",
              "      <td>-0.350210</td>\n",
              "      <td>-0.303652</td>\n",
              "    </tr>\n",
              "    <tr>\n",
              "      <th>Age</th>\n",
              "      <td>-0.078883</td>\n",
              "      <td>1.000000</td>\n",
              "      <td>0.205555</td>\n",
              "      <td>0.081523</td>\n",
              "      <td>0.252479</td>\n",
              "      <td>0.316229</td>\n",
              "      <td>0.208801</td>\n",
              "      <td>0.263718</td>\n",
              "      <td>-0.044661</td>\n",
              "      <td>0.252157</td>\n",
              "      <td>0.224254</td>\n",
              "      <td>0.165797</td>\n",
              "    </tr>\n",
              "    <tr>\n",
              "      <th>Salary</th>\n",
              "      <td>-0.199734</td>\n",
              "      <td>0.205555</td>\n",
              "      <td>1.000000</td>\n",
              "      <td>0.479240</td>\n",
              "      <td>0.692211</td>\n",
              "      <td>0.285312</td>\n",
              "      <td>0.169771</td>\n",
              "      <td>0.318969</td>\n",
              "      <td>0.042114</td>\n",
              "      <td>0.185197</td>\n",
              "      <td>0.148571</td>\n",
              "      <td>0.146773</td>\n",
              "    </tr>\n",
              "    <tr>\n",
              "      <th>Joining Designation</th>\n",
              "      <td>-0.127773</td>\n",
              "      <td>0.081523</td>\n",
              "      <td>0.479240</td>\n",
              "      <td>1.000000</td>\n",
              "      <td>0.712419</td>\n",
              "      <td>-0.217852</td>\n",
              "      <td>-0.127319</td>\n",
              "      <td>-0.268500</td>\n",
              "      <td>0.180536</td>\n",
              "      <td>-0.157040</td>\n",
              "      <td>-0.201951</td>\n",
              "      <td>-0.149059</td>\n",
              "    </tr>\n",
              "    <tr>\n",
              "      <th>Designation</th>\n",
              "      <td>-0.226190</td>\n",
              "      <td>0.252479</td>\n",
              "      <td>0.692211</td>\n",
              "      <td>0.712419</td>\n",
              "      <td>1.000000</td>\n",
              "      <td>0.335902</td>\n",
              "      <td>0.128151</td>\n",
              "      <td>0.406542</td>\n",
              "      <td>0.135674</td>\n",
              "      <td>0.186112</td>\n",
              "      <td>0.103229</td>\n",
              "      <td>0.116931</td>\n",
              "    </tr>\n",
              "    <tr>\n",
              "      <th>Month_Worked</th>\n",
              "      <td>-0.181292</td>\n",
              "      <td>0.316229</td>\n",
              "      <td>0.285312</td>\n",
              "      <td>-0.217852</td>\n",
              "      <td>0.335902</td>\n",
              "      <td>1.000000</td>\n",
              "      <td>0.487911</td>\n",
              "      <td>0.751521</td>\n",
              "      <td>-0.003978</td>\n",
              "      <td>0.604643</td>\n",
              "      <td>0.600209</td>\n",
              "      <td>0.338699</td>\n",
              "    </tr>\n",
              "    <tr>\n",
              "      <th>Total Business Value</th>\n",
              "      <td>-0.191333</td>\n",
              "      <td>0.208801</td>\n",
              "      <td>0.169771</td>\n",
              "      <td>-0.127319</td>\n",
              "      <td>0.128151</td>\n",
              "      <td>0.487911</td>\n",
              "      <td>1.000000</td>\n",
              "      <td>0.364197</td>\n",
              "      <td>0.028940</td>\n",
              "      <td>0.510556</td>\n",
              "      <td>0.419317</td>\n",
              "      <td>0.311060</td>\n",
              "    </tr>\n",
              "    <tr>\n",
              "      <th>Promotion</th>\n",
              "      <td>-0.133451</td>\n",
              "      <td>0.263718</td>\n",
              "      <td>0.318969</td>\n",
              "      <td>-0.268500</td>\n",
              "      <td>0.406542</td>\n",
              "      <td>0.751521</td>\n",
              "      <td>0.364197</td>\n",
              "      <td>1.000000</td>\n",
              "      <td>-0.056580</td>\n",
              "      <td>0.449472</td>\n",
              "      <td>0.429568</td>\n",
              "      <td>0.367019</td>\n",
              "    </tr>\n",
              "    <tr>\n",
              "      <th>QR1</th>\n",
              "      <td>0.250949</td>\n",
              "      <td>-0.044661</td>\n",
              "      <td>0.042114</td>\n",
              "      <td>0.180536</td>\n",
              "      <td>0.135674</td>\n",
              "      <td>-0.003978</td>\n",
              "      <td>0.028940</td>\n",
              "      <td>-0.056580</td>\n",
              "      <td>1.000000</td>\n",
              "      <td>-0.175704</td>\n",
              "      <td>-0.284292</td>\n",
              "      <td>-0.241885</td>\n",
              "    </tr>\n",
              "    <tr>\n",
              "      <th>QR2</th>\n",
              "      <td>-0.253389</td>\n",
              "      <td>0.252157</td>\n",
              "      <td>0.185197</td>\n",
              "      <td>-0.157040</td>\n",
              "      <td>0.186112</td>\n",
              "      <td>0.604643</td>\n",
              "      <td>0.510556</td>\n",
              "      <td>0.449472</td>\n",
              "      <td>-0.175704</td>\n",
              "      <td>1.000000</td>\n",
              "      <td>0.349772</td>\n",
              "      <td>0.139427</td>\n",
              "    </tr>\n",
              "    <tr>\n",
              "      <th>QR3</th>\n",
              "      <td>-0.350210</td>\n",
              "      <td>0.224254</td>\n",
              "      <td>0.148571</td>\n",
              "      <td>-0.201951</td>\n",
              "      <td>0.103229</td>\n",
              "      <td>0.600209</td>\n",
              "      <td>0.419317</td>\n",
              "      <td>0.429568</td>\n",
              "      <td>-0.284292</td>\n",
              "      <td>0.349772</td>\n",
              "      <td>1.000000</td>\n",
              "      <td>0.350648</td>\n",
              "    </tr>\n",
              "    <tr>\n",
              "      <th>QR4</th>\n",
              "      <td>-0.303652</td>\n",
              "      <td>0.165797</td>\n",
              "      <td>0.146773</td>\n",
              "      <td>-0.149059</td>\n",
              "      <td>0.116931</td>\n",
              "      <td>0.338699</td>\n",
              "      <td>0.311060</td>\n",
              "      <td>0.367019</td>\n",
              "      <td>-0.241885</td>\n",
              "      <td>0.139427</td>\n",
              "      <td>0.350648</td>\n",
              "      <td>1.000000</td>\n",
              "    </tr>\n",
              "  </tbody>\n",
              "</table>\n",
              "</div>"
            ],
            "text/plain": [
              "                      TargetVariable       Age  ...       QR3       QR4\n",
              "TargetVariable              1.000000 -0.078883  ... -0.350210 -0.303652\n",
              "Age                        -0.078883  1.000000  ...  0.224254  0.165797\n",
              "Salary                     -0.199734  0.205555  ...  0.148571  0.146773\n",
              "Joining Designation        -0.127773  0.081523  ... -0.201951 -0.149059\n",
              "Designation                -0.226190  0.252479  ...  0.103229  0.116931\n",
              "Month_Worked               -0.181292  0.316229  ...  0.600209  0.338699\n",
              "Total Business Value       -0.191333  0.208801  ...  0.419317  0.311060\n",
              "Promotion                  -0.133451  0.263718  ...  0.429568  0.367019\n",
              "QR1                         0.250949 -0.044661  ... -0.284292 -0.241885\n",
              "QR2                        -0.253389  0.252157  ...  0.349772  0.139427\n",
              "QR3                        -0.350210  0.224254  ...  1.000000  0.350648\n",
              "QR4                        -0.303652  0.165797  ...  0.350648  1.000000\n",
              "\n",
              "[12 rows x 12 columns]"
            ]
          },
          "metadata": {},
          "execution_count": 74
        }
      ]
    },
    {
      "cell_type": "code",
      "metadata": {
        "colab": {
          "base_uri": "https://localhost:8080/"
        },
        "id": "KSgJBaUxzRyB",
        "outputId": "8680a262-7332-4a5f-b098-afae0abf07d7"
      },
      "source": [
        "Correlationdata['TargetVariable'][abs(Correlationdata['TargetVariable']) > 0.1 ]\n",
        "#### This shows all Continuous variables are -ve correlated with resignation"
      ],
      "execution_count": null,
      "outputs": [
        {
          "output_type": "execute_result",
          "data": {
            "text/plain": [
              "TargetVariable          1.000000\n",
              "Salary                 -0.199734\n",
              "Joining Designation    -0.127773\n",
              "Designation            -0.226190\n",
              "Month_Worked           -0.181292\n",
              "Total Business Value   -0.191333\n",
              "Promotion              -0.133451\n",
              "QR1                     0.250949\n",
              "QR2                    -0.253389\n",
              "QR3                    -0.350210\n",
              "QR4                    -0.303652\n",
              "Name: TargetVariable, dtype: float64"
            ]
          },
          "metadata": {},
          "execution_count": 75
        }
      ]
    },
    {
      "cell_type": "code",
      "metadata": {
        "id": "Lj82iZbBSZgv"
      },
      "source": [
        "### # Label Encoded\n",
        "from sklearn import preprocessing\n",
        "label_encoding = preprocessing.LabelEncoder()\n",
        "train_final['Gender'] = label_encoding.fit_transform(train_final['Gender'].astype(str))\n",
        "train_final['City'] = label_encoding.fit_transform(train_final['City'].astype(str))\n",
        "train_final['Education_Level'] = label_encoding.fit_transform(train_final['Education_Level'].astype(str))\n"
      ],
      "execution_count": null,
      "outputs": []
    },
    {
      "cell_type": "markdown",
      "metadata": {
        "id": "btNEqR7mcsq-"
      },
      "source": [
        "# Test - Train Split"
      ]
    },
    {
      "cell_type": "code",
      "metadata": {
        "colab": {
          "base_uri": "https://localhost:8080/",
          "height": 143
        },
        "id": "tF7BjnC_Z49u",
        "outputId": "b0099238-3142-4ad4-9e40-d7240e912a47"
      },
      "source": [
        "train_final.head(3)"
      ],
      "execution_count": null,
      "outputs": [
        {
          "output_type": "execute_result",
          "data": {
            "text/html": [
              "<div>\n",
              "<style scoped>\n",
              "    .dataframe tbody tr th:only-of-type {\n",
              "        vertical-align: middle;\n",
              "    }\n",
              "\n",
              "    .dataframe tbody tr th {\n",
              "        vertical-align: top;\n",
              "    }\n",
              "\n",
              "    .dataframe thead th {\n",
              "        text-align: right;\n",
              "    }\n",
              "</style>\n",
              "<table border=\"1\" class=\"dataframe\">\n",
              "  <thead>\n",
              "    <tr style=\"text-align: right;\">\n",
              "      <th></th>\n",
              "      <th>Emp_ID</th>\n",
              "      <th>Age</th>\n",
              "      <th>Gender</th>\n",
              "      <th>City</th>\n",
              "      <th>Education_Level</th>\n",
              "      <th>Salary</th>\n",
              "      <th>Joining Designation</th>\n",
              "      <th>Designation</th>\n",
              "      <th>Month_Worked</th>\n",
              "      <th>Total Business Value</th>\n",
              "      <th>TargetVariable</th>\n",
              "      <th>Promotion</th>\n",
              "      <th>QR1</th>\n",
              "      <th>QR2</th>\n",
              "      <th>QR3</th>\n",
              "      <th>QR4</th>\n",
              "    </tr>\n",
              "  </thead>\n",
              "  <tbody>\n",
              "    <tr>\n",
              "      <th>0</th>\n",
              "      <td>1</td>\n",
              "      <td>28</td>\n",
              "      <td>1</td>\n",
              "      <td>15</td>\n",
              "      <td>2</td>\n",
              "      <td>10.957573</td>\n",
              "      <td>1</td>\n",
              "      <td>1</td>\n",
              "      <td>3</td>\n",
              "      <td>14.355262</td>\n",
              "      <td>1</td>\n",
              "      <td>0</td>\n",
              "      <td>0</td>\n",
              "      <td>3</td>\n",
              "      <td>0</td>\n",
              "      <td>0</td>\n",
              "    </tr>\n",
              "    <tr>\n",
              "      <th>1</th>\n",
              "      <td>2</td>\n",
              "      <td>31</td>\n",
              "      <td>1</td>\n",
              "      <td>26</td>\n",
              "      <td>2</td>\n",
              "      <td>11.112687</td>\n",
              "      <td>2</td>\n",
              "      <td>2</td>\n",
              "      <td>1</td>\n",
              "      <td>0.000000</td>\n",
              "      <td>0</td>\n",
              "      <td>0</td>\n",
              "      <td>2</td>\n",
              "      <td>0</td>\n",
              "      <td>0</td>\n",
              "      <td>0</td>\n",
              "    </tr>\n",
              "    <tr>\n",
              "      <th>2</th>\n",
              "      <td>4</td>\n",
              "      <td>43</td>\n",
              "      <td>1</td>\n",
              "      <td>4</td>\n",
              "      <td>2</td>\n",
              "      <td>11.091377</td>\n",
              "      <td>2</td>\n",
              "      <td>2</td>\n",
              "      <td>4</td>\n",
              "      <td>12.765688</td>\n",
              "      <td>1</td>\n",
              "      <td>0</td>\n",
              "      <td>5</td>\n",
              "      <td>0</td>\n",
              "      <td>0</td>\n",
              "      <td>0</td>\n",
              "    </tr>\n",
              "  </tbody>\n",
              "</table>\n",
              "</div>"
            ],
            "text/plain": [
              "   Emp_ID  Age  Gender  City  Education_Level  ...  Promotion  QR1  QR2  QR3  QR4\n",
              "0       1   28       1    15                2  ...          0    0    3    0    0\n",
              "1       2   31       1    26                2  ...          0    2    0    0    0\n",
              "2       4   43       1     4                2  ...          0    5    0    0    0\n",
              "\n",
              "[3 rows x 16 columns]"
            ]
          },
          "metadata": {},
          "execution_count": 77
        }
      ]
    },
    {
      "cell_type": "code",
      "metadata": {
        "colab": {
          "base_uri": "https://localhost:8080/"
        },
        "id": "qYNz1hy34xMm",
        "outputId": "b5cd47bf-6445-4680-a2e1-5b44e6182c89"
      },
      "source": [
        "train_final.info()"
      ],
      "execution_count": null,
      "outputs": [
        {
          "output_type": "stream",
          "name": "stdout",
          "text": [
            "<class 'pandas.core.frame.DataFrame'>\n",
            "Int64Index: 2381 entries, 0 to 2380\n",
            "Data columns (total 16 columns):\n",
            " #   Column                Non-Null Count  Dtype  \n",
            "---  ------                --------------  -----  \n",
            " 0   Emp_ID                2381 non-null   int64  \n",
            " 1   Age                   2381 non-null   int64  \n",
            " 2   Gender                2381 non-null   int64  \n",
            " 3   City                  2381 non-null   int64  \n",
            " 4   Education_Level       2381 non-null   int64  \n",
            " 5   Salary                2381 non-null   float64\n",
            " 6   Joining Designation   2381 non-null   int64  \n",
            " 7   Designation           2381 non-null   int64  \n",
            " 8   Month_Worked          2381 non-null   int64  \n",
            " 9   Total Business Value  2381 non-null   float64\n",
            " 10  TargetVariable        2381 non-null   int64  \n",
            " 11  Promotion             2381 non-null   int64  \n",
            " 12  QR1                   2381 non-null   uint8  \n",
            " 13  QR2                   2381 non-null   uint8  \n",
            " 14  QR3                   2381 non-null   uint8  \n",
            " 15  QR4                   2381 non-null   uint8  \n",
            "dtypes: float64(2), int64(10), uint8(4)\n",
            "memory usage: 331.1 KB\n"
          ]
        }
      ]
    },
    {
      "cell_type": "code",
      "metadata": {
        "id": "4n_IESzEMH8y"
      },
      "source": [
        "##### use pandas merge and split test data details from train set \n",
        "test_final = test_data.merge(train_final,on='Emp_ID')"
      ],
      "execution_count": null,
      "outputs": []
    },
    {
      "cell_type": "code",
      "metadata": {
        "colab": {
          "base_uri": "https://localhost:8080/"
        },
        "id": "EhyEmjx8hGww",
        "outputId": "75c667ab-9985-44a7-a293-d62b855feeeb"
      },
      "source": [
        "test_final.duplicated().sum()"
      ],
      "execution_count": null,
      "outputs": [
        {
          "output_type": "execute_result",
          "data": {
            "text/plain": [
              "0"
            ]
          },
          "metadata": {},
          "execution_count": 80
        }
      ]
    },
    {
      "cell_type": "code",
      "metadata": {
        "colab": {
          "base_uri": "https://localhost:8080/"
        },
        "id": "0oLTgm5ivO81",
        "outputId": "4b635e29-f6d8-4531-98bf-17baa18512cd"
      },
      "source": [
        "train_final.info()"
      ],
      "execution_count": null,
      "outputs": [
        {
          "output_type": "stream",
          "name": "stdout",
          "text": [
            "<class 'pandas.core.frame.DataFrame'>\n",
            "Int64Index: 2381 entries, 0 to 2380\n",
            "Data columns (total 16 columns):\n",
            " #   Column                Non-Null Count  Dtype  \n",
            "---  ------                --------------  -----  \n",
            " 0   Emp_ID                2381 non-null   int64  \n",
            " 1   Age                   2381 non-null   int64  \n",
            " 2   Gender                2381 non-null   int64  \n",
            " 3   City                  2381 non-null   int64  \n",
            " 4   Education_Level       2381 non-null   int64  \n",
            " 5   Salary                2381 non-null   float64\n",
            " 6   Joining Designation   2381 non-null   int64  \n",
            " 7   Designation           2381 non-null   int64  \n",
            " 8   Month_Worked          2381 non-null   int64  \n",
            " 9   Total Business Value  2381 non-null   float64\n",
            " 10  TargetVariable        2381 non-null   int64  \n",
            " 11  Promotion             2381 non-null   int64  \n",
            " 12  QR1                   2381 non-null   uint8  \n",
            " 13  QR2                   2381 non-null   uint8  \n",
            " 14  QR3                   2381 non-null   uint8  \n",
            " 15  QR4                   2381 non-null   uint8  \n",
            "dtypes: float64(2), int64(10), uint8(4)\n",
            "memory usage: 331.1 KB\n"
          ]
        }
      ]
    },
    {
      "cell_type": "code",
      "metadata": {
        "colab": {
          "base_uri": "https://localhost:8080/"
        },
        "id": "kB4jTqCZstW8",
        "outputId": "b720cd02-4a1e-428c-a23d-bf1203f8fa66"
      },
      "source": [
        "test_final.info()"
      ],
      "execution_count": null,
      "outputs": [
        {
          "output_type": "stream",
          "name": "stdout",
          "text": [
            "<class 'pandas.core.frame.DataFrame'>\n",
            "Int64Index: 741 entries, 0 to 740\n",
            "Data columns (total 16 columns):\n",
            " #   Column                Non-Null Count  Dtype  \n",
            "---  ------                --------------  -----  \n",
            " 0   Emp_ID                741 non-null    int64  \n",
            " 1   Age                   741 non-null    int64  \n",
            " 2   Gender                741 non-null    int64  \n",
            " 3   City                  741 non-null    int64  \n",
            " 4   Education_Level       741 non-null    int64  \n",
            " 5   Salary                741 non-null    float64\n",
            " 6   Joining Designation   741 non-null    int64  \n",
            " 7   Designation           741 non-null    int64  \n",
            " 8   Month_Worked          741 non-null    int64  \n",
            " 9   Total Business Value  741 non-null    float64\n",
            " 10  TargetVariable        741 non-null    int64  \n",
            " 11  Promotion             741 non-null    int64  \n",
            " 12  QR1                   741 non-null    uint8  \n",
            " 13  QR2                   741 non-null    uint8  \n",
            " 14  QR3                   741 non-null    uint8  \n",
            " 15  QR4                   741 non-null    uint8  \n",
            "dtypes: float64(2), int64(10), uint8(4)\n",
            "memory usage: 78.2 KB\n"
          ]
        }
      ]
    },
    {
      "cell_type": "code",
      "metadata": {
        "id": "i6cnflDZMT-I"
      },
      "source": [
        "#train_final.drop(['Total Business Value'],axis=1,inplace=True)\n",
        "#test_final.drop(['Total Business Value'],axis=1,inplace=True)"
      ],
      "execution_count": null,
      "outputs": []
    },
    {
      "cell_type": "code",
      "metadata": {
        "id": "d7XMOiG0MXeF"
      },
      "source": [
        "train_final.drop(['Emp_ID'],axis=1,inplace=True)\n",
        "test_final.drop(['Emp_ID'],axis=1,inplace=True)"
      ],
      "execution_count": null,
      "outputs": []
    },
    {
      "cell_type": "code",
      "metadata": {
        "id": "2olQXJ67MlbH"
      },
      "source": [
        "# Run a Model to select significant variables\n",
        "#### Set Y and X variables\n",
        "y_train = train_final['TargetVariable']\n",
        "X_train = train_final\n",
        "X_test  = test_final"
      ],
      "execution_count": null,
      "outputs": []
    },
    {
      "cell_type": "code",
      "metadata": {
        "id": "nP5epNu4MqrC"
      },
      "source": [
        "X_train.drop(['TargetVariable'],axis=1,inplace=True)\n",
        "X_test.drop(['TargetVariable'],axis=1,inplace=True)\n"
      ],
      "execution_count": null,
      "outputs": []
    },
    {
      "cell_type": "code",
      "metadata": {
        "colab": {
          "base_uri": "https://localhost:8080/",
          "height": 112
        },
        "id": "W8wfzYIAM-vu",
        "outputId": "787505cb-ac7d-4fc7-9aaa-303d95db34b3"
      },
      "source": [
        "X_train.head(2)"
      ],
      "execution_count": null,
      "outputs": [
        {
          "output_type": "execute_result",
          "data": {
            "text/html": [
              "<div>\n",
              "<style scoped>\n",
              "    .dataframe tbody tr th:only-of-type {\n",
              "        vertical-align: middle;\n",
              "    }\n",
              "\n",
              "    .dataframe tbody tr th {\n",
              "        vertical-align: top;\n",
              "    }\n",
              "\n",
              "    .dataframe thead th {\n",
              "        text-align: right;\n",
              "    }\n",
              "</style>\n",
              "<table border=\"1\" class=\"dataframe\">\n",
              "  <thead>\n",
              "    <tr style=\"text-align: right;\">\n",
              "      <th></th>\n",
              "      <th>Age</th>\n",
              "      <th>Gender</th>\n",
              "      <th>City</th>\n",
              "      <th>Education_Level</th>\n",
              "      <th>Salary</th>\n",
              "      <th>Joining Designation</th>\n",
              "      <th>Designation</th>\n",
              "      <th>Month_Worked</th>\n",
              "      <th>Total Business Value</th>\n",
              "      <th>Promotion</th>\n",
              "      <th>QR1</th>\n",
              "      <th>QR2</th>\n",
              "      <th>QR3</th>\n",
              "      <th>QR4</th>\n",
              "    </tr>\n",
              "  </thead>\n",
              "  <tbody>\n",
              "    <tr>\n",
              "      <th>0</th>\n",
              "      <td>28</td>\n",
              "      <td>1</td>\n",
              "      <td>15</td>\n",
              "      <td>2</td>\n",
              "      <td>10.957573</td>\n",
              "      <td>1</td>\n",
              "      <td>1</td>\n",
              "      <td>3</td>\n",
              "      <td>14.355262</td>\n",
              "      <td>0</td>\n",
              "      <td>0</td>\n",
              "      <td>3</td>\n",
              "      <td>0</td>\n",
              "      <td>0</td>\n",
              "    </tr>\n",
              "    <tr>\n",
              "      <th>1</th>\n",
              "      <td>31</td>\n",
              "      <td>1</td>\n",
              "      <td>26</td>\n",
              "      <td>2</td>\n",
              "      <td>11.112687</td>\n",
              "      <td>2</td>\n",
              "      <td>2</td>\n",
              "      <td>1</td>\n",
              "      <td>0.000000</td>\n",
              "      <td>0</td>\n",
              "      <td>2</td>\n",
              "      <td>0</td>\n",
              "      <td>0</td>\n",
              "      <td>0</td>\n",
              "    </tr>\n",
              "  </tbody>\n",
              "</table>\n",
              "</div>"
            ],
            "text/plain": [
              "   Age  Gender  City  Education_Level     Salary  ...  Promotion  QR1  QR2  QR3  QR4\n",
              "0   28       1    15                2  10.957573  ...          0    0    3    0    0\n",
              "1   31       1    26                2  11.112687  ...          0    2    0    0    0\n",
              "\n",
              "[2 rows x 14 columns]"
            ]
          },
          "metadata": {},
          "execution_count": 86
        }
      ]
    },
    {
      "cell_type": "code",
      "metadata": {
        "colab": {
          "base_uri": "https://localhost:8080/"
        },
        "id": "6SnzQD01NCrW",
        "outputId": "cc36a976-a7c6-4626-8327-fddbb6dbd062"
      },
      "source": [
        "X_test.duplicated().sum()"
      ],
      "execution_count": null,
      "outputs": [
        {
          "output_type": "execute_result",
          "data": {
            "text/plain": [
              "0"
            ]
          },
          "metadata": {},
          "execution_count": 87
        }
      ]
    },
    {
      "cell_type": "code",
      "metadata": {
        "colab": {
          "base_uri": "https://localhost:8080/"
        },
        "id": "13ZT2vBMNFaX",
        "outputId": "be997f11-bf97-470a-efd2-6261f638f5e9"
      },
      "source": [
        "y_train.head(2)"
      ],
      "execution_count": null,
      "outputs": [
        {
          "output_type": "execute_result",
          "data": {
            "text/plain": [
              "0    1\n",
              "1    0\n",
              "Name: TargetVariable, dtype: int64"
            ]
          },
          "metadata": {},
          "execution_count": 88
        }
      ]
    },
    {
      "cell_type": "code",
      "metadata": {
        "id": "C8-f7E1S1bAm"
      },
      "source": [
        "#### Split Data into Train and Test Models\n",
        "#from sklearn.model_selection import train_test_split\n",
        "#X_train,X_test,y_train,y_test = train_test_split(X,\n",
        "#                                                 Y,\n",
        "#                                                 test_size = 0.3, \n",
        "#                                                 random_state = 31)"
      ],
      "execution_count": null,
      "outputs": []
    },
    {
      "cell_type": "code",
      "metadata": {
        "id": "0yQH7RU23PAq"
      },
      "source": [
        "#2 . Technique 2 -  Information Gain (Mutual Information) \n",
        "## Measure Presence or absence of a feature contributes to making correct prediction of Target Variable\n",
        "\n",
        "# import the required functions and object.\n",
        "from sklearn.feature_selection import mutual_info_classif\n",
        "from sklearn.feature_selection import SelectKBest\n",
        "\n",
        "# select the number of features you want to retain.\n",
        "select_k = 8\n",
        "\n",
        "# get only the numerical features.\n",
        "numerical_x_train = X_train[X_train.select_dtypes([np.number]).columns]\n",
        "\n",
        "\n",
        "# create the SelectKBest with the mutual info strategy.\n",
        "selection = SelectKBest(mutual_info_classif, k=select_k).fit(numerical_x_train, y_train)\n",
        "\n",
        "# display the retained features.\n",
        "mutualinformation_features = X_train.columns[selection.get_support()]\n"
      ],
      "execution_count": null,
      "outputs": []
    },
    {
      "cell_type": "code",
      "metadata": {
        "id": "h3E_ZjjL_Nqx"
      },
      "source": [
        "#3. Technique 3 - Chi-Squared Score - Mainly suited for categorical variables\n",
        "# import the required functions and object.\n",
        "from sklearn.feature_selection import chi2\n",
        "from sklearn.feature_selection import SelectKBest\n",
        "\n",
        "# select the number of features you want to retain.\n",
        "select_k = 8\n",
        "\n",
        "# apply the chi2 score on the data and target (target should be binary).  \n",
        "selection = SelectKBest(chi2, k=select_k).fit(X_train, y_train)\n",
        "\n",
        "# display the k selected features.\n",
        "chiSquared_features = X_train.columns[selection.get_support()]"
      ],
      "execution_count": null,
      "outputs": []
    },
    {
      "cell_type": "code",
      "metadata": {
        "id": "btjMEi4ZDnOV"
      },
      "source": [
        "# display the k selected features.\n",
        "combined_features = list(X_train.columns)\n",
        "combined_features.remove('Gender')\n",
        "combined_features.remove('City')\n",
        "combined_features.remove('Education_Level')\n",
        "\n",
        "\n"
      ],
      "execution_count": null,
      "outputs": []
    },
    {
      "cell_type": "code",
      "metadata": {
        "colab": {
          "base_uri": "https://localhost:8080/"
        },
        "id": "g8LYDntO_Qr3",
        "outputId": "7514ce69-cd79-4b6a-eb29-b675a6b6bc37"
      },
      "source": [
        "print('mutualinformation_features : ')\n",
        "print(mutualinformation_features)\n",
        "print('chiSquared_features        : ')\n",
        "print(chiSquared_features)\n",
        "print('combined_features        : ')\n",
        "combined_features\n"
      ],
      "execution_count": null,
      "outputs": [
        {
          "output_type": "stream",
          "name": "stdout",
          "text": [
            "mutualinformation_features : \n",
            "Index(['Designation', 'Month_Worked', 'Total Business Value', 'Promotion',\n",
            "       'QR1', 'QR2', 'QR3', 'QR4'],\n",
            "      dtype='object')\n",
            "chiSquared_features        : \n",
            "Index(['Designation', 'Month_Worked', 'Total Business Value', 'Promotion',\n",
            "       'QR1', 'QR2', 'QR3', 'QR4'],\n",
            "      dtype='object')\n",
            "combined_features        : \n"
          ]
        },
        {
          "output_type": "execute_result",
          "data": {
            "text/plain": [
              "['Age',\n",
              " 'Salary',\n",
              " 'Joining Designation',\n",
              " 'Designation',\n",
              " 'Month_Worked',\n",
              " 'Total Business Value',\n",
              " 'Promotion',\n",
              " 'QR1',\n",
              " 'QR2',\n",
              " 'QR3',\n",
              " 'QR4']"
            ]
          },
          "metadata": {},
          "execution_count": 92
        }
      ]
    },
    {
      "cell_type": "markdown",
      "metadata": {
        "id": "IfseqnVUc9ux"
      },
      "source": [
        "# ML Models"
      ]
    },
    {
      "cell_type": "code",
      "metadata": {
        "id": "5E4KPTOddTNg"
      },
      "source": [
        "### LDA classifier\n",
        "combined_logit=LinearDiscriminantAnalysis(solver='svd')\n",
        "combined_logit.fit(X_train[combined_features],y_train)\n",
        "### Print Model Summary\n",
        "#combined_logit.summary2()\n",
        "\n",
        "### Predicting on Test Data\n",
        "###  predict\n",
        "y_pred = combined_logit.predict(X_test[combined_features])  \n",
        "y_pred_train = combined_logit.predict(X_train[combined_features])\n",
        "\n",
        "y_pred_df = pd.DataFrame({\"actual\":y_pred})\n"
      ],
      "execution_count": null,
      "outputs": []
    },
    {
      "cell_type": "code",
      "metadata": {
        "colab": {
          "base_uri": "https://localhost:8080/"
        },
        "id": "LMwbsVUfdpLb",
        "outputId": "3d10de2c-516a-4e0c-d0c5-ed755964a576"
      },
      "source": [
        "y_pred_df.info()"
      ],
      "execution_count": null,
      "outputs": [
        {
          "output_type": "stream",
          "name": "stdout",
          "text": [
            "<class 'pandas.core.frame.DataFrame'>\n",
            "RangeIndex: 741 entries, 0 to 740\n",
            "Data columns (total 1 columns):\n",
            " #   Column  Non-Null Count  Dtype\n",
            "---  ------  --------------  -----\n",
            " 0   actual  741 non-null    int64\n",
            "dtypes: int64(1)\n",
            "memory usage: 5.9 KB\n"
          ]
        }
      ]
    },
    {
      "cell_type": "code",
      "metadata": {
        "id": "rwCdZ0uqak_w"
      },
      "source": [
        "### SGD Classifier\n",
        "combined_logit=SGDClassifier(max_iter=10000,tol=0.001)\n",
        "combined_logit.fit(X_train[combined_features],y_train)\n",
        "### Print Model Summary\n",
        "#combined_logit.summary2()\n",
        "\n",
        "### Predicting on Test Data\n",
        "###  predict\n",
        "y_pred = combined_logit.predict(X_test[combined_features])  \n",
        "y_pred_train = combined_logit.predict(X_train[combined_features])\n",
        "\n",
        "y_pred_df = pd.DataFrame({\"actual\":y_pred})\n",
        "\n",
        "\n"
      ],
      "execution_count": null,
      "outputs": []
    },
    {
      "cell_type": "code",
      "metadata": {
        "colab": {
          "base_uri": "https://localhost:8080/"
        },
        "id": "7fg6fqSoa442",
        "outputId": "43ce5fc7-1ccd-43f1-c6e7-a1dd91e1ee44"
      },
      "source": [
        "y_pred_df.info()"
      ],
      "execution_count": null,
      "outputs": [
        {
          "output_type": "stream",
          "name": "stdout",
          "text": [
            "<class 'pandas.core.frame.DataFrame'>\n",
            "RangeIndex: 741 entries, 0 to 740\n",
            "Data columns (total 1 columns):\n",
            " #   Column  Non-Null Count  Dtype\n",
            "---  ------  --------------  -----\n",
            " 0   actual  741 non-null    int64\n",
            "dtypes: int64(1)\n",
            "memory usage: 5.9 KB\n"
          ]
        }
      ]
    },
    {
      "cell_type": "code",
      "metadata": {
        "colab": {
          "base_uri": "https://localhost:8080/"
        },
        "id": "l0q_qA94dtSd",
        "outputId": "d6763936-3150-4481-9806-93369887304d"
      },
      "source": [
        "from google.colab import drive\n",
        "import csv\n",
        "drive.mount('/gdrive',force_remount=True)\n",
        "y_pred_df.to_csv('/gdrive/My Drive/hackathon1120_comb.csv')"
      ],
      "execution_count": null,
      "outputs": [
        {
          "output_type": "stream",
          "name": "stdout",
          "text": [
            "Mounted at /gdrive\n"
          ]
        }
      ]
    },
    {
      "cell_type": "code",
      "metadata": {
        "id": "grlstIIaQl2_"
      },
      "source": [
        "### Build Logistic Regression Model\n",
        "combined_logit=LogisticRegression(solver='liblinear')\n",
        "combined_logit.fit(X_train[combined_features],y_train)\n",
        "### Print Model Summary\n",
        "#combined_logit.summary2()\n",
        "\n",
        "### Predicting on Test Data\n",
        "###  predict\n",
        "y_pred = combined_logit.predict(X_test[combined_features])  \n",
        "y_pred_train = combined_logit.predict(X_train[combined_features])\n",
        "\n",
        "y_pred_df = pd.DataFrame({\"actual\":y_pred})\n",
        "\n",
        "\n",
        "\n"
      ],
      "execution_count": null,
      "outputs": []
    },
    {
      "cell_type": "code",
      "metadata": {
        "colab": {
          "base_uri": "https://localhost:8080/"
        },
        "id": "0lHWGkbea8oD",
        "outputId": "a8699ac0-f9d1-4d01-8c65-aeead74aa6d2"
      },
      "source": [
        "from google.colab import drive\n",
        "import csv\n",
        "drive.mount('/gdrive',force_remount=True)\n",
        "y_pred_df.to_csv('/gdrive/My Drive/hackathon1120_comb.csv')"
      ],
      "execution_count": null,
      "outputs": [
        {
          "output_type": "stream",
          "name": "stdout",
          "text": [
            "Mounted at /gdrive\n"
          ]
        }
      ]
    },
    {
      "cell_type": "code",
      "metadata": {
        "colab": {
          "base_uri": "https://localhost:8080/"
        },
        "id": "LQAdd6Z8SF_B",
        "outputId": "20e2f251-25fe-4560-bd09-c3bce5e4941a"
      },
      "source": [
        "y_pred_df.info()"
      ],
      "execution_count": null,
      "outputs": [
        {
          "output_type": "stream",
          "name": "stdout",
          "text": [
            "<class 'pandas.core.frame.DataFrame'>\n",
            "RangeIndex: 741 entries, 0 to 740\n",
            "Data columns (total 1 columns):\n",
            " #   Column  Non-Null Count  Dtype\n",
            "---  ------  --------------  -----\n",
            " 0   actual  741 non-null    int64\n",
            "dtypes: int64(1)\n",
            "memory usage: 5.9 KB\n"
          ]
        }
      ]
    },
    {
      "cell_type": "code",
      "metadata": {
        "colab": {
          "base_uri": "https://localhost:8080/"
        },
        "id": "YTiF_uyYdC_Q",
        "outputId": "514b46b7-5f37-4bfb-a19a-cad9cc23b021"
      },
      "source": [
        "from google.colab import drive\n",
        "import csv\n",
        "drive.mount('/gdrive',force_remount=True)\n",
        "y_pred_df.to_csv('/gdrive/My Drive/hackathon1120_comb.csv')"
      ],
      "execution_count": null,
      "outputs": [
        {
          "output_type": "stream",
          "name": "stdout",
          "text": [
            "Mounted at /gdrive\n"
          ]
        }
      ]
    },
    {
      "cell_type": "code",
      "metadata": {
        "id": "PtAfC-yEbF0P"
      },
      "source": [
        "### Build SVM Model\n",
        "combined_logit=model=LinearSVC(C=1.0,max_iter=1000,tol=0.001,dual=False)\n",
        "combined_logit.fit(X_train[combined_features],y_train)\n",
        "\n",
        "\n",
        "### Predicting on Test Data\n",
        "###  predict\n",
        "y_pred = combined_logit.predict(X_test[combined_features])  \n",
        "y_pred_train = combined_logit.predict(X_train[combined_features])\n",
        "\n",
        "y_pred_df = pd.DataFrame({\"actual\":y_pred})"
      ],
      "execution_count": null,
      "outputs": []
    },
    {
      "cell_type": "code",
      "metadata": {
        "colab": {
          "base_uri": "https://localhost:8080/"
        },
        "id": "GoXe1Sg4bJ_2",
        "outputId": "d6a21d29-be5a-451c-ece4-3d390ea4ca69"
      },
      "source": [
        "y_pred_df.info()"
      ],
      "execution_count": null,
      "outputs": [
        {
          "output_type": "stream",
          "name": "stdout",
          "text": [
            "<class 'pandas.core.frame.DataFrame'>\n",
            "RangeIndex: 741 entries, 0 to 740\n",
            "Data columns (total 1 columns):\n",
            " #   Column  Non-Null Count  Dtype\n",
            "---  ------  --------------  -----\n",
            " 0   actual  741 non-null    int64\n",
            "dtypes: int64(1)\n",
            "memory usage: 5.9 KB\n"
          ]
        }
      ]
    },
    {
      "cell_type": "code",
      "metadata": {
        "colab": {
          "base_uri": "https://localhost:8080/"
        },
        "id": "S3Oki7FTbPIc",
        "outputId": "201515a6-38f7-49c2-99b6-d46f556270a3"
      },
      "source": [
        "from google.colab import drive\n",
        "import csv\n",
        "drive.mount('/gdrive',force_remount=True)\n",
        "y_pred_df.to_csv('/gdrive/My Drive/hackathon1120_comb.csv')"
      ],
      "execution_count": null,
      "outputs": [
        {
          "output_type": "stream",
          "name": "stdout",
          "text": [
            "Mounted at /gdrive\n"
          ]
        }
      ]
    }
  ]
}