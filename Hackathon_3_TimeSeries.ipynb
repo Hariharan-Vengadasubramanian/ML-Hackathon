{
  "nbformat": 4,
  "nbformat_minor": 0,
  "metadata": {
    "colab": {
      "name": "Hackathon_3_TimeSeries.ipynb",
      "provenance": [],
      "collapsed_sections": [
        "NnodNTMaKRq0",
        "PMhXYWOjLAso"
      ],
      "authorship_tag": "ABX9TyMfIGNtQn99Cv6rXZKVVeAI",
      "include_colab_link": true
    },
    "kernelspec": {
      "name": "python3",
      "display_name": "Python 3"
    },
    "language_info": {
      "name": "python"
    }
  },
  "cells": [
    {
      "cell_type": "markdown",
      "metadata": {
        "id": "view-in-github",
        "colab_type": "text"
      },
      "source": [
        "<a href=\"https://colab.research.google.com/github/Hariharan-Vengadasubramanian/ML-Hackathon/blob/main/Hackathon_3_TimeSeries.ipynb\" target=\"_parent\"><img src=\"https://colab.research.google.com/assets/colab-badge.svg\" alt=\"Open In Colab\"/></a>"
      ]
    },
    {
      "cell_type": "code",
      "execution_count": null,
      "metadata": {
        "id": "fcKcAsD2Hubf"
      },
      "outputs": [],
      "source": [
        "import numpy as np\n",
        "import pandas as pd\n",
        "import matplotlib.pyplot as plt\n",
        "import seaborn as sns\n",
        "import statsmodels.api as sm\n",
        "%matplotlib inline\n",
        "import warnings\n",
        "warnings.filterwarnings('ignore')"
      ]
    },
    {
      "cell_type": "code",
      "source": [
        "from google.colab import files\n",
        "uploaded = files.upload()"
      ],
      "metadata": {
        "colab": {
          "resources": {
            "http://localhost:8080/nbextensions/google.colab/files.js": {
              "data": "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",
              "ok": true,
              "headers": [
                [
                  "content-type",
                  "application/javascript"
                ]
              ],
              "status": 200,
              "status_text": ""
            }
          },
          "base_uri": "https://localhost:8080/",
          "height": 74
        },
        "id": "cpw-4TEWHz8a",
        "outputId": "56dcc81e-be02-435b-97ca-4c22d860b73c"
      },
      "execution_count": null,
      "outputs": [
        {
          "output_type": "display_data",
          "data": {
            "text/html": [
              "\n",
              "     <input type=\"file\" id=\"files-38f686de-f6bd-4dc3-93cf-db8fd23cc450\" name=\"files[]\" multiple disabled\n",
              "        style=\"border:none\" />\n",
              "     <output id=\"result-38f686de-f6bd-4dc3-93cf-db8fd23cc450\">\n",
              "      Upload widget is only available when the cell has been executed in the\n",
              "      current browser session. Please rerun this cell to enable.\n",
              "      </output>\n",
              "      <script src=\"/nbextensions/google.colab/files.js\"></script> "
            ],
            "text/plain": [
              "<IPython.core.display.HTML object>"
            ]
          },
          "metadata": {}
        },
        {
          "output_type": "stream",
          "name": "stdout",
          "text": [
            "Saving data.csv to data (3).csv\n"
          ]
        }
      ]
    },
    {
      "cell_type": "code",
      "source": [
        "call_data = pd.read_csv(\"data.csv\",parse_dates=[0])"
      ],
      "metadata": {
        "id": "ogU_m-VHH9dg"
      },
      "execution_count": null,
      "outputs": []
    },
    {
      "cell_type": "code",
      "source": [
        "call_data.info()"
      ],
      "metadata": {
        "colab": {
          "base_uri": "https://localhost:8080/"
        },
        "id": "lMokX6poISJ_",
        "outputId": "0cd4695d-ddc9-4af2-f516-a23ffa07c0b5"
      },
      "execution_count": null,
      "outputs": [
        {
          "output_type": "stream",
          "name": "stdout",
          "text": [
            "<class 'pandas.core.frame.DataFrame'>\n",
            "RangeIndex: 1673 entries, 0 to 1672\n",
            "Data columns (total 2 columns):\n",
            " #   Column            Non-Null Count  Dtype         \n",
            "---  ------            --------------  -----         \n",
            " 0   Date              1673 non-null   datetime64[ns]\n",
            " 1   No_calls_offered  1673 non-null   int64         \n",
            "dtypes: datetime64[ns](1), int64(1)\n",
            "memory usage: 26.3 KB\n"
          ]
        }
      ]
    },
    {
      "cell_type": "code",
      "source": [
        "call_data.tail(7)"
      ],
      "metadata": {
        "colab": {
          "base_uri": "https://localhost:8080/",
          "height": 269
        },
        "id": "75huOYHYIkww",
        "outputId": "927745b1-c85b-4c5d-9b68-aa82d7a49d13"
      },
      "execution_count": null,
      "outputs": [
        {
          "output_type": "execute_result",
          "data": {
            "text/html": [
              "\n",
              "  <div id=\"df-0e84ccac-f48f-406a-aeaa-591acbefc9d4\">\n",
              "    <div class=\"colab-df-container\">\n",
              "      <div>\n",
              "<style scoped>\n",
              "    .dataframe tbody tr th:only-of-type {\n",
              "        vertical-align: middle;\n",
              "    }\n",
              "\n",
              "    .dataframe tbody tr th {\n",
              "        vertical-align: top;\n",
              "    }\n",
              "\n",
              "    .dataframe thead th {\n",
              "        text-align: right;\n",
              "    }\n",
              "</style>\n",
              "<table border=\"1\" class=\"dataframe\">\n",
              "  <thead>\n",
              "    <tr style=\"text-align: right;\">\n",
              "      <th></th>\n",
              "      <th>Date</th>\n",
              "      <th>No_calls_offered</th>\n",
              "    </tr>\n",
              "  </thead>\n",
              "  <tbody>\n",
              "    <tr>\n",
              "      <th>1666</th>\n",
              "      <td>2021-07-25</td>\n",
              "      <td>262</td>\n",
              "    </tr>\n",
              "    <tr>\n",
              "      <th>1667</th>\n",
              "      <td>2021-07-26</td>\n",
              "      <td>1378</td>\n",
              "    </tr>\n",
              "    <tr>\n",
              "      <th>1668</th>\n",
              "      <td>2021-07-27</td>\n",
              "      <td>1347</td>\n",
              "    </tr>\n",
              "    <tr>\n",
              "      <th>1669</th>\n",
              "      <td>2021-07-28</td>\n",
              "      <td>1374</td>\n",
              "    </tr>\n",
              "    <tr>\n",
              "      <th>1670</th>\n",
              "      <td>2021-07-29</td>\n",
              "      <td>1317</td>\n",
              "    </tr>\n",
              "    <tr>\n",
              "      <th>1671</th>\n",
              "      <td>2021-07-30</td>\n",
              "      <td>1185</td>\n",
              "    </tr>\n",
              "    <tr>\n",
              "      <th>1672</th>\n",
              "      <td>2021-07-31</td>\n",
              "      <td>345</td>\n",
              "    </tr>\n",
              "  </tbody>\n",
              "</table>\n",
              "</div>\n",
              "      <button class=\"colab-df-convert\" onclick=\"convertToInteractive('df-0e84ccac-f48f-406a-aeaa-591acbefc9d4')\"\n",
              "              title=\"Convert this dataframe to an interactive table.\"\n",
              "              style=\"display:none;\">\n",
              "        \n",
              "  <svg xmlns=\"http://www.w3.org/2000/svg\" height=\"24px\"viewBox=\"0 0 24 24\"\n",
              "       width=\"24px\">\n",
              "    <path d=\"M0 0h24v24H0V0z\" fill=\"none\"/>\n",
              "    <path d=\"M18.56 5.44l.94 2.06.94-2.06 2.06-.94-2.06-.94-.94-2.06-.94 2.06-2.06.94zm-11 1L8.5 8.5l.94-2.06 2.06-.94-2.06-.94L8.5 2.5l-.94 2.06-2.06.94zm10 10l.94 2.06.94-2.06 2.06-.94-2.06-.94-.94-2.06-.94 2.06-2.06.94z\"/><path d=\"M17.41 7.96l-1.37-1.37c-.4-.4-.92-.59-1.43-.59-.52 0-1.04.2-1.43.59L10.3 9.45l-7.72 7.72c-.78.78-.78 2.05 0 2.83L4 21.41c.39.39.9.59 1.41.59.51 0 1.02-.2 1.41-.59l7.78-7.78 2.81-2.81c.8-.78.8-2.07 0-2.86zM5.41 20L4 18.59l7.72-7.72 1.47 1.35L5.41 20z\"/>\n",
              "  </svg>\n",
              "      </button>\n",
              "      \n",
              "  <style>\n",
              "    .colab-df-container {\n",
              "      display:flex;\n",
              "      flex-wrap:wrap;\n",
              "      gap: 12px;\n",
              "    }\n",
              "\n",
              "    .colab-df-convert {\n",
              "      background-color: #E8F0FE;\n",
              "      border: none;\n",
              "      border-radius: 50%;\n",
              "      cursor: pointer;\n",
              "      display: none;\n",
              "      fill: #1967D2;\n",
              "      height: 32px;\n",
              "      padding: 0 0 0 0;\n",
              "      width: 32px;\n",
              "    }\n",
              "\n",
              "    .colab-df-convert:hover {\n",
              "      background-color: #E2EBFA;\n",
              "      box-shadow: 0px 1px 2px rgba(60, 64, 67, 0.3), 0px 1px 3px 1px rgba(60, 64, 67, 0.15);\n",
              "      fill: #174EA6;\n",
              "    }\n",
              "\n",
              "    [theme=dark] .colab-df-convert {\n",
              "      background-color: #3B4455;\n",
              "      fill: #D2E3FC;\n",
              "    }\n",
              "\n",
              "    [theme=dark] .colab-df-convert:hover {\n",
              "      background-color: #434B5C;\n",
              "      box-shadow: 0px 1px 3px 1px rgba(0, 0, 0, 0.15);\n",
              "      filter: drop-shadow(0px 1px 2px rgba(0, 0, 0, 0.3));\n",
              "      fill: #FFFFFF;\n",
              "    }\n",
              "  </style>\n",
              "\n",
              "      <script>\n",
              "        const buttonEl =\n",
              "          document.querySelector('#df-0e84ccac-f48f-406a-aeaa-591acbefc9d4 button.colab-df-convert');\n",
              "        buttonEl.style.display =\n",
              "          google.colab.kernel.accessAllowed ? 'block' : 'none';\n",
              "\n",
              "        async function convertToInteractive(key) {\n",
              "          const element = document.querySelector('#df-0e84ccac-f48f-406a-aeaa-591acbefc9d4');\n",
              "          const dataTable =\n",
              "            await google.colab.kernel.invokeFunction('convertToInteractive',\n",
              "                                                     [key], {});\n",
              "          if (!dataTable) return;\n",
              "\n",
              "          const docLinkHtml = 'Like what you see? Visit the ' +\n",
              "            '<a target=\"_blank\" href=https://colab.research.google.com/notebooks/data_table.ipynb>data table notebook</a>'\n",
              "            + ' to learn more about interactive tables.';\n",
              "          element.innerHTML = '';\n",
              "          dataTable['output_type'] = 'display_data';\n",
              "          await google.colab.output.renderOutput(dataTable, element);\n",
              "          const docLink = document.createElement('div');\n",
              "          docLink.innerHTML = docLinkHtml;\n",
              "          element.appendChild(docLink);\n",
              "        }\n",
              "      </script>\n",
              "    </div>\n",
              "  </div>\n",
              "  "
            ],
            "text/plain": [
              "           Date  No_calls_offered\n",
              "1666 2021-07-25               262\n",
              "1667 2021-07-26              1378\n",
              "1668 2021-07-27              1347\n",
              "1669 2021-07-28              1374\n",
              "1670 2021-07-29              1317\n",
              "1671 2021-07-30              1185\n",
              "1672 2021-07-31               345"
            ]
          },
          "metadata": {},
          "execution_count": 161
        }
      ]
    },
    {
      "cell_type": "markdown",
      "source": [
        "# Plot Date Vs Calls"
      ],
      "metadata": {
        "id": "NnodNTMaKRq0"
      }
    },
    {
      "cell_type": "code",
      "source": [
        "plt.figure(figsize=(10,4))\n",
        "plt.xlabel(\"Date\")\n",
        "plt.ylabel(\"Number of calls offered\")\n",
        "plt.plot(call_data.No_calls_offered)"
      ],
      "metadata": {
        "colab": {
          "base_uri": "https://localhost:8080/"
        },
        "id": "nioyHC0rKVGZ",
        "outputId": "853e936f-b1d3-4000-da9a-a36960db64b1"
      },
      "execution_count": null,
      "outputs": [
        {
          "output_type": "execute_result",
          "data": {
            "text/plain": [
              "[<matplotlib.lines.Line2D at 0x7f5fb5d906d0>]"
            ]
          },
          "metadata": {},
          "execution_count": 162
        },
        {
          "output_type": "display_data",
          "data": {
            "image/png": "[encoded data removed]",
            "text/plain": [
              "<Figure size 720x288 with 1 Axes>"
            ]
          },
          "metadata": {
            "needs_background": "light"
          }
        }
      ]
    },
    {
      "cell_type": "markdown",
      "source": [
        "# Auto Correlation Map"
      ],
      "metadata": {
        "id": "PMhXYWOjLAso"
      }
    },
    {
      "cell_type": "code",
      "source": [
        "from statsmodels.graphics.tsaplots import plot_acf,plot_pacf\n",
        "\n",
        "# Autocorrelation\n",
        "acf_plot = plot_acf(call_data.No_calls_offered,lags=21)"
      ],
      "metadata": {
        "colab": {
          "base_uri": "https://localhost:8080/"
        },
        "id": "pBWEriEGLDbK",
        "outputId": "b22c275e-88b0-4860-fbf0-486997b62f63"
      },
      "execution_count": null,
      "outputs": [
        {
          "output_type": "display_data",
          "data": {
            "image/png": "[encoded data removed]",
            "text/plain": [
              "<Figure size 432x288 with 1 Axes>"
            ]
          },
          "metadata": {
            "needs_background": "light"
          }
        }
      ]
    },
    {
      "cell_type": "code",
      "source": [
        "# Autocorrelation\n",
        "pacf_plot = plot_pacf(call_data.No_calls_offered,lags=21)\n",
        "\n",
        "### this gives Order p in Autoregressive model ; Number of significant spikes outside confidence interval is high at 7. We can try AR(7) model ; p=7"
      ],
      "metadata": {
        "colab": {
          "base_uri": "https://localhost:8080/"
        },
        "id": "kY9bZ7QcL8vR",
        "outputId": "b11c9f55-e369-49b4-c0b9-2e8c9674b4ad"
      },
      "execution_count": null,
      "outputs": [
        {
          "output_type": "display_data",
          "data": {
            "image/png": "[encoded data removed]",
            "text/plain": [
              "<Figure size 432x288 with 1 Axes>"
            ]
          },
          "metadata": {
            "needs_background": "light"
          }
        }
      ]
    },
    {
      "cell_type": "markdown",
      "source": [
        "# Use Dicky-Fuller test to check if time-series is stationary or not\n",
        "\n",
        "Null Hypothesis - Time series is not Stationary\n",
        "Alternate Hypothesis - Time Series is Stationary"
      ],
      "metadata": {
        "id": "T2bKjxnHMnvW"
      }
    },
    {
      "cell_type": "code",
      "source": [
        "from statsmodels.tsa.stattools import adfuller\n",
        "def adfuller_test(ts):\n",
        "  adfuller_result = adfuller(ts,autolag=None)\n",
        "  adfuller_out = pd.Series(adfuller_result[0:4],\n",
        "                           index=['Test Statistic',\n",
        "                                  'p-value',\n",
        "                                  'Lags Used',\n",
        "                                  'Number of Observations Used'])\n",
        "  print(adfuller_out)"
      ],
      "metadata": {
        "id": "soqXLYuLMzKm"
      },
      "execution_count": null,
      "outputs": []
    },
    {
      "cell_type": "code",
      "source": [
        "adfuller_test(call_data.No_calls_offered)"
      ],
      "metadata": {
        "colab": {
          "base_uri": "https://localhost:8080/"
        },
        "id": "o2_HrvhONeeV",
        "outputId": "e8ac3b0b-491a-416d-e0df-c816c7b41c74"
      },
      "execution_count": null,
      "outputs": [
        {
          "output_type": "stream",
          "name": "stdout",
          "text": [
            "Test Statistic                   -2.578515\n",
            "p-value                           0.097520\n",
            "Lags Used                        25.000000\n",
            "Number of Observations Used    1647.000000\n",
            "dtype: float64\n"
          ]
        }
      ]
    },
    {
      "cell_type": "markdown",
      "source": [
        "p-value greater than 0.05. So Accept Null Hypothesis, Reject Alternate Hypothesis. \n",
        "Time Series is non-Stationary. "
      ],
      "metadata": {
        "id": "Lbj-FFPlNx6N"
      }
    },
    {
      "cell_type": "code",
      "source": [
        "call_data.index=call_data['Date']"
      ],
      "metadata": {
        "id": "LsMVW8cTgKQE"
      },
      "execution_count": null,
      "outputs": []
    },
    {
      "cell_type": "code",
      "source": [
        "call_data.No_calls_offered['2021-01-01':'2021-07-31']"
      ],
      "metadata": {
        "colab": {
          "base_uri": "https://localhost:8080/"
        },
        "id": "SbL1Ccq9e455",
        "outputId": "80329b1e-4eac-4077-efc8-40aa8e1c0747"
      },
      "execution_count": null,
      "outputs": [
        {
          "output_type": "execute_result",
          "data": {
            "text/plain": [
              "Date\n",
              "2021-01-01      98\n",
              "2021-02-01     316\n",
              "2021-03-01     233\n",
              "2021-04-01    1615\n",
              "2021-05-01    1470\n",
              "              ... \n",
              "2021-07-27    1347\n",
              "2021-07-28    1374\n",
              "2021-07-29    1317\n",
              "2021-07-30    1185\n",
              "2021-07-31     345\n",
              "Name: No_calls_offered, Length: 177, dtype: int64"
            ]
          },
          "metadata": {},
          "execution_count": 168
        }
      ]
    },
    {
      "cell_type": "code",
      "source": [
        "from statsmodels.tsa.arima_model import ARIMA\n",
        "\n",
        "arima = ARIMA(call_data.No_calls_offered['2021-01-01':'2021-07-30'].astype(np.float64),\n",
        "              order = (7,0,0))"
      ],
      "metadata": {
        "id": "MA-ti3JgUaMD"
      },
      "execution_count": null,
      "outputs": []
    },
    {
      "cell_type": "code",
      "source": [
        "ar_model = arima.fit()"
      ],
      "metadata": {
        "id": "joGdRioyh3Nm"
      },
      "execution_count": null,
      "outputs": []
    },
    {
      "cell_type": "code",
      "source": [
        "ar_model.summary2()"
      ],
      "metadata": {
        "colab": {
          "base_uri": "https://localhost:8080/",
          "height": 566
        },
        "id": "eGq0E-huiGB1",
        "outputId": "e09f0d8a-22d1-4bbd-844d-cccd51f82f4d"
      },
      "execution_count": null,
      "outputs": [
        {
          "output_type": "execute_result",
          "data": {
            "text/html": [
              "<table class=\"simpletable\">\n",
              "<tr>\n",
              "        <td>Model:</td>              <td>ARMA</td>               <td>BIC:</td>         <td>2596.6581</td>\n",
              "</tr>\n",
              "<tr>\n",
              "  <td>Dependent Variable:</td> <td>No_calls_offered</td>    <td>Log-Likelihood:</td>    <td>-1275.1</td> \n",
              "</tr>\n",
              "<tr>\n",
              "         <td>Date:</td>        <td>2022-02-10 19:01</td>        <td>Scale:</td>         <td>1.0000</td>  \n",
              "</tr>\n",
              "<tr>\n",
              "   <td>No. Observations:</td>         <td>176</td>              <td>Method:</td>        <td>css-mle</td> \n",
              "</tr>\n",
              "<tr>\n",
              "       <td>Df Model:</td>              <td>8</td>               <td>Sample:</td>           <td>0</td>    \n",
              "</tr>\n",
              "<tr>\n",
              "     <td>Df Residuals:</td>           <td>168</td>                 <td></td>               <td>6</td>    \n",
              "</tr>\n",
              "<tr>\n",
              "      <td>Converged:</td>           <td>1.0000</td>      <td>S.D. of innovations:</td>  <td>336.630</td> \n",
              "</tr>\n",
              "<tr>\n",
              "    <td>No. Iterations:</td>        <td>31.0000</td>             <td>HQIC:</td>        <td>2579.697</td> \n",
              "</tr>\n",
              "<tr>\n",
              "         <td>AIC:</td>             <td>2568.1238</td>              <td></td>               <td></td>     \n",
              "</tr>\n",
              "</table>\n",
              "<table class=\"simpletable\">\n",
              "<tr>\n",
              "             <td></td>              <th>Coef.</th>  <th>Std.Err.</th>    <th>t</th>     <th>P>|t|</th>  <th>[0.025</th>   <th>0.975]</th> \n",
              "</tr>\n",
              "<tr>\n",
              "  <th>const</th>                  <td>964.1754</td>  <td>16.5040</td> <td>58.4207</td> <td>0.0000</td> <td>931.8282</td> <td>996.5226</td>\n",
              "</tr>\n",
              "<tr>\n",
              "  <th>ar.L1.No_calls_offered</th>  <td>0.2656</td>   <td>0.0754</td>  <td>3.5220</td>  <td>0.0006</td>  <td>0.1178</td>   <td>0.4134</td> \n",
              "</tr>\n",
              "<tr>\n",
              "  <th>ar.L2.No_calls_offered</th>  <td>-0.3503</td>  <td>0.0779</td>  <td>-4.4984</td> <td>0.0000</td>  <td>-0.5029</td>  <td>-0.1977</td>\n",
              "</tr>\n",
              "<tr>\n",
              "  <th>ar.L3.No_calls_offered</th>  <td>-0.1061</td>  <td>0.0797</td>  <td>-1.3323</td> <td>0.1846</td>  <td>-0.2623</td>  <td>0.0500</td> \n",
              "</tr>\n",
              "<tr>\n",
              "  <th>ar.L4.No_calls_offered</th>  <td>-0.2148</td>  <td>0.0787</td>  <td>-2.7283</td> <td>0.0070</td>  <td>-0.3692</td>  <td>-0.0605</td>\n",
              "</tr>\n",
              "<tr>\n",
              "  <th>ar.L5.No_calls_offered</th>  <td>-0.3276</td>  <td>0.0806</td>  <td>-4.0635</td> <td>0.0001</td>  <td>-0.4857</td>  <td>-0.1696</td>\n",
              "</tr>\n",
              "<tr>\n",
              "  <th>ar.L6.No_calls_offered</th>  <td>0.0335</td>   <td>0.0796</td>  <td>0.4206</td>  <td>0.6746</td>  <td>-0.1226</td>  <td>0.1896</td> \n",
              "</tr>\n",
              "<tr>\n",
              "  <th>ar.L7.No_calls_offered</th>  <td>0.1506</td>   <td>0.0765</td>  <td>1.9695</td>  <td>0.0505</td>  <td>0.0007</td>   <td>0.3004</td> \n",
              "</tr>\n",
              "</table>\n",
              "<table class=\"simpletable\">\n",
              "<tr>\n",
              "    <td></td>    <th>Real</th>   <th>Imaginary</th> <th>Modulus</th> <th>Frequency</th>\n",
              "</tr>\n",
              "<tr>\n",
              "  <th>AR.1</th> <td>0.7097</td>   <td>-0.7734</td>  <td>1.0497</td>   <td>-0.1318</td> \n",
              "</tr>\n",
              "<tr>\n",
              "  <th>AR.2</th> <td>0.7097</td>   <td>0.7734</td>   <td>1.0497</td>   <td>0.1318</td>  \n",
              "</tr>\n",
              "<tr>\n",
              "  <th>AR.3</th> <td>-0.2621</td>  <td>-1.1192</td>  <td>1.1495</td>   <td>-0.2866</td> \n",
              "</tr>\n",
              "<tr>\n",
              "  <th>AR.4</th> <td>-0.2621</td>  <td>1.1192</td>   <td>1.1495</td>   <td>0.2866</td>  \n",
              "</tr>\n",
              "<tr>\n",
              "  <th>AR.5</th> <td>1.8222</td>   <td>-0.0000</td>  <td>1.8222</td>   <td>-0.0000</td> \n",
              "</tr>\n",
              "<tr>\n",
              "  <th>AR.6</th> <td>-1.4699</td>  <td>-0.5849</td>  <td>1.5820</td>   <td>-0.4397</td> \n",
              "</tr>\n",
              "<tr>\n",
              "  <th>AR.7</th> <td>-1.4699</td>  <td>0.5849</td>   <td>1.5820</td>   <td>0.4397</td>  \n",
              "</tr>\n",
              "</table>"
            ],
            "text/plain": [
              "<class 'statsmodels.iolib.summary2.Summary'>\n",
              "\"\"\"\n",
              "                              Results: ARMA\n",
              "=========================================================================\n",
              "Model:                ARMA               BIC:                   2596.6581\n",
              "Dependent Variable:   No_calls_offered   Log-Likelihood:        -1275.1  \n",
              "Date:                 2022-02-10 19:01   Scale:                 1.0000   \n",
              "No. Observations:     176                Method:                css-mle  \n",
              "Df Model:             8                  Sample:                0        \n",
              "Df Residuals:         168                                       6        \n",
              "Converged:            1.0000             S.D. of innovations:   336.630  \n",
              "No. Iterations:       31.0000            HQIC:                  2579.697 \n",
              "AIC:                  2568.1238                                          \n",
              "-------------------------------------------------------------------------\n",
              "                        Coef.   Std.Err.    t    P>|t|   [0.025   0.975] \n",
              "-------------------------------------------------------------------------\n",
              "const                  964.1754  16.5040 58.4207 0.0000 931.8282 996.5226\n",
              "ar.L1.No_calls_offered   0.2656   0.0754  3.5220 0.0006   0.1178   0.4134\n",
              "ar.L2.No_calls_offered  -0.3503   0.0779 -4.4984 0.0000  -0.5029  -0.1977\n",
              "ar.L3.No_calls_offered  -0.1061   0.0797 -1.3323 0.1846  -0.2623   0.0500\n",
              "ar.L4.No_calls_offered  -0.2148   0.0787 -2.7283 0.0070  -0.3692  -0.0605\n",
              "ar.L5.No_calls_offered  -0.3276   0.0806 -4.0635 0.0001  -0.4857  -0.1696\n",
              "ar.L6.No_calls_offered   0.0335   0.0796  0.4206 0.6746  -0.1226   0.1896\n",
              "ar.L7.No_calls_offered   0.1506   0.0765  1.9695 0.0505   0.0007   0.3004\n",
              "------------------------------------------------------------------------------------\n",
              "                  Real             Imaginary            Modulus            Frequency\n",
              "------------------------------------------------------------------------------------\n",
              "AR.1             0.7097              -0.7734             1.0497              -0.1318\n",
              "AR.2             0.7097               0.7734             1.0497               0.1318\n",
              "AR.3            -0.2621              -1.1192             1.1495              -0.2866\n",
              "AR.4            -0.2621               1.1192             1.1495               0.2866\n",
              "AR.5             1.8222              -0.0000             1.8222              -0.0000\n",
              "AR.6            -1.4699              -0.5849             1.5820              -0.4397\n",
              "AR.7            -1.4699               0.5849             1.5820               0.4397\n",
              "=========================================================================\n",
              "\n",
              "\"\"\""
            ]
          },
          "metadata": {},
          "execution_count": 171
        }
      ]
    },
    {
      "cell_type": "code",
      "source": [
        "### Now determine order q\n",
        "\n",
        "# Autocorrelation\n",
        "acf_plot = plot_acf(call_data.No_calls_offered,lags=365)\n",
        "\n",
        "### Below ACF plot shows it take long for data to converge. This indicates data is non-stationary evident from Dicky Fueller test. So assume q=5. \n",
        "### Larger q leads to Overfitting"
      ],
      "metadata": {
        "colab": {
          "base_uri": "https://localhost:8080/",
          "height": 281
        },
        "id": "A32zqtDUdLLC",
        "outputId": "3551ed45-50c9-4252-d8eb-a5292a827495"
      },
      "execution_count": null,
      "outputs": [
        {
          "output_type": "display_data",
          "data": {
            "image/png": "[encoded data removed]",
            "text/plain": [
              "<Figure size 432x288 with 1 Axes>"
            ]
          },
          "metadata": {
            "needs_background": "light"
          }
        }
      ]
    },
    {
      "cell_type": "code",
      "source": [
        "arma = ARIMA(call_data.No_calls_offered['2021-01-01':'2021-07-30'].astype(np.float64),\n",
        "              order = (7,0,3))"
      ],
      "metadata": {
        "id": "H2q8T9uGdecX"
      },
      "execution_count": null,
      "outputs": []
    },
    {
      "cell_type": "code",
      "source": [
        "arma_model = arma.fit()"
      ],
      "metadata": {
        "id": "wiuzBooNd_Cc"
      },
      "execution_count": null,
      "outputs": []
    },
    {
      "cell_type": "code",
      "source": [
        "arma_model.summary2()"
      ],
      "metadata": {
        "colab": {
          "base_uri": "https://localhost:8080/",
          "height": 692
        },
        "id": "b2aSXkZkeDhu",
        "outputId": "f110067a-fb21-43e7-d6a6-ccce2bea6eaf"
      },
      "execution_count": null,
      "outputs": [
        {
          "output_type": "execute_result",
          "data": {
            "text/html": [
              "<table class=\"simpletable\">\n",
              "<tr>\n",
              "        <td>Model:</td>              <td>ARMA</td>               <td>BIC:</td>         <td>2610.7078</td>\n",
              "</tr>\n",
              "<tr>\n",
              "  <td>Dependent Variable:</td> <td>No_calls_offered</td>    <td>Log-Likelihood:</td>    <td>-1274.3</td> \n",
              "</tr>\n",
              "<tr>\n",
              "         <td>Date:</td>        <td>2022-02-10 19:01</td>        <td>Scale:</td>         <td>1.0000</td>  \n",
              "</tr>\n",
              "<tr>\n",
              "   <td>No. Observations:</td>         <td>176</td>              <td>Method:</td>        <td>css-mle</td> \n",
              "</tr>\n",
              "<tr>\n",
              "       <td>Df Model:</td>             <td>11</td>               <td>Sample:</td>           <td>0</td>    \n",
              "</tr>\n",
              "<tr>\n",
              "     <td>Df Residuals:</td>           <td>165</td>                 <td></td>               <td>6</td>    \n",
              "</tr>\n",
              "<tr>\n",
              "      <td>Converged:</td>           <td>1.0000</td>      <td>S.D. of innovations:</td>  <td>335.162</td> \n",
              "</tr>\n",
              "<tr>\n",
              "    <td>No. Iterations:</td>        <td>64.0000</td>             <td>HQIC:</td>        <td>2588.093</td> \n",
              "</tr>\n",
              "<tr>\n",
              "         <td>AIC:</td>             <td>2572.6620</td>              <td></td>               <td></td>     \n",
              "</tr>\n",
              "</table>\n",
              "<table class=\"simpletable\">\n",
              "<tr>\n",
              "             <td></td>              <th>Coef.</th>  <th>Std.Err.</th>    <th>t</th>     <th>P>|t|</th>  <th>[0.025</th>   <th>0.975]</th> \n",
              "</tr>\n",
              "<tr>\n",
              "  <th>const</th>                  <td>964.3021</td>  <td>16.3205</td> <td>59.0854</td> <td>0.0000</td> <td>932.3145</td> <td>996.2897</td>\n",
              "</tr>\n",
              "<tr>\n",
              "  <th>ar.L1.No_calls_offered</th>  <td>0.0084</td>   <td>0.3900</td>  <td>0.0216</td>  <td>0.9828</td>  <td>-0.7560</td>  <td>0.7728</td> \n",
              "</tr>\n",
              "<tr>\n",
              "  <th>ar.L2.No_calls_offered</th>  <td>-0.0838</td>  <td>0.2848</td>  <td>-0.2943</td> <td>0.7689</td>  <td>-0.6421</td>  <td>0.4744</td> \n",
              "</tr>\n",
              "<tr>\n",
              "  <th>ar.L3.No_calls_offered</th>  <td>-0.1327</td>  <td>0.2522</td>  <td>-0.5264</td> <td>0.5993</td>  <td>-0.6270</td>  <td>0.3615</td> \n",
              "</tr>\n",
              "<tr>\n",
              "  <th>ar.L4.No_calls_offered</th>  <td>-0.2185</td>  <td>0.1674</td>  <td>-1.3051</td> <td>0.1937</td>  <td>-0.5467</td>  <td>0.1096</td> \n",
              "</tr>\n",
              "<tr>\n",
              "  <th>ar.L5.No_calls_offered</th>  <td>-0.3036</td>  <td>0.1910</td>  <td>-1.5897</td> <td>0.1138</td>  <td>-0.6779</td>  <td>0.0707</td> \n",
              "</tr>\n",
              "<tr>\n",
              "  <th>ar.L6.No_calls_offered</th>  <td>-0.0120</td>  <td>0.2176</td>  <td>-0.0549</td> <td>0.9562</td>  <td>-0.4384</td>  <td>0.4145</td> \n",
              "</tr>\n",
              "<tr>\n",
              "  <th>ar.L7.No_calls_offered</th>  <td>0.2942</td>   <td>0.1607</td>  <td>1.8312</td>  <td>0.0689</td>  <td>-0.0207</td>  <td>0.6092</td> \n",
              "</tr>\n",
              "<tr>\n",
              "  <th>ma.L1.No_calls_offered</th>  <td>0.2760</td>   <td>0.3978</td>  <td>0.6940</td>  <td>0.4887</td>  <td>-0.5036</td>  <td>1.0556</td> \n",
              "</tr>\n",
              "<tr>\n",
              "  <th>ma.L2.No_calls_offered</th>  <td>-0.1960</td>  <td>0.3401</td>  <td>-0.5764</td> <td>0.5651</td>  <td>-0.8626</td>  <td>0.4705</td> \n",
              "</tr>\n",
              "<tr>\n",
              "  <th>ma.L3.No_calls_offered</th>  <td>-0.1518</td>  <td>0.2217</td>  <td>-0.6846</td> <td>0.4946</td>  <td>-0.5864</td>  <td>0.2828</td> \n",
              "</tr>\n",
              "</table>\n",
              "<table class=\"simpletable\">\n",
              "<tr>\n",
              "    <td></td>    <th>Real</th>   <th>Imaginary</th> <th>Modulus</th> <th>Frequency</th>\n",
              "</tr>\n",
              "<tr>\n",
              "  <th>AR.1</th> <td>-1.1507</td>  <td>-0.4952</td>  <td>1.2527</td>   <td>-0.4353</td> \n",
              "</tr>\n",
              "<tr>\n",
              "  <th>AR.2</th> <td>-1.1507</td>  <td>0.4952</td>   <td>1.2527</td>   <td>0.4353</td>  \n",
              "</tr>\n",
              "<tr>\n",
              "  <th>AR.3</th> <td>-0.3017</td>  <td>-1.0918</td>  <td>1.1327</td>   <td>-0.2929</td> \n",
              "</tr>\n",
              "<tr>\n",
              "  <th>AR.4</th> <td>-0.3017</td>  <td>1.0918</td>   <td>1.1327</td>   <td>0.2929</td>  \n",
              "</tr>\n",
              "<tr>\n",
              "  <th>AR.5</th> <td>0.7165</td>   <td>-0.7763</td>  <td>1.0564</td>   <td>-0.1314</td> \n",
              "</tr>\n",
              "<tr>\n",
              "  <th>AR.6</th> <td>0.7165</td>   <td>0.7763</td>   <td>1.0564</td>   <td>0.1314</td>  \n",
              "</tr>\n",
              "<tr>\n",
              "  <th>AR.7</th> <td>1.5125</td>   <td>-0.0000</td>  <td>1.5125</td>   <td>-0.0000</td> \n",
              "</tr>\n",
              "<tr>\n",
              "  <th>MA.1</th> <td>1.7876</td>   <td>-0.0000</td>  <td>1.7876</td>   <td>-0.0000</td> \n",
              "</tr>\n",
              "<tr>\n",
              "  <th>MA.2</th> <td>-1.5395</td>  <td>-1.1469</td>  <td>1.9198</td>   <td>-0.3981</td> \n",
              "</tr>\n",
              "<tr>\n",
              "  <th>MA.3</th> <td>-1.5395</td>  <td>1.1469</td>   <td>1.9198</td>   <td>0.3981</td>  \n",
              "</tr>\n",
              "</table>"
            ],
            "text/plain": [
              "<class 'statsmodels.iolib.summary2.Summary'>\n",
              "\"\"\"\n",
              "                              Results: ARMA\n",
              "=========================================================================\n",
              "Model:                ARMA               BIC:                   2610.7078\n",
              "Dependent Variable:   No_calls_offered   Log-Likelihood:        -1274.3  \n",
              "Date:                 2022-02-10 19:01   Scale:                 1.0000   \n",
              "No. Observations:     176                Method:                css-mle  \n",
              "Df Model:             11                 Sample:                0        \n",
              "Df Residuals:         165                                       6        \n",
              "Converged:            1.0000             S.D. of innovations:   335.162  \n",
              "No. Iterations:       64.0000            HQIC:                  2588.093 \n",
              "AIC:                  2572.6620                                          \n",
              "-------------------------------------------------------------------------\n",
              "                        Coef.   Std.Err.    t    P>|t|   [0.025   0.975] \n",
              "-------------------------------------------------------------------------\n",
              "const                  964.3021  16.3205 59.0854 0.0000 932.3145 996.2897\n",
              "ar.L1.No_calls_offered   0.0084   0.3900  0.0216 0.9828  -0.7560   0.7728\n",
              "ar.L2.No_calls_offered  -0.0838   0.2848 -0.2943 0.7689  -0.6421   0.4744\n",
              "ar.L3.No_calls_offered  -0.1327   0.2522 -0.5264 0.5993  -0.6270   0.3615\n",
              "ar.L4.No_calls_offered  -0.2185   0.1674 -1.3051 0.1937  -0.5467   0.1096\n",
              "ar.L5.No_calls_offered  -0.3036   0.1910 -1.5897 0.1138  -0.6779   0.0707\n",
              "ar.L6.No_calls_offered  -0.0120   0.2176 -0.0549 0.9562  -0.4384   0.4145\n",
              "ar.L7.No_calls_offered   0.2942   0.1607  1.8312 0.0689  -0.0207   0.6092\n",
              "ma.L1.No_calls_offered   0.2760   0.3978  0.6940 0.4887  -0.5036   1.0556\n",
              "ma.L2.No_calls_offered  -0.1960   0.3401 -0.5764 0.5651  -0.8626   0.4705\n",
              "ma.L3.No_calls_offered  -0.1518   0.2217 -0.6846 0.4946  -0.5864   0.2828\n",
              "------------------------------------------------------------------------------------\n",
              "                  Real             Imaginary            Modulus            Frequency\n",
              "------------------------------------------------------------------------------------\n",
              "AR.1            -1.1507              -0.4952             1.2527              -0.4353\n",
              "AR.2            -1.1507               0.4952             1.2527               0.4353\n",
              "AR.3            -0.3017              -1.0918             1.1327              -0.2929\n",
              "AR.4            -0.3017               1.0918             1.1327               0.2929\n",
              "AR.5             0.7165              -0.7763             1.0564              -0.1314\n",
              "AR.6             0.7165               0.7763             1.0564               0.1314\n",
              "AR.7             1.5125              -0.0000             1.5125              -0.0000\n",
              "MA.1             1.7876              -0.0000             1.7876              -0.0000\n",
              "MA.2            -1.5395              -1.1469             1.9198              -0.3981\n",
              "MA.3            -1.5395               1.1469             1.9198               0.3981\n",
              "=========================================================================\n",
              "\n",
              "\"\"\""
            ]
          },
          "metadata": {},
          "execution_count": 175
        }
      ]
    },
    {
      "cell_type": "code",
      "source": [
        "### Now try Arima model with d=1\n",
        "arima = ARIMA(call_data.No_calls_offered['2021-01-01':'2021-07-30'].astype(np.float64),\n",
        "              order = (7,1,3))"
      ],
      "metadata": {
        "id": "WOB9CXWje95z"
      },
      "execution_count": null,
      "outputs": []
    },
    {
      "cell_type": "code",
      "source": [
        "arima_model = arima.fit()"
      ],
      "metadata": {
        "id": "Mmyq8knifGjK"
      },
      "execution_count": null,
      "outputs": []
    },
    {
      "cell_type": "code",
      "source": [
        "arima_model.summary2()"
      ],
      "metadata": {
        "colab": {
          "base_uri": "https://localhost:8080/",
          "height": 692
        },
        "id": "qyJp2pYAfK4K",
        "outputId": "a31ea274-5f7c-429a-ac3d-9316574ac184"
      },
      "execution_count": null,
      "outputs": [
        {
          "output_type": "execute_result",
          "data": {
            "text/html": [
              "<table class=\"simpletable\">\n",
              "<tr>\n",
              "        <td>Model:</td>               <td>ARIMA</td>               <td>BIC:</td>         <td>2593.6553</td>\n",
              "</tr>\n",
              "<tr>\n",
              "  <td>Dependent Variable:</td> <td>D.No_calls_offered</td>    <td>Log-Likelihood:</td>    <td>-1265.8</td> \n",
              "</tr>\n",
              "<tr>\n",
              "         <td>Date:</td>         <td>2022-02-10 19:02</td>         <td>Scale:</td>         <td>1.0000</td>  \n",
              "</tr>\n",
              "<tr>\n",
              "   <td>No. Observations:</td>          <td>175</td>               <td>Method:</td>        <td>css-mle</td> \n",
              "</tr>\n",
              "<tr>\n",
              "       <td>Df Model:</td>              <td>11</td>                <td>Sample:</td>           <td>1</td>    \n",
              "</tr>\n",
              "<tr>\n",
              "     <td>Df Residuals:</td>            <td>164</td>                  <td></td>               <td>6</td>    \n",
              "</tr>\n",
              "<tr>\n",
              "      <td>Converged:</td>            <td>1.0000</td>       <td>S.D. of innovations:</td>  <td>322.562</td> \n",
              "</tr>\n",
              "<tr>\n",
              "    <td>No. Iterations:</td>        <td>149.0000</td>              <td>HQIC:</td>        <td>2571.083</td> \n",
              "</tr>\n",
              "<tr>\n",
              "         <td>AIC:</td>              <td>2555.6779</td>               <td></td>               <td></td>     \n",
              "</tr>\n",
              "</table>\n",
              "<table class=\"simpletable\">\n",
              "<tr>\n",
              "              <td></td>              <th>Coef.</th>  <th>Std.Err.</th>     <th>t</th>     <th>P>|t|</th> <th>[0.025</th>  <th>0.975]</th> \n",
              "</tr>\n",
              "<tr>\n",
              "  <th>const</th>                    <td>0.3644</td>   <td>0.2662</td>   <td>1.3686</td>  <td>0.1730</td> <td>-0.1574</td> <td>0.8862</td> \n",
              "</tr>\n",
              "<tr>\n",
              "  <th>ar.L1.D.No_calls_offered</th> <td>-1.4755</td>  <td>0.0744</td>  <td>-19.8294</td> <td>0.0000</td> <td>-1.6214</td> <td>-1.3297</td>\n",
              "</tr>\n",
              "<tr>\n",
              "  <th>ar.L2.D.No_calls_offered</th> <td>-0.8891</td>  <td>0.1163</td>   <td>-7.6476</td> <td>0.0000</td> <td>-1.1169</td> <td>-0.6612</td>\n",
              "</tr>\n",
              "<tr>\n",
              "  <th>ar.L3.D.No_calls_offered</th> <td>-0.6589</td>  <td>0.1160</td>   <td>-5.6788</td> <td>0.0000</td> <td>-0.8863</td> <td>-0.4315</td>\n",
              "</tr>\n",
              "<tr>\n",
              "  <th>ar.L4.D.No_calls_offered</th> <td>-0.9227</td>  <td>0.1069</td>   <td>-8.6278</td> <td>0.0000</td> <td>-1.1323</td> <td>-0.7131</td>\n",
              "</tr>\n",
              "<tr>\n",
              "  <th>ar.L5.D.No_calls_offered</th> <td>-0.9576</td>  <td>0.1172</td>   <td>-8.1741</td> <td>0.0000</td> <td>-1.1872</td> <td>-0.7280</td>\n",
              "</tr>\n",
              "<tr>\n",
              "  <th>ar.L6.D.No_calls_offered</th> <td>-0.9103</td>  <td>0.1165</td>   <td>-7.8131</td> <td>0.0000</td> <td>-1.1387</td> <td>-0.6820</td>\n",
              "</tr>\n",
              "<tr>\n",
              "  <th>ar.L7.D.No_calls_offered</th> <td>-0.3112</td>  <td>0.0736</td>   <td>-4.2302</td> <td>0.0000</td> <td>-0.4555</td> <td>-0.1670</td>\n",
              "</tr>\n",
              "<tr>\n",
              "  <th>ma.L1.D.No_calls_offered</th> <td>0.8249</td>     <td>nan</td>      <td>nan</td>     <td>nan</td>    <td>nan</td>     <td>nan</td>  \n",
              "</tr>\n",
              "<tr>\n",
              "  <th>ma.L2.D.No_calls_offered</th> <td>-0.8249</td>  <td>0.0313</td>  <td>-26.3523</td> <td>0.0000</td> <td>-0.8862</td> <td>-0.7635</td>\n",
              "</tr>\n",
              "<tr>\n",
              "  <th>ma.L3.D.No_calls_offered</th> <td>-1.0000</td>    <td>nan</td>      <td>nan</td>     <td>nan</td>    <td>nan</td>     <td>nan</td>  \n",
              "</tr>\n",
              "</table>\n",
              "<table class=\"simpletable\">\n",
              "<tr>\n",
              "    <td></td>    <th>Real</th>   <th>Imaginary</th> <th>Modulus</th> <th>Frequency</th>\n",
              "</tr>\n",
              "<tr>\n",
              "  <th>AR.1</th> <td>0.7354</td>   <td>-0.7639</td>  <td>1.0604</td>   <td>-0.1280</td> \n",
              "</tr>\n",
              "<tr>\n",
              "  <th>AR.2</th> <td>0.7354</td>   <td>0.7639</td>   <td>1.0604</td>   <td>0.1280</td>  \n",
              "</tr>\n",
              "<tr>\n",
              "  <th>AR.3</th> <td>-0.3210</td>  <td>-1.1759</td>  <td>1.2189</td>   <td>-0.2924</td> \n",
              "</tr>\n",
              "<tr>\n",
              "  <th>AR.4</th> <td>-0.3210</td>  <td>1.1759</td>   <td>1.2189</td>   <td>0.2924</td>  \n",
              "</tr>\n",
              "<tr>\n",
              "  <th>AR.5</th> <td>-0.9169</td>  <td>-0.4013</td>  <td>1.0008</td>   <td>-0.4343</td> \n",
              "</tr>\n",
              "<tr>\n",
              "  <th>AR.6</th> <td>-0.9169</td>  <td>0.4013</td>   <td>1.0008</td>   <td>0.4343</td>  \n",
              "</tr>\n",
              "<tr>\n",
              "  <th>AR.7</th> <td>-1.9199</td>  <td>-0.0000</td>  <td>1.9199</td>   <td>-0.5000</td> \n",
              "</tr>\n",
              "<tr>\n",
              "  <th>MA.1</th> <td>1.0000</td>   <td>-0.0000</td>  <td>1.0000</td>   <td>-0.0000</td> \n",
              "</tr>\n",
              "<tr>\n",
              "  <th>MA.2</th> <td>-0.9124</td>  <td>-0.4092</td>  <td>1.0000</td>   <td>-0.4329</td> \n",
              "</tr>\n",
              "<tr>\n",
              "  <th>MA.3</th> <td>-0.9124</td>  <td>0.4092</td>   <td>1.0000</td>   <td>0.4329</td>  \n",
              "</tr>\n",
              "</table>"
            ],
            "text/plain": [
              "<class 'statsmodels.iolib.summary2.Summary'>\n",
              "\"\"\"\n",
              "                             Results: ARIMA\n",
              "=========================================================================\n",
              "Model:                ARIMA               BIC:                  2593.6553\n",
              "Dependent Variable:   D.No_calls_offered  Log-Likelihood:       -1265.8  \n",
              "Date:                 2022-02-10 19:02    Scale:                1.0000   \n",
              "No. Observations:     175                 Method:               css-mle  \n",
              "Df Model:             11                  Sample:               1        \n",
              "Df Residuals:         164                                       6        \n",
              "Converged:            1.0000              S.D. of innovations:  322.562  \n",
              "No. Iterations:       149.0000            HQIC:                 2571.083 \n",
              "AIC:                  2555.6779                                          \n",
              "-------------------------------------------------------------------------\n",
              "                          Coef.  Std.Err.    t     P>|t|   [0.025  0.975]\n",
              "-------------------------------------------------------------------------\n",
              "const                     0.3644   0.2662   1.3686 0.1730 -0.1574  0.8862\n",
              "ar.L1.D.No_calls_offered -1.4755   0.0744 -19.8294 0.0000 -1.6214 -1.3297\n",
              "ar.L2.D.No_calls_offered -0.8891   0.1163  -7.6476 0.0000 -1.1169 -0.6612\n",
              "ar.L3.D.No_calls_offered -0.6589   0.1160  -5.6788 0.0000 -0.8863 -0.4315\n",
              "ar.L4.D.No_calls_offered -0.9227   0.1069  -8.6278 0.0000 -1.1323 -0.7131\n",
              "ar.L5.D.No_calls_offered -0.9576   0.1172  -8.1741 0.0000 -1.1872 -0.7280\n",
              "ar.L6.D.No_calls_offered -0.9103   0.1165  -7.8131 0.0000 -1.1387 -0.6820\n",
              "ar.L7.D.No_calls_offered -0.3112   0.0736  -4.2302 0.0000 -0.4555 -0.1670\n",
              "ma.L1.D.No_calls_offered  0.8249      nan      nan    nan     nan     nan\n",
              "ma.L2.D.No_calls_offered -0.8249   0.0313 -26.3523 0.0000 -0.8862 -0.7635\n",
              "ma.L3.D.No_calls_offered -1.0000      nan      nan    nan     nan     nan\n",
              "------------------------------------------------------------------------------------\n",
              "                  Real             Imaginary            Modulus            Frequency\n",
              "------------------------------------------------------------------------------------\n",
              "AR.1             0.7354              -0.7639             1.0604              -0.1280\n",
              "AR.2             0.7354               0.7639             1.0604               0.1280\n",
              "AR.3            -0.3210              -1.1759             1.2189              -0.2924\n",
              "AR.4            -0.3210               1.1759             1.2189               0.2924\n",
              "AR.5            -0.9169              -0.4013             1.0008              -0.4343\n",
              "AR.6            -0.9169               0.4013             1.0008               0.4343\n",
              "AR.7            -1.9199              -0.0000             1.9199              -0.5000\n",
              "MA.1             1.0000              -0.0000             1.0000              -0.0000\n",
              "MA.2            -0.9124              -0.4092             1.0000              -0.4329\n",
              "MA.3            -0.9124               0.4092             1.0000               0.4329\n",
              "=========================================================================\n",
              "\n",
              "\"\"\""
            ]
          },
          "metadata": {},
          "execution_count": 178
        }
      ]
    },
    {
      "cell_type": "markdown",
      "source": [
        "AIC values:\n",
        "AR model -    2568.1238\n",
        "\n",
        "ARMA model  -  2572.6620\n",
        "\n",
        "ARIMA model - 2555.6779 \n",
        "\n",
        "ARMA model got highest AIC score. This would be better fit for forecast."
      ],
      "metadata": {
        "id": "Fsd5FTjVfW-O"
      }
    },
    {
      "cell_type": "code",
      "source": [
        "X = call_data.values\n",
        "X"
      ],
      "metadata": {
        "colab": {
          "base_uri": "https://localhost:8080/"
        },
        "id": "CQwgOwdUj5HZ",
        "outputId": "592979a2-5aff-4ecf-c0ff-d24b1eba2a06"
      },
      "execution_count": null,
      "outputs": [
        {
          "output_type": "execute_result",
          "data": {
            "text/plain": [
              "array([[Timestamp('2017-01-01 00:00:00'), 264],\n",
              "       [Timestamp('2017-02-01 00:00:00'), 528],\n",
              "       [Timestamp('2017-03-01 00:00:00'), 2505],\n",
              "       ...,\n",
              "       [Timestamp('2021-07-29 00:00:00'), 1317],\n",
              "       [Timestamp('2021-07-30 00:00:00'), 1185],\n",
              "       [Timestamp('2021-07-31 00:00:00'), 345]], dtype=object)"
            ]
          },
          "metadata": {},
          "execution_count": 179
        }
      ]
    },
    {
      "cell_type": "code",
      "source": [
        "size = int(len(X) - 7)\n",
        "size"
      ],
      "metadata": {
        "colab": {
          "base_uri": "https://localhost:8080/"
        },
        "id": "sE0FcCKGgOWp",
        "outputId": "90ea50d3-573b-4b96-85b1-1a7c296c8db8"
      },
      "execution_count": null,
      "outputs": [
        {
          "output_type": "execute_result",
          "data": {
            "text/plain": [
              "1666"
            ]
          },
          "metadata": {},
          "execution_count": 180
        }
      ]
    },
    {
      "cell_type": "code",
      "source": [
        "train,test = X[0:size],X[size:len(X)]"
      ],
      "metadata": {
        "id": "gKzgwBkrkqX8"
      },
      "execution_count": null,
      "outputs": []
    },
    {
      "cell_type": "code",
      "source": [
        "history = [X for X in train]\n",
        "predictions=list()"
      ],
      "metadata": {
        "id": "qrSBl69Pksco"
      },
      "execution_count": null,
      "outputs": []
    },
    {
      "cell_type": "code",
      "source": [
        "predictions=list()\n",
        "actual=list()"
      ],
      "metadata": {
        "id": "uzd9rml53GfS"
      },
      "execution_count": null,
      "outputs": []
    },
    {
      "cell_type": "code",
      "source": [
        "from math import sqrt\n",
        "from sklearn.metrics import mean_squared_error\n",
        "for t in range(len(test)):\n",
        "  #model = ARIMA(history[0],order = (7,1,3))\n",
        "  model = ARIMA(call_data.No_calls_offered[0:size].astype(np.float64),\n",
        "              order = (7,1,3))\n",
        "  model_fit = model.fit()\n",
        "  output = model_fit.forecast()\n",
        "  ypred = int(output[0])\n",
        "  predictions.append(ypred)\n",
        "  ytest = test[t][1]\n",
        "  actual.append(ytest)\n",
        "  size=size+1\n",
        "  #history.append(ytest)\n",
        "  print(test[t][0])\n",
        "  print('predicted=%f' %ypred) \n",
        "  print('actual=%f' %ytest)\n",
        "  #rmse = sqrt(mean_squared_error(ytest,ypred))\n"
      ],
      "metadata": {
        "colab": {
          "base_uri": "https://localhost:8080/"
        },
        "id": "7GxidQNNlBuA",
        "outputId": "f3ab904c-ebc5-4da7-9426-1f2ce57a342d"
      },
      "execution_count": null,
      "outputs": [
        {
          "output_type": "stream",
          "name": "stdout",
          "text": [
            "2021-07-25 00:00:00\n",
            "predicted=330.000000\n",
            "actual=262.000000\n",
            "2021-07-26 00:00:00\n",
            "predicted=1269.000000\n",
            "actual=1378.000000\n",
            "2021-07-27 00:00:00\n",
            "predicted=1411.000000\n",
            "actual=1347.000000\n",
            "2021-07-28 00:00:00\n",
            "predicted=1234.000000\n",
            "actual=1374.000000\n",
            "2021-07-29 00:00:00\n",
            "predicted=1283.000000\n",
            "actual=1317.000000\n",
            "2021-07-30 00:00:00\n",
            "predicted=1125.000000\n",
            "actual=1185.000000\n",
            "2021-07-31 00:00:00\n",
            "predicted=394.000000\n",
            "actual=345.000000\n"
          ]
        }
      ]
    },
    {
      "cell_type": "code",
      "source": [
        "predictions"
      ],
      "metadata": {
        "colab": {
          "base_uri": "https://localhost:8080/"
        },
        "id": "4QZCjmE64NZG",
        "outputId": "59e37b76-3b9c-44d1-87b3-8463273bd694"
      },
      "execution_count": null,
      "outputs": [
        {
          "output_type": "execute_result",
          "data": {
            "text/plain": [
              "[330, 1269, 1411, 1234, 1283, 1125, 394]"
            ]
          },
          "metadata": {},
          "execution_count": 185
        }
      ]
    },
    {
      "cell_type": "code",
      "source": [
        "actual"
      ],
      "metadata": {
        "colab": {
          "base_uri": "https://localhost:8080/"
        },
        "id": "asNsx09A4UNC",
        "outputId": "e430f589-60cb-4302-9f00-a7cb0702b3c1"
      },
      "execution_count": null,
      "outputs": [
        {
          "output_type": "execute_result",
          "data": {
            "text/plain": [
              "[262, 1378, 1347, 1374, 1317, 1185, 345]"
            ]
          },
          "metadata": {},
          "execution_count": 186
        }
      ]
    },
    {
      "cell_type": "code",
      "source": [
        "from math import sqrt\n",
        "from sklearn.metrics import mean_squared_error\n",
        "rmse = sqrt(mean_squared_error(actual,predictions))"
      ],
      "metadata": {
        "id": "x5gviNHFzT3t"
      },
      "execution_count": null,
      "outputs": []
    },
    {
      "cell_type": "code",
      "source": [
        "print('RMSE %.2f' %rmse)"
      ],
      "metadata": {
        "colab": {
          "base_uri": "https://localhost:8080/"
        },
        "id": "mDGP8ySt5HyU",
        "outputId": "144e95e8-5480-44bc-af60-4912bfc1116c"
      },
      "execution_count": null,
      "outputs": [
        {
          "output_type": "stream",
          "name": "stdout",
          "text": [
            "RMSE 82.25\n"
          ]
        }
      ]
    },
    {
      "cell_type": "code",
      "source": [
        "## define get_mape\n",
        "import numpy as np\n",
        "def get_mape(act,predicted):\n",
        "  y_true,y_pred=np.array(act),np.array(predicted)\n",
        "  return np.round(np.mean(np.abs((act-predicted)/act))*100,2 )"
      ],
      "metadata": {
        "id": "_75N6xXP5NX8"
      },
      "execution_count": null,
      "outputs": []
    },
    {
      "cell_type": "code",
      "source": [
        "### convert list to series\n",
        "mape_predict = pd.Series(predictions)\n",
        "mape_predict"
      ],
      "metadata": {
        "colab": {
          "base_uri": "https://localhost:8080/"
        },
        "id": "tKPPQRPx7Qhc",
        "outputId": "0d911903-7170-49a2-8046-b96df49ab473"
      },
      "execution_count": null,
      "outputs": [
        {
          "output_type": "execute_result",
          "data": {
            "text/plain": [
              "0     330\n",
              "1    1269\n",
              "2    1411\n",
              "3    1234\n",
              "4    1283\n",
              "5    1125\n",
              "6     394\n",
              "dtype: int64"
            ]
          },
          "metadata": {},
          "execution_count": 190
        }
      ]
    },
    {
      "cell_type": "code",
      "source": [
        "mape_actual = pd.Series(actual)\n",
        "mape_actual"
      ],
      "metadata": {
        "colab": {
          "base_uri": "https://localhost:8080/"
        },
        "id": "7jA_Jirv7xHN",
        "outputId": "a27198bf-ecd5-4568-89cd-af96558cd36f"
      },
      "execution_count": null,
      "outputs": [
        {
          "output_type": "execute_result",
          "data": {
            "text/plain": [
              "0     262\n",
              "1    1378\n",
              "2    1347\n",
              "3    1374\n",
              "4    1317\n",
              "5    1185\n",
              "6     345\n",
              "dtype: int64"
            ]
          },
          "metadata": {},
          "execution_count": 191
        }
      ]
    },
    {
      "cell_type": "code",
      "source": [
        "##### Mean Absolute Percentage Error\n",
        "print('Mape %.2f' % get_mape(mape_actual,mape_predict))"
      ],
      "metadata": {
        "colab": {
          "base_uri": "https://localhost:8080/"
        },
        "id": "owA7q3pq5PjQ",
        "outputId": "511b80a5-e3f8-436e-ad91-fef36091edef"
      },
      "execution_count": null,
      "outputs": [
        {
          "output_type": "stream",
          "name": "stdout",
          "text": [
            "Mape 10.09\n"
          ]
        }
      ]
    }
  ]
}